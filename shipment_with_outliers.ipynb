{
 "cells": [
  {
   "cell_type": "markdown",
   "metadata": {
    "id": "Ky56gYmeQUUe"
   },
   "source": [
    "# Problem Statement"
   ]
  },
  {
   "cell_type": "markdown",
   "metadata": {
    "id": "3qWIcua6Ziyr"
   },
   "source": [
    "SwiftFreight is committed being the industry leader in logistic services through the continuous\n",
    "investment in technology solutions and talented individuals. SwiftFreight is the middleman between the\n",
    "customer and freight services. They will charge the customer and pay to the freight services and during\n",
    "the transaction they will make their profit/revenue. The challenge is, given a request from a customer\n",
    "for shipment they would like to decide the estimated cost for the carriers. This information will enable\n",
    "them to quote the best price for the customer and reduce the revenue leakages and increase their bottom\n",
    "line.\n"
   ]
  },
  {
   "cell_type": "code",
   "execution_count": 1,
   "metadata": {
    "colab": {
     "base_uri": "https://localhost:8080/"
    },
    "id": "IOqgRaDsCzwS",
    "outputId": "07e14411-9bc6-4928-d759-6940eb3a64f1"
   },
   "outputs": [],
   "source": [
    "# from google.colab import drive\n",
    "# drive.mount('/content/drive')\n",
    "# import os\n",
    "# path = '/content/drive/MyDrive/capstone'\n",
    "# os.chdir(path)\n"
   ]
  },
  {
   "cell_type": "markdown",
   "metadata": {
    "id": "tcHF3g1hZJM5"
   },
   "source": [
    "# Importing required libraries\n"
   ]
  },
  {
   "cell_type": "code",
   "execution_count": 2,
   "metadata": {
    "id": "eNP5ncpNXSFZ"
   },
   "outputs": [],
   "source": [
    "#importing necessary libraries\n",
    "import numpy as np\n",
    "import pandas as pd\n",
    "from sklearn.model_selection import train_test_split\n",
    "from sklearn.preprocessing import StandardScaler,OneHotEncoder\n",
    "from sklearn.impute import SimpleImputer\n",
    "import seaborn as sns\n",
    "from matplotlib import pyplot as plt\n",
    "import warnings\n",
    "warnings.filterwarnings('ignore')\n",
    "from sklearn.model_selection import GridSearchCV"
   ]
  },
  {
   "cell_type": "markdown",
   "metadata": {
    "id": "nAQo46jMZR-Q"
   },
   "source": [
    "# Data reading"
   ]
  },
  {
   "cell_type": "code",
   "execution_count": 3,
   "metadata": {
    "colab": {
     "base_uri": "https://localhost:8080/",
     "height": 357
    },
    "id": "2iqhKQzvW_ZP",
    "outputId": "43fcbcc4-7d8a-4606-8d6b-2e47c086c4e6"
   },
   "outputs": [
    {
     "data": {
      "text/html": [
       "<div>\n",
       "<style scoped>\n",
       "    .dataframe tbody tr th:only-of-type {\n",
       "        vertical-align: middle;\n",
       "    }\n",
       "\n",
       "    .dataframe tbody tr th {\n",
       "        vertical-align: top;\n",
       "    }\n",
       "\n",
       "    .dataframe thead th {\n",
       "        text-align: right;\n",
       "    }\n",
       "</style>\n",
       "<table border=\"1\" class=\"dataframe\">\n",
       "  <thead>\n",
       "    <tr style=\"text-align: right;\">\n",
       "      <th></th>\n",
       "      <th>ORDER_NBR</th>\n",
       "      <th>EQUIPMENT_TYPE</th>\n",
       "      <th>CUSTOMER_MILES</th>\n",
       "      <th>WEIGHT</th>\n",
       "      <th>ORDER_COST</th>\n",
       "      <th>FIRST_PICK_ZIP</th>\n",
       "      <th>FIRST_PICK_EARLY_APPT</th>\n",
       "      <th>FIRST_PICK_LATE_APPT</th>\n",
       "      <th>LAST_DELIVERY_ZIP</th>\n",
       "      <th>LAST_DELIVERY_EARLY_APPT</th>\n",
       "      <th>LAST_DELIVERY_LATE_APPT</th>\n",
       "      <th>IS_HAZARDOUS</th>\n",
       "      <th>CREATED_DATE</th>\n",
       "    </tr>\n",
       "  </thead>\n",
       "  <tbody>\n",
       "    <tr>\n",
       "      <th>0</th>\n",
       "      <td>535361133</td>\n",
       "      <td>53 FLATBED</td>\n",
       "      <td>802</td>\n",
       "      <td>42000</td>\n",
       "      <td>0.00</td>\n",
       "      <td>21224</td>\n",
       "      <td>2015-07-13 07:30:00</td>\n",
       "      <td>2015-07-13 15:00:00</td>\n",
       "      <td>62707</td>\n",
       "      <td>2015-07-14 08:00:00</td>\n",
       "      <td>2015-07-14 16:00:00</td>\n",
       "      <td>N</td>\n",
       "      <td>2015-07-01 10:22:00</td>\n",
       "    </tr>\n",
       "    <tr>\n",
       "      <th>1</th>\n",
       "      <td>1499443993</td>\n",
       "      <td>V</td>\n",
       "      <td>0</td>\n",
       "      <td>40500</td>\n",
       "      <td>875.00</td>\n",
       "      <td>L1W 3H9</td>\n",
       "      <td>2015-07-06 14:00:00</td>\n",
       "      <td>2015-07-06 14:00:00</td>\n",
       "      <td>13619</td>\n",
       "      <td>2015-07-07 07:00:00</td>\n",
       "      <td>2015-07-07 16:00:00</td>\n",
       "      <td>N</td>\n",
       "      <td>2015-07-02 10:37:00</td>\n",
       "    </tr>\n",
       "    <tr>\n",
       "      <th>2</th>\n",
       "      <td>1058279607</td>\n",
       "      <td>NaN</td>\n",
       "      <td>774</td>\n",
       "      <td>0</td>\n",
       "      <td>88.14</td>\n",
       "      <td>46037</td>\n",
       "      <td>2015-07-01 08:00:00</td>\n",
       "      <td>2015-07-02 17:00:00</td>\n",
       "      <td>73107</td>\n",
       "      <td>2015-07-07 08:00:00</td>\n",
       "      <td>2015-07-07 17:00:00</td>\n",
       "      <td>N</td>\n",
       "      <td>2015-07-01 15:05:00</td>\n",
       "    </tr>\n",
       "    <tr>\n",
       "      <th>3</th>\n",
       "      <td>2093496262</td>\n",
       "      <td>V</td>\n",
       "      <td>0</td>\n",
       "      <td>40500</td>\n",
       "      <td>875.00</td>\n",
       "      <td>L1W 3H9</td>\n",
       "      <td>2015-07-07 14:00:00</td>\n",
       "      <td>2015-07-07 14:00:00</td>\n",
       "      <td>13619</td>\n",
       "      <td>2015-07-08 07:00:00</td>\n",
       "      <td>2015-07-08 16:00:00</td>\n",
       "      <td>N</td>\n",
       "      <td>2015-07-02 10:38:00</td>\n",
       "    </tr>\n",
       "    <tr>\n",
       "      <th>4</th>\n",
       "      <td>2373724838</td>\n",
       "      <td>V</td>\n",
       "      <td>0</td>\n",
       "      <td>40500</td>\n",
       "      <td>875.00</td>\n",
       "      <td>L1W 3H9</td>\n",
       "      <td>2015-07-08 14:00:00</td>\n",
       "      <td>2015-07-08 14:00:00</td>\n",
       "      <td>13619</td>\n",
       "      <td>2015-07-09 07:00:00</td>\n",
       "      <td>2015-07-09 16:00:00</td>\n",
       "      <td>N</td>\n",
       "      <td>2015-07-02 11:16:00</td>\n",
       "    </tr>\n",
       "  </tbody>\n",
       "</table>\n",
       "</div>"
      ],
      "text/plain": [
       "    ORDER_NBR EQUIPMENT_TYPE  CUSTOMER_MILES  WEIGHT  ORDER_COST  \\\n",
       "0   535361133     53 FLATBED             802   42000        0.00   \n",
       "1  1499443993              V               0   40500      875.00   \n",
       "2  1058279607            NaN             774       0       88.14   \n",
       "3  2093496262              V               0   40500      875.00   \n",
       "4  2373724838              V               0   40500      875.00   \n",
       "\n",
       "  FIRST_PICK_ZIP FIRST_PICK_EARLY_APPT FIRST_PICK_LATE_APPT LAST_DELIVERY_ZIP  \\\n",
       "0          21224   2015-07-13 07:30:00  2015-07-13 15:00:00             62707   \n",
       "1        L1W 3H9   2015-07-06 14:00:00  2015-07-06 14:00:00             13619   \n",
       "2          46037   2015-07-01 08:00:00  2015-07-02 17:00:00             73107   \n",
       "3        L1W 3H9   2015-07-07 14:00:00  2015-07-07 14:00:00             13619   \n",
       "4        L1W 3H9   2015-07-08 14:00:00  2015-07-08 14:00:00             13619   \n",
       "\n",
       "  LAST_DELIVERY_EARLY_APPT LAST_DELIVERY_LATE_APPT IS_HAZARDOUS  \\\n",
       "0      2015-07-14 08:00:00     2015-07-14 16:00:00            N   \n",
       "1      2015-07-07 07:00:00     2015-07-07 16:00:00            N   \n",
       "2      2015-07-07 08:00:00     2015-07-07 17:00:00            N   \n",
       "3      2015-07-08 07:00:00     2015-07-08 16:00:00            N   \n",
       "4      2015-07-09 07:00:00     2015-07-09 16:00:00            N   \n",
       "\n",
       "         CREATED_DATE  \n",
       "0 2015-07-01 10:22:00  \n",
       "1 2015-07-02 10:37:00  \n",
       "2 2015-07-01 15:05:00  \n",
       "3 2015-07-02 10:38:00  \n",
       "4 2015-07-02 11:16:00  "
      ]
     },
     "execution_count": 3,
     "metadata": {},
     "output_type": "execute_result"
    }
   ],
   "source": [
    "data = pd.read_excel('Quickfreightdata.xlsx',na_values=[' ','np.nan',',','.','#']) #reading the dataframe\n",
    "data.head() #get top five rows"
   ]
  },
  {
   "cell_type": "code",
   "execution_count": 4,
   "metadata": {
    "colab": {
     "base_uri": "https://localhost:8080/"
    },
    "id": "NTZqEhm4XQ6s",
    "outputId": "ea71ce60-1fd0-4b07-cd45-429b8ce9ff93"
   },
   "outputs": [
    {
     "data": {
      "text/plain": [
       "(18739, 13)"
      ]
     },
     "execution_count": 4,
     "metadata": {},
     "output_type": "execute_result"
    }
   ],
   "source": [
    "#dimension of the dataframe\n",
    "data.shape"
   ]
  },
  {
   "cell_type": "code",
   "execution_count": 5,
   "metadata": {
    "colab": {
     "base_uri": "https://localhost:8080/"
    },
    "id": "xLZu9sQAXnpw",
    "outputId": "023057c7-c1b7-4395-be10-02387b3cc217"
   },
   "outputs": [
    {
     "name": "stdout",
     "output_type": "stream",
     "text": [
      "<class 'pandas.core.frame.DataFrame'>\n",
      "RangeIndex: 18739 entries, 0 to 18738\n",
      "Data columns (total 13 columns):\n",
      " #   Column                    Non-Null Count  Dtype         \n",
      "---  ------                    --------------  -----         \n",
      " 0   ORDER_NBR                 18739 non-null  int64         \n",
      " 1   EQUIPMENT_TYPE            17728 non-null  object        \n",
      " 2   CUSTOMER_MILES            18739 non-null  int64         \n",
      " 3   WEIGHT                    18739 non-null  int64         \n",
      " 4   ORDER_COST                18733 non-null  float64       \n",
      " 5   FIRST_PICK_ZIP            18739 non-null  object        \n",
      " 6   FIRST_PICK_EARLY_APPT     18479 non-null  datetime64[ns]\n",
      " 7   FIRST_PICK_LATE_APPT      18435 non-null  datetime64[ns]\n",
      " 8   LAST_DELIVERY_ZIP         18739 non-null  object        \n",
      " 9   LAST_DELIVERY_EARLY_APPT  18410 non-null  datetime64[ns]\n",
      " 10  LAST_DELIVERY_LATE_APPT   18353 non-null  datetime64[ns]\n",
      " 11  IS_HAZARDOUS              18739 non-null  object        \n",
      " 12  CREATED_DATE              18739 non-null  datetime64[ns]\n",
      "dtypes: datetime64[ns](5), float64(1), int64(3), object(4)\n",
      "memory usage: 1.9+ MB\n"
     ]
    }
   ],
   "source": [
    "data.info()"
   ]
  },
  {
   "cell_type": "markdown",
   "metadata": {},
   "source": [
    "## Descriptive Statistics"
   ]
  },
  {
   "cell_type": "code",
   "execution_count": 6,
   "metadata": {
    "colab": {
     "base_uri": "https://localhost:8080/",
     "height": 747
    },
    "id": "F-rDmc5oDUxT",
    "outputId": "d746c974-f92e-431f-e467-db22736cd53c",
    "scrolled": false
   },
   "outputs": [
    {
     "data": {
      "text/html": [
       "<div>\n",
       "<style scoped>\n",
       "    .dataframe tbody tr th:only-of-type {\n",
       "        vertical-align: middle;\n",
       "    }\n",
       "\n",
       "    .dataframe tbody tr th {\n",
       "        vertical-align: top;\n",
       "    }\n",
       "\n",
       "    .dataframe thead th {\n",
       "        text-align: right;\n",
       "    }\n",
       "</style>\n",
       "<table border=\"1\" class=\"dataframe\">\n",
       "  <thead>\n",
       "    <tr style=\"text-align: right;\">\n",
       "      <th></th>\n",
       "      <th>ORDER_NBR</th>\n",
       "      <th>CUSTOMER_MILES</th>\n",
       "      <th>WEIGHT</th>\n",
       "      <th>ORDER_COST</th>\n",
       "    </tr>\n",
       "  </thead>\n",
       "  <tbody>\n",
       "    <tr>\n",
       "      <th>count</th>\n",
       "      <td>1.873900e+04</td>\n",
       "      <td>18739.000000</td>\n",
       "      <td>18739.000000</td>\n",
       "      <td>18733.000000</td>\n",
       "    </tr>\n",
       "    <tr>\n",
       "      <th>mean</th>\n",
       "      <td>1.417056e+09</td>\n",
       "      <td>588.220556</td>\n",
       "      <td>25219.585837</td>\n",
       "      <td>954.230941</td>\n",
       "    </tr>\n",
       "    <tr>\n",
       "      <th>std</th>\n",
       "      <td>6.642482e+08</td>\n",
       "      <td>511.968568</td>\n",
       "      <td>16309.867000</td>\n",
       "      <td>938.818390</td>\n",
       "    </tr>\n",
       "    <tr>\n",
       "      <th>min</th>\n",
       "      <td>5.322560e+05</td>\n",
       "      <td>0.000000</td>\n",
       "      <td>0.000000</td>\n",
       "      <td>0.000000</td>\n",
       "    </tr>\n",
       "    <tr>\n",
       "      <th>25%</th>\n",
       "      <td>8.640125e+08</td>\n",
       "      <td>254.000000</td>\n",
       "      <td>8000.000000</td>\n",
       "      <td>400.000000</td>\n",
       "    </tr>\n",
       "    <tr>\n",
       "      <th>50%</th>\n",
       "      <td>1.417617e+09</td>\n",
       "      <td>436.000000</td>\n",
       "      <td>28192.000000</td>\n",
       "      <td>700.000000</td>\n",
       "    </tr>\n",
       "    <tr>\n",
       "      <th>75%</th>\n",
       "      <td>1.973634e+09</td>\n",
       "      <td>716.000000</td>\n",
       "      <td>42000.000000</td>\n",
       "      <td>1300.000000</td>\n",
       "    </tr>\n",
       "    <tr>\n",
       "      <th>max</th>\n",
       "      <td>2.821138e+09</td>\n",
       "      <td>3733.000000</td>\n",
       "      <td>300000.000000</td>\n",
       "      <td>8000.000000</td>\n",
       "    </tr>\n",
       "  </tbody>\n",
       "</table>\n",
       "</div>"
      ],
      "text/plain": [
       "          ORDER_NBR  CUSTOMER_MILES         WEIGHT    ORDER_COST\n",
       "count  1.873900e+04    18739.000000   18739.000000  18733.000000\n",
       "mean   1.417056e+09      588.220556   25219.585837    954.230941\n",
       "std    6.642482e+08      511.968568   16309.867000    938.818390\n",
       "min    5.322560e+05        0.000000       0.000000      0.000000\n",
       "25%    8.640125e+08      254.000000    8000.000000    400.000000\n",
       "50%    1.417617e+09      436.000000   28192.000000    700.000000\n",
       "75%    1.973634e+09      716.000000   42000.000000   1300.000000\n",
       "max    2.821138e+09     3733.000000  300000.000000   8000.000000"
      ]
     },
     "execution_count": 6,
     "metadata": {},
     "output_type": "execute_result"
    }
   ],
   "source": [
    "#descriptive statistics\n",
    "data.describe()"
   ]
  },
  {
   "cell_type": "code",
   "execution_count": 9,
   "metadata": {
    "colab": {
     "base_uri": "https://localhost:8080/"
    },
    "id": "ztP-XEwNeZiB",
    "outputId": "0bce6de6-e9f6-4291-bff2-020a89bd27ec"
   },
   "outputs": [
    {
     "data": {
      "text/plain": [
       "Index(['ORDER_NBR', 'EQUIPMENT_TYPE', 'CUSTOMER_MILES', 'WEIGHT', 'ORDER_COST',\n",
       "       'FIRST_PICK_ZIP', 'FIRST_PICK_EARLY_APPT', 'FIRST_PICK_LATE_APPT',\n",
       "       'LAST_DELIVERY_ZIP', 'LAST_DELIVERY_EARLY_APPT',\n",
       "       'LAST_DELIVERY_LATE_APPT', 'IS_HAZARDOUS', 'CREATED_DATE'],\n",
       "      dtype='object')"
      ]
     },
     "execution_count": 9,
     "metadata": {},
     "output_type": "execute_result"
    }
   ],
   "source": [
    "#get all columns names\n",
    "data.columns"
   ]
  },
  {
   "cell_type": "code",
   "execution_count": 10,
   "metadata": {
    "colab": {
     "base_uri": "https://localhost:8080/"
    },
    "id": "6p6fxI54kVLf",
    "outputId": "8c0bc6a8-bea5-45b3-9de3-caf1fbc0690a"
   },
   "outputs": [
    {
     "data": {
      "text/plain": [
       "ORDER_NBR                   18739\n",
       "EQUIPMENT_TYPE                 28\n",
       "CUSTOMER_MILES               1411\n",
       "WEIGHT                       2678\n",
       "ORDER_COST                    758\n",
       "FIRST_PICK_ZIP                842\n",
       "FIRST_PICK_EARLY_APPT        3090\n",
       "FIRST_PICK_LATE_APPT         3155\n",
       "LAST_DELIVERY_ZIP            1843\n",
       "LAST_DELIVERY_EARLY_APPT     3699\n",
       "LAST_DELIVERY_LATE_APPT      3874\n",
       "IS_HAZARDOUS                    2\n",
       "CREATED_DATE                12181\n",
       "dtype: int64"
      ]
     },
     "execution_count": 10,
     "metadata": {},
     "output_type": "execute_result"
    }
   ],
   "source": [
    "#getting unique values in all columns\n",
    "data.nunique()"
   ]
  },
  {
   "cell_type": "code",
   "execution_count": 11,
   "metadata": {
    "colab": {
     "base_uri": "https://localhost:8080/"
    },
    "id": "yIL5GzdRnsDB",
    "outputId": "7a67199c-300c-47dc-b6fe-70d91f4f8ef4"
   },
   "outputs": [
    {
     "data": {
      "text/plain": [
       "ORDER_NBR                      0\n",
       "EQUIPMENT_TYPE              1011\n",
       "CUSTOMER_MILES                 0\n",
       "WEIGHT                         0\n",
       "ORDER_COST                     6\n",
       "FIRST_PICK_ZIP                 0\n",
       "FIRST_PICK_EARLY_APPT        260\n",
       "FIRST_PICK_LATE_APPT         304\n",
       "LAST_DELIVERY_ZIP              0\n",
       "LAST_DELIVERY_EARLY_APPT     329\n",
       "LAST_DELIVERY_LATE_APPT      386\n",
       "IS_HAZARDOUS                   0\n",
       "CREATED_DATE                   0\n",
       "dtype: int64"
      ]
     },
     "execution_count": 11,
     "metadata": {},
     "output_type": "execute_result"
    }
   ],
   "source": [
    "#knowing number of null values present in all columns\n",
    "data.isnull().sum()"
   ]
  },
  {
   "cell_type": "markdown",
   "metadata": {
    "id": "r-EZQKYswsju"
   },
   "source": [
    "#### There is null values in target column named ORDER_COST.Removed the corresponding records wherever null values present in ORDER_COST column"
   ]
  },
  {
   "cell_type": "code",
   "execution_count": 12,
   "metadata": {
    "id": "dbaDVfdElv_p"
   },
   "outputs": [],
   "source": [
    "data.drop(data[data[['ORDER_COST']].isnull().any(axis=1)].index,inplace=True) #dropping the null values present in ordercost"
   ]
  },
  {
   "cell_type": "code",
   "execution_count": 13,
   "metadata": {},
   "outputs": [
    {
     "data": {
      "text/plain": [
       "(18733, 13)"
      ]
     },
     "execution_count": 13,
     "metadata": {},
     "output_type": "execute_result"
    }
   ],
   "source": [
    "data.shape"
   ]
  },
  {
   "cell_type": "code",
   "execution_count": 14,
   "metadata": {},
   "outputs": [],
   "source": [
    "data1 = data[data['ORDER_COST']!=0]"
   ]
  },
  {
   "cell_type": "code",
   "execution_count": 15,
   "metadata": {},
   "outputs": [
    {
     "data": {
      "text/plain": [
       "(15206, 13)"
      ]
     },
     "execution_count": 15,
     "metadata": {},
     "output_type": "execute_result"
    }
   ],
   "source": [
    "data1.shape"
   ]
  },
  {
   "cell_type": "code",
   "execution_count": 16,
   "metadata": {
    "id": "Py2KFdUv1GvA"
   },
   "outputs": [],
   "source": [
    "#getting all rwos containing null values present just to know\n",
    "null_rows = data1[data1[['FIRST_PICK_EARLY_APPT','FIRST_PICK_LATE_APPT','LAST_DELIVERY_EARLY_APPT','LAST_DELIVERY_LATE_APPT']].isnull().any(axis=1)]"
   ]
  },
  {
   "cell_type": "code",
   "execution_count": 17,
   "metadata": {
    "colab": {
     "base_uri": "https://localhost:8080/",
     "height": 661
    },
    "id": "dTsN96E-1UhQ",
    "outputId": "c4fdcf3f-a5b8-456f-832f-43ccbdb6ca02"
   },
   "outputs": [
    {
     "data": {
      "text/plain": [
       "(154, 13)"
      ]
     },
     "execution_count": 17,
     "metadata": {},
     "output_type": "execute_result"
    }
   ],
   "source": [
    "null_rows.shape"
   ]
  },
  {
   "cell_type": "code",
   "execution_count": 18,
   "metadata": {
    "id": "KC-K4mETy0g4"
   },
   "outputs": [],
   "source": [
    "#segregating all columns into different categories based on its nature\n",
    "num_cols = ['CUSTOMER_MILES','WEIGHT']\n",
    "cat_cols = ['EQUIPMENT_TYPE','IS_HAZARDOUS']\n",
    "date_cols = ['FIRST_PICK_EARLY_APPT','FIRST_PICK_LATE_APPT','LAST_DELIVERY_EARLY_APPT','LAST_DELIVERY_LATE_APPT','CREATED_DATE']\n",
    "target = ['ORDER_COST']\n",
    "to_drop = ['ORDER_NBR','FIRST_PICK_ZIP','LAST_DELIVERY_ZIP']"
   ]
  },
  {
   "cell_type": "code",
   "execution_count": 19,
   "metadata": {},
   "outputs": [
    {
     "data": {
      "text/plain": [
       "(18733, 13)"
      ]
     },
     "execution_count": 19,
     "metadata": {},
     "output_type": "execute_result"
    }
   ],
   "source": [
    "data.shape"
   ]
  },
  {
   "cell_type": "code",
   "execution_count": 20,
   "metadata": {},
   "outputs": [],
   "source": [
    "train_new=data1.copy()"
   ]
  },
  {
   "cell_type": "code",
   "execution_count": 21,
   "metadata": {},
   "outputs": [
    {
     "data": {
      "text/plain": [
       "(14106, 13)"
      ]
     },
     "execution_count": 21,
     "metadata": {},
     "output_type": "execute_result"
    }
   ],
   "source": [
    "#creating new dataframe removing outliers in both claim amount and close amount\n",
    "for col in num_cols:\n",
    "    train_new[col].sort_values()\n",
    "    q1=train_new[col].quantile(0.25)\n",
    "    q3=train_new[col].quantile(0.75)\n",
    "    IQR=q3-q1\n",
    "    upper_whisker=q3+(1.5*IQR)\n",
    "    lower_whisker=q1-(1.5*IQR)\n",
    "    #train_new[col]=np.where(train_new[col]>upper_whisker,upper_whisker,np.where(train_new[col]<lower_whisker,lower_whisker,train_new[col]))\n",
    "    #train_new.drop([train_new[col]],axis=1)\n",
    "    index = train_new[ (train_new[col] > upper_whisker) | (train_new[col] < lower_whisker)].index\n",
    "    train_new.drop(index,inplace=True)\n",
    "train_new.shape"
   ]
  },
  {
   "cell_type": "code",
   "execution_count": 22,
   "metadata": {},
   "outputs": [
    {
     "data": {
      "image/png": "[encoded data removed]",
      "text/plain": [
       "<Figure size 1080x216 with 2 Axes>"
      ]
     },
     "metadata": {
      "needs_background": "light"
     },
     "output_type": "display_data"
    },
    {
     "data": {
      "image/png": "[encoded data removed]",
      "text/plain": [
       "<Figure size 1080x216 with 2 Axes>"
      ]
     },
     "metadata": {
      "needs_background": "light"
     },
     "output_type": "display_data"
    },
    {
     "data": {
      "text/plain": [
       "<Figure size 432x288 with 0 Axes>"
      ]
     },
     "metadata": {},
     "output_type": "display_data"
    },
    {
     "data": {
      "image/png": "[encoded data removed]",
      "text/plain": [
       "<Figure size 1080x216 with 2 Axes>"
      ]
     },
     "metadata": {
      "needs_background": "light"
     },
     "output_type": "display_data"
    },
    {
     "data": {
      "image/png": "[encoded data removed]",
      "text/plain": [
       "<Figure size 1080x216 with 2 Axes>"
      ]
     },
     "metadata": {
      "needs_background": "light"
     },
     "output_type": "display_data"
    },
    {
     "data": {
      "text/plain": [
       "<Figure size 432x288 with 0 Axes>"
      ]
     },
     "metadata": {},
     "output_type": "display_data"
    }
   ],
   "source": [
    "sns.set_style('dark')\n",
    "for col in data[num_cols]:\n",
    "    plt.figure(figsize=(15,3))\n",
    "    \n",
    "    plt.subplot(141)\n",
    "    ax=sns.distplot(data[col])\n",
    "    plt.title(\"Before\")\n",
    "    handles, labels = ax.get_legend_handles_labels()\n",
    "    plt.legend(handles, labels)\n",
    "    \n",
    "    plt.subplot(142)\n",
    "    sns.distplot(train_new[col])\n",
    "    plt.title(\"After\")\n",
    "    handles, labels = ax.get_legend_handles_labels()\n",
    "    plt.legend(handles, labels)\n",
    "    plt.show()\n",
    "    \n",
    "    plt.figure(figsize=(15,3))\n",
    "    plt.subplot(143)\n",
    "    sns.boxplot(data[col])\n",
    "    plt.title(\"Before\")\n",
    "    handles, labels = ax.get_legend_handles_labels()\n",
    "    plt.legend(handles, labels)\n",
    "    \n",
    "    plt.subplot(144)\n",
    "    sns.boxplot(train_new[col])\n",
    "    plt.title(\"After\")\n",
    "    handles, labels = ax.get_legend_handles_labels()\n",
    "    plt.legend(handles, labels)\n",
    "    plt.show()\n",
    "    plt.tight_layout()\n",
    "    "
   ]
  },
  {
   "cell_type": "code",
   "execution_count": 23,
   "metadata": {},
   "outputs": [
    {
     "data": {
      "text/plain": [
       "0.00       3527\n",
       "600.00     1011\n",
       "700.00      674\n",
       "500.00      634\n",
       "1000.00     595\n",
       "           ... \n",
       "122.32        1\n",
       "473.87        1\n",
       "223.81        1\n",
       "77.48         1\n",
       "2280.00       1\n",
       "Name: ORDER_COST, Length: 758, dtype: int64"
      ]
     },
     "execution_count": 23,
     "metadata": {},
     "output_type": "execute_result"
    }
   ],
   "source": [
    "data['ORDER_COST'].value_counts()"
   ]
  },
  {
   "cell_type": "markdown",
   "metadata": {
    "id": "nJylFnl4td_x"
   },
   "source": [
    "# Visualization\n"
   ]
  },
  {
   "cell_type": "markdown",
   "metadata": {
    "id": "rOfz6YGsAWT7"
   },
   "source": [
    "# **1. shipment cost distribution**\n",
    "\n"
   ]
  },
  {
   "cell_type": "code",
   "execution_count": 24,
   "metadata": {
    "colab": {
     "base_uri": "https://localhost:8080/",
     "height": 472
    },
    "id": "ld5rBMWrEvCm",
    "outputId": "6c7b2e57-3657-4e46-cb54-81823c63647b"
   },
   "outputs": [
    {
     "data": {
      "image/png": "[encoded data removed]",
      "text/plain": [
       "<Figure size 648x504 with 1 Axes>"
      ]
     },
     "metadata": {
      "needs_background": "light"
     },
     "output_type": "display_data"
    }
   ],
   "source": [
    "plt.figure(figsize=(9,7))\n",
    "sns.histplot(data['ORDER_COST'],color='green')\n",
    "plt.xlabel('ORDER_COST')\n",
    "plt.ylabel('Count')\n",
    "plt.title('shipment cost distribution')\n",
    "plt.show()"
   ]
  },
  {
   "cell_type": "markdown",
   "metadata": {
    "id": "O7VoHMlbF27a"
   },
   "source": [
    "#### From the above plot,nearly 3500 shipping orders have no order cost and 1000 orders have minimum value of 600 rupees"
   ]
  },
  {
   "cell_type": "markdown",
   "metadata": {
    "id": "4x1o_S2AAUnj"
   },
   "source": [
    "# **2.Does the shipment cost depend on the distance?**\n",
    "\n",
    "\n",
    "\n",
    "\n",
    "\n"
   ]
  },
  {
   "cell_type": "code",
   "execution_count": 25,
   "metadata": {
    "colab": {
     "base_uri": "https://localhost:8080/",
     "height": 472
    },
    "id": "sbwXxmBgtyM_",
    "outputId": "e5d20ba1-5954-4699-9ad3-9f13d41e34ea"
   },
   "outputs": [
    {
     "data": {
      "image/png": "[encoded data removed]",
      "text/plain": [
       "<Figure size 648x504 with 1 Axes>"
      ]
     },
     "metadata": {
      "needs_background": "light"
     },
     "output_type": "display_data"
    }
   ],
   "source": [
    "plt.figure(figsize=(9,7))\n",
    "plt.scatter(data['CUSTOMER_MILES'],data['ORDER_COST'],s=2,)\n",
    "plt.xlabel('CUSTOMER_MILES')\n",
    "plt.ylabel('ORDER_COST')\n",
    "plt.title('Relation between distance and order cost')\n",
    "plt.show()"
   ]
  },
  {
   "cell_type": "markdown",
   "metadata": {
    "id": "qkvgmUjFJYdG"
   },
   "source": [
    "#### From the above plot,there is increasing in order_cost as increasing in customer miles."
   ]
  },
  {
   "cell_type": "markdown",
   "metadata": {
    "id": "M4fWhyFpBNKj"
   },
   "source": [
    "\n",
    "\n",
    "---\n",
    "\n",
    "## **3)  Is the weight of the shipment an important predictor to decide the shipment cost?**\n",
    "\n",
    "\n",
    "---\n",
    "\n"
   ]
  },
  {
   "cell_type": "code",
   "execution_count": 26,
   "metadata": {
    "colab": {
     "base_uri": "https://localhost:8080/",
     "height": 472
    },
    "id": "KfQrWAQpwXlp",
    "outputId": "6b1eeeb0-3b03-4ecf-a116-2c86854f5cff"
   },
   "outputs": [
    {
     "data": {
      "image/png": "[encoded data removed]",
      "text/plain": [
       "<Figure size 648x504 with 1 Axes>"
      ]
     },
     "metadata": {
      "needs_background": "light"
     },
     "output_type": "display_data"
    }
   ],
   "source": [
    "plt.figure(figsize=(9,7))\n",
    "plt.scatter(data['WEIGHT'],data['ORDER_COST'],s=2,color='red')\n",
    "plt.xlabel('WEIGHT')\n",
    "plt.ylabel('ORDER_COST')\n",
    "plt.title('Relation between weight and order cost')\n",
    "plt.show()"
   ]
  },
  {
   "cell_type": "markdown",
   "metadata": {
    "id": "GCEVIWyLW6wh"
   },
   "source": [
    "## i. Hypothesis testing for whether the weight have predictable nature or not"
   ]
  },
  {
   "cell_type": "markdown",
   "metadata": {
    "id": "26MWRmw2aBLA"
   },
   "source": [
    "#### Null Hypothesis : The Weight do not having statistically significant predictable nature to predict the shipment cost.\n",
    "\n",
    "\n"
   ]
  },
  {
   "cell_type": "markdown",
   "metadata": {},
   "source": [
    "#### Alternative Hypothesis : The weight having significant predictable nature to predict the shipment cost"
   ]
  },
  {
   "cell_type": "code",
   "execution_count": 27,
   "metadata": {
    "id": "YE4mr3fvUqkv"
   },
   "outputs": [],
   "source": [
    "import scipy.stats as stats"
   ]
  },
  {
   "cell_type": "code",
   "execution_count": 28,
   "metadata": {
    "id": "6KcJrrcyU93S"
   },
   "outputs": [],
   "source": [
    "r,p_value =stats.pearsonr(data['WEIGHT'],data['ORDER_COST'])"
   ]
  },
  {
   "cell_type": "code",
   "execution_count": 29,
   "metadata": {
    "colab": {
     "base_uri": "https://localhost:8080/"
    },
    "id": "ncY3L3cMVOeS",
    "outputId": "44f24d91-32df-43bf-be10-176eb95e108a"
   },
   "outputs": [
    {
     "name": "stdout",
     "output_type": "stream",
     "text": [
      "Pearson correlation coefficient:  0.2651718259708916\n",
      "p-value:  6.111930840435775e-299\n"
     ]
    }
   ],
   "source": [
    "print(\"Pearson correlation coefficient: \", r)\n",
    "print(\"p-value: \", p_value)"
   ]
  },
  {
   "cell_type": "markdown",
   "metadata": {
    "id": "U9hVzAtQXc8F"
   },
   "source": [
    "#### From the above hypothesis testing,the p-value which is very very less than significance value of 5%.It will conclude that the weight having (correlation of 0.27,less predictable) predictable nature to predict the shippment cost\n",
    "\n",
    " "
   ]
  },
  {
   "cell_type": "code",
   "execution_count": null,
   "metadata": {
    "id": "rAjK4LKVgFd_"
   },
   "outputs": [],
   "source": []
  },
  {
   "cell_type": "markdown",
   "metadata": {
    "id": "pdQ1FlH4gpI6"
   },
   "source": [
    "# 4. Is the Shipment cost varying depending on the source and destinations?"
   ]
  },
  {
   "cell_type": "code",
   "execution_count": 30,
   "metadata": {
    "colab": {
     "base_uri": "https://localhost:8080/",
     "height": 363
    },
    "id": "JjY0ybYyzG8K",
    "outputId": "9a3dd1e2-855e-4c47-b960-968af694c0eb"
   },
   "outputs": [
    {
     "data": {
      "text/html": [
       "<div>\n",
       "<style scoped>\n",
       "    .dataframe tbody tr th:only-of-type {\n",
       "        vertical-align: middle;\n",
       "    }\n",
       "\n",
       "    .dataframe tbody tr th {\n",
       "        vertical-align: top;\n",
       "    }\n",
       "\n",
       "    .dataframe thead th {\n",
       "        text-align: right;\n",
       "    }\n",
       "</style>\n",
       "<table border=\"1\" class=\"dataframe\">\n",
       "  <thead>\n",
       "    <tr style=\"text-align: right;\">\n",
       "      <th></th>\n",
       "      <th>FIRST_PICK_ZIP</th>\n",
       "      <th>LAST_DELIVERY_ZIP</th>\n",
       "      <th>ORDER_COST</th>\n",
       "    </tr>\n",
       "  </thead>\n",
       "  <tbody>\n",
       "    <tr>\n",
       "      <th>0</th>\n",
       "      <td>93901</td>\n",
       "      <td>60632</td>\n",
       "      <td>179400.0</td>\n",
       "    </tr>\n",
       "    <tr>\n",
       "      <th>1</th>\n",
       "      <td>29016</td>\n",
       "      <td>29650</td>\n",
       "      <td>169500.0</td>\n",
       "    </tr>\n",
       "    <tr>\n",
       "      <th>2</th>\n",
       "      <td>23185</td>\n",
       "      <td>43229</td>\n",
       "      <td>160938.0</td>\n",
       "    </tr>\n",
       "    <tr>\n",
       "      <th>3</th>\n",
       "      <td>14625</td>\n",
       "      <td>43217</td>\n",
       "      <td>154600.0</td>\n",
       "    </tr>\n",
       "    <tr>\n",
       "      <th>4</th>\n",
       "      <td>24382</td>\n",
       "      <td>7885</td>\n",
       "      <td>151575.0</td>\n",
       "    </tr>\n",
       "    <tr>\n",
       "      <th>5</th>\n",
       "      <td>50010</td>\n",
       "      <td>53094</td>\n",
       "      <td>143950.0</td>\n",
       "    </tr>\n",
       "    <tr>\n",
       "      <th>6</th>\n",
       "      <td>24382</td>\n",
       "      <td>21804</td>\n",
       "      <td>129090.0</td>\n",
       "    </tr>\n",
       "    <tr>\n",
       "      <th>7</th>\n",
       "      <td>64870</td>\n",
       "      <td>46176</td>\n",
       "      <td>126875.0</td>\n",
       "    </tr>\n",
       "    <tr>\n",
       "      <th>8</th>\n",
       "      <td>47960</td>\n",
       "      <td>43607</td>\n",
       "      <td>124200.0</td>\n",
       "    </tr>\n",
       "    <tr>\n",
       "      <th>9</th>\n",
       "      <td>24382</td>\n",
       "      <td>18087</td>\n",
       "      <td>119475.0</td>\n",
       "    </tr>\n",
       "  </tbody>\n",
       "</table>\n",
       "</div>"
      ],
      "text/plain": [
       "  FIRST_PICK_ZIP LAST_DELIVERY_ZIP  ORDER_COST\n",
       "0          93901             60632    179400.0\n",
       "1          29016             29650    169500.0\n",
       "2          23185             43229    160938.0\n",
       "3          14625             43217    154600.0\n",
       "4          24382              7885    151575.0\n",
       "5          50010             53094    143950.0\n",
       "6          24382             21804    129090.0\n",
       "7          64870             46176    126875.0\n",
       "8          47960             43607    124200.0\n",
       "9          24382             18087    119475.0"
      ]
     },
     "execution_count": 30,
     "metadata": {},
     "output_type": "execute_result"
    }
   ],
   "source": [
    "ins1=data.groupby(['FIRST_PICK_ZIP','LAST_DELIVERY_ZIP'])['ORDER_COST'].sum().reset_index().sort_values('ORDER_COST',ascending=False,ignore_index=True)\n",
    "ins1.head(10)"
   ]
  },
  {
   "cell_type": "markdown",
   "metadata": {
    "id": "sqnw-NA_ehqa"
   },
   "source": [
    "# 5. Does cost varies depending on the whether the item is hazardous or not ?\n",
    "\n",
    "\n",
    "\n",
    "\n",
    "\n",
    "\n"
   ]
  },
  {
   "cell_type": "markdown",
   "metadata": {
    "id": "G8aQRTT3dpHL"
   },
   "source": [
    "#### Null hypothesis (H0): The order cost does not vary depending on whether the item is hazardous or not.\n",
    "\n"
   ]
  },
  {
   "cell_type": "markdown",
   "metadata": {},
   "source": [
    "#### Alternative hypothesis (Ha): The cost of the items varies depending on whether the item is hazardous or not."
   ]
  },
  {
   "cell_type": "code",
   "execution_count": 31,
   "metadata": {
    "scrolled": true
   },
   "outputs": [
    {
     "name": "stdout",
     "output_type": "stream",
     "text": [
      "Two-Sample T-Test\n",
      "H0: The cost does not vary depending on whether the item is hazardous or not\n",
      "HA: The cost varies depending on whether the item is hazardous or not\n",
      "\n",
      "Equal Varaince is taken\n",
      "\n",
      "significance level is 0.05\n",
      "\n",
      "Group 1 (Hazardous):\n",
      "Mean: 1049.7767889908257\n",
      "Standard Deviation: 500.74608330694514\n",
      "\n",
      "Group 2 (Non-Hazardous):\n",
      "Mean: 953.105961652714\n",
      "Standard Deviation: 942.7143694150958\n",
      "\n",
      "T-Statistic: 1.5115244541866597\n",
      "P-value: 0.13067175272237003\n",
      "Fail to reject H0. The cost does not vary depending on whether the item is hazardous or not.\n"
     ]
    }
   ],
   "source": [
    "import pandas as pd\n",
    "from scipy.stats import ttest_ind\n",
    "\n",
    "# Assuming you have a dataframe called 'data' with a 'Cost' column and a 'Hazardous' column\n",
    "\n",
    "# Split the data into two groups based on whether the item is hazardous or not\n",
    "group1 = data[data['IS_HAZARDOUS'] == 'Y']['ORDER_COST']\n",
    "group2 = data[data['IS_HAZARDOUS'] == 'N']['ORDER_COST']\n",
    "\n",
    "# Perform a two-sample t-test\n",
    "t_statistic, p_value = ttest_ind(group1, group2, equal_var=True)\n",
    "\n",
    "# Set the significance level\n",
    "alpha = 0.05\n",
    "\n",
    "# Print the results\n",
    "print(\"Two-Sample T-Test\")\n",
    "print(\"H0: The cost does not vary depending on whether the item is hazardous or not\")\n",
    "print(\"HA: The cost varies depending on whether the item is hazardous or not\")\n",
    "print(\"\")\n",
    "\n",
    "print('Equal Varaince is taken')\n",
    "print(\"\")\n",
    "\n",
    "\n",
    "print('significance level is',alpha)\n",
    "print(\"\")\n",
    "\n",
    "print(\"Group 1 (Hazardous):\")\n",
    "print(\"Mean:\", group1.mean())\n",
    "print(\"Standard Deviation:\", group1.std())\n",
    "print(\"\")\n",
    "\n",
    "print(\"Group 2 (Non-Hazardous):\")\n",
    "print(\"Mean:\", group2.mean())\n",
    "print(\"Standard Deviation:\", group2.std())\n",
    "print(\"\")\n",
    "\n",
    "print(\"T-Statistic:\", t_statistic)\n",
    "print(\"P-value:\", p_value)\n",
    "\n",
    "# Compare the p-value with the significance level to make a decision\n",
    "if p_value < alpha:\n",
    "    print(\"Reject H0. The cost varies depending on whether the item is hazardous or not.\")\n",
    "else:\n",
    "    print(\"Fail to reject H0. The cost does not vary depending on whether the item is hazardous or not.\")\n"
   ]
  },
  {
   "cell_type": "markdown",
   "metadata": {
    "id": "c1_jSgkFiZAM"
   },
   "source": [
    "#### The cost does not vary depending on whether the item is hazardous or not"
   ]
  },
  {
   "cell_type": "code",
   "execution_count": 32,
   "metadata": {
    "colab": {
     "base_uri": "https://localhost:8080/"
    },
    "id": "EQnFvFmW8l06",
    "outputId": "744023b5-3878-44f2-89fd-9c4c8c923608",
    "scrolled": true
   },
   "outputs": [
    {
     "data": {
      "text/plain": [
       "ORDER_NBR                            int64\n",
       "EQUIPMENT_TYPE                      object\n",
       "CUSTOMER_MILES                       int64\n",
       "WEIGHT                               int64\n",
       "ORDER_COST                         float64\n",
       "FIRST_PICK_ZIP                      object\n",
       "FIRST_PICK_EARLY_APPT       datetime64[ns]\n",
       "FIRST_PICK_LATE_APPT        datetime64[ns]\n",
       "LAST_DELIVERY_ZIP                   object\n",
       "LAST_DELIVERY_EARLY_APPT    datetime64[ns]\n",
       "LAST_DELIVERY_LATE_APPT     datetime64[ns]\n",
       "IS_HAZARDOUS                        object\n",
       "CREATED_DATE                datetime64[ns]\n",
       "dtype: object"
      ]
     },
     "execution_count": 32,
     "metadata": {},
     "output_type": "execute_result"
    }
   ],
   "source": [
    "data.dtypes"
   ]
  },
  {
   "cell_type": "markdown",
   "metadata": {},
   "source": [
    "####  Data type conversion"
   ]
  },
  {
   "cell_type": "code",
   "execution_count": 33,
   "metadata": {},
   "outputs": [],
   "source": [
    "data[['EQUIPMENT_TYPE','FIRST_PICK_ZIP','LAST_DELIVERY_ZIP','IS_HAZARDOUS']]=data[['EQUIPMENT_TYPE','FIRST_PICK_ZIP','LAST_DELIVERY_ZIP','IS_HAZARDOUS']].astype('category')"
   ]
  },
  {
   "cell_type": "code",
   "execution_count": 34,
   "metadata": {},
   "outputs": [
    {
     "data": {
      "text/plain": [
       "ORDER_NBR                            int64\n",
       "EQUIPMENT_TYPE                    category\n",
       "CUSTOMER_MILES                       int64\n",
       "WEIGHT                               int64\n",
       "ORDER_COST                         float64\n",
       "FIRST_PICK_ZIP                    category\n",
       "FIRST_PICK_EARLY_APPT       datetime64[ns]\n",
       "FIRST_PICK_LATE_APPT        datetime64[ns]\n",
       "LAST_DELIVERY_ZIP                 category\n",
       "LAST_DELIVERY_EARLY_APPT    datetime64[ns]\n",
       "LAST_DELIVERY_LATE_APPT     datetime64[ns]\n",
       "IS_HAZARDOUS                      category\n",
       "CREATED_DATE                datetime64[ns]\n",
       "dtype: object"
      ]
     },
     "execution_count": 34,
     "metadata": {},
     "output_type": "execute_result"
    }
   ],
   "source": [
    "data.dtypes"
   ]
  },
  {
   "cell_type": "markdown",
   "metadata": {
    "id": "A3VcE8MOpq2H"
   },
   "source": [
    "## which equipment is used to ship more orders?"
   ]
  },
  {
   "cell_type": "code",
   "execution_count": 35,
   "metadata": {
    "colab": {
     "base_uri": "https://localhost:8080/",
     "height": 363
    },
    "id": "2UIWz9PhRcad",
    "outputId": "74651139-6261-40e1-88f2-7897e8c102ef",
    "scrolled": true
   },
   "outputs": [
    {
     "data": {
      "text/html": [
       "<div>\n",
       "<style scoped>\n",
       "    .dataframe tbody tr th:only-of-type {\n",
       "        vertical-align: middle;\n",
       "    }\n",
       "\n",
       "    .dataframe tbody tr th {\n",
       "        vertical-align: top;\n",
       "    }\n",
       "\n",
       "    .dataframe thead th {\n",
       "        text-align: right;\n",
       "    }\n",
       "</style>\n",
       "<table border=\"1\" class=\"dataframe\">\n",
       "  <thead>\n",
       "    <tr style=\"text-align: right;\">\n",
       "      <th></th>\n",
       "      <th>EQUIPMENT_TYPE</th>\n",
       "      <th>ORDER_COST</th>\n",
       "    </tr>\n",
       "  </thead>\n",
       "  <tbody>\n",
       "    <tr>\n",
       "      <th>0</th>\n",
       "      <td>V</td>\n",
       "      <td>9096107.77</td>\n",
       "    </tr>\n",
       "    <tr>\n",
       "      <th>1</th>\n",
       "      <td>R</td>\n",
       "      <td>4063199.10</td>\n",
       "    </tr>\n",
       "    <tr>\n",
       "      <th>2</th>\n",
       "      <td>VR</td>\n",
       "      <td>3674913.79</td>\n",
       "    </tr>\n",
       "    <tr>\n",
       "      <th>3</th>\n",
       "      <td>VZ</td>\n",
       "      <td>228550.00</td>\n",
       "    </tr>\n",
       "    <tr>\n",
       "      <th>4</th>\n",
       "      <td>F</td>\n",
       "      <td>69703.00</td>\n",
       "    </tr>\n",
       "    <tr>\n",
       "      <th>5</th>\n",
       "      <td>RM</td>\n",
       "      <td>44500.00</td>\n",
       "    </tr>\n",
       "    <tr>\n",
       "      <th>6</th>\n",
       "      <td>DROP</td>\n",
       "      <td>22880.00</td>\n",
       "    </tr>\n",
       "    <tr>\n",
       "      <th>7</th>\n",
       "      <td>VM</td>\n",
       "      <td>21900.00</td>\n",
       "    </tr>\n",
       "  </tbody>\n",
       "</table>\n",
       "</div>"
      ],
      "text/plain": [
       "  EQUIPMENT_TYPE  ORDER_COST\n",
       "0              V  9096107.77\n",
       "1              R  4063199.10\n",
       "2             VR  3674913.79\n",
       "3             VZ   228550.00\n",
       "4              F    69703.00\n",
       "5             RM    44500.00\n",
       "6           DROP    22880.00\n",
       "7             VM    21900.00"
      ]
     },
     "execution_count": 35,
     "metadata": {},
     "output_type": "execute_result"
    }
   ],
   "source": [
    "ins2 = data.groupby(['EQUIPMENT_TYPE'])['ORDER_COST'].sum().reset_index().sort_values('ORDER_COST',ascending=False,ignore_index=True)\n",
    "ins2.head(8)"
   ]
  },
  {
   "cell_type": "code",
   "execution_count": 36,
   "metadata": {},
   "outputs": [],
   "source": [
    "#V: Vacuum\n",
    "# R: Refrigerated\n",
    "# VR: Virtual Reality\n",
    "# VZ: Vacuum Zone\n",
    "# F: Flatbed\n",
    "# RM: Rail Mounted\n",
    "# DROP: Drop Deck\n",
    "# VM: Van/Moving"
   ]
  },
  {
   "cell_type": "code",
   "execution_count": 37,
   "metadata": {
    "colab": {
     "base_uri": "https://localhost:8080/",
     "height": 500
    },
    "id": "qdnBrvd5RcXQ",
    "outputId": "87931866-da0e-4961-a6c2-a0c9b099d790"
   },
   "outputs": [
    {
     "data": {
      "text/plain": [
       "<AxesSubplot: xlabel='EQUIPMENT_TYPE', ylabel='ORDER_COST'>"
      ]
     },
     "execution_count": 37,
     "metadata": {},
     "output_type": "execute_result"
    },
    {
     "data": {
      "image/png": "[encoded data removed]",
      "text/plain": [
       "<Figure size 1440x504 with 1 Axes>"
      ]
     },
     "metadata": {
      "needs_background": "light"
     },
     "output_type": "display_data"
    }
   ],
   "source": [
    "plt.figure(figsize=(20,7))\n",
    "ins2_sorted = ins2.sort_values('ORDER_COST', ascending=False)\n",
    "\n",
    "# Plot the barplot with descending order\n",
    "sns.barplot(data=ins2_sorted, x='EQUIPMENT_TYPE', y='ORDER_COST', order=ins2_sorted['EQUIPMENT_TYPE'])"
   ]
  },
  {
   "cell_type": "markdown",
   "metadata": {
    "id": "1pNXZRZcuJcI"
   },
   "source": [
    "#### From the above plot,the equipment types V,R and VR are mostly used for orders."
   ]
  },
  {
   "cell_type": "code",
   "execution_count": 38,
   "metadata": {
    "id": "WCw6ujGBwOFJ"
   },
   "outputs": [],
   "source": [
    "data11=train_new.copy()"
   ]
  },
  {
   "cell_type": "code",
   "execution_count": 39,
   "metadata": {},
   "outputs": [
    {
     "data": {
      "text/plain": [
       "(14106, 13)"
      ]
     },
     "execution_count": 39,
     "metadata": {},
     "output_type": "execute_result"
    }
   ],
   "source": [
    "data11.shape"
   ]
  },
  {
   "cell_type": "code",
   "execution_count": 40,
   "metadata": {
    "id": "DIcSNXB6wGjo"
   },
   "outputs": [],
   "source": [
    "df=data1.copy()"
   ]
  },
  {
   "cell_type": "code",
   "execution_count": 41,
   "metadata": {
    "id": "uF1GgJN8v40E"
   },
   "outputs": [],
   "source": [
    "#dropping unnecessary columns\n",
    "drop = ['ORDER_NBR','FIRST_PICK_ZIP','LAST_DELIVERY_ZIP']\n",
    "df.drop(drop,axis=1,inplace=True)"
   ]
  },
  {
   "cell_type": "code",
   "execution_count": 42,
   "metadata": {
    "id": "utsuvMSbuuO4"
   },
   "outputs": [],
   "source": [
    "#assigning x and y values for splitting\n",
    "x=df.drop('ORDER_COST',axis=1)\n",
    "y=df[['ORDER_COST']]"
   ]
  },
  {
   "cell_type": "markdown",
   "metadata": {
    "id": "IoFX9H5wo9Qg"
   },
   "source": [
    "## Splitting the data"
   ]
  },
  {
   "cell_type": "code",
   "execution_count": 43,
   "metadata": {
    "id": "kyUcaZempB0X"
   },
   "outputs": [],
   "source": [
    "#using train_test_split for splitting the data\n",
    "from sklearn.model_selection import train_test_split\n",
    "x_train,x_test,y_train,y_test = train_test_split(x,y,test_size=0.2,random_state=123)"
   ]
  },
  {
   "cell_type": "markdown",
   "metadata": {
    "id": "wogGm5bbwxur"
   },
   "source": [
    "### null values checking "
   ]
  },
  {
   "cell_type": "code",
   "execution_count": 44,
   "metadata": {
    "colab": {
     "base_uri": "https://localhost:8080/"
    },
    "id": "Tdwsa5dxpBvf",
    "outputId": "46ae817f-e7f5-4c21-d9f2-288db917f331"
   },
   "outputs": [
    {
     "name": "stdout",
     "output_type": "stream",
     "text": [
      "=======null values========\n"
     ]
    },
    {
     "data": {
      "text/plain": [
       "EQUIPMENT_TYPE              731\n",
       "CUSTOMER_MILES                0\n",
       "WEIGHT                        0\n",
       "FIRST_PICK_EARLY_APPT        57\n",
       "FIRST_PICK_LATE_APPT         87\n",
       "LAST_DELIVERY_EARLY_APPT     86\n",
       "LAST_DELIVERY_LATE_APPT     116\n",
       "IS_HAZARDOUS                  0\n",
       "CREATED_DATE                  0\n",
       "dtype: int64"
      ]
     },
     "execution_count": 44,
     "metadata": {},
     "output_type": "execute_result"
    }
   ],
   "source": [
    "#function for checking null values\n",
    "def null_values(data):\n",
    "  print('=======null values========')\n",
    "  return data.isnull().sum()\n",
    "null_values(x_train)"
   ]
  },
  {
   "cell_type": "code",
   "execution_count": 45,
   "metadata": {
    "colab": {
     "base_uri": "https://localhost:8080/"
    },
    "id": "DWigKY6rpBsG",
    "outputId": "662bc891-fbb0-497f-fba3-361f58df11ea"
   },
   "outputs": [
    {
     "name": "stdout",
     "output_type": "stream",
     "text": [
      "=======null values========\n"
     ]
    },
    {
     "data": {
      "text/plain": [
       "EQUIPMENT_TYPE              178\n",
       "CUSTOMER_MILES                0\n",
       "WEIGHT                        0\n",
       "FIRST_PICK_EARLY_APPT        11\n",
       "FIRST_PICK_LATE_APPT         22\n",
       "LAST_DELIVERY_EARLY_APPT     15\n",
       "LAST_DELIVERY_LATE_APPT      27\n",
       "IS_HAZARDOUS                  0\n",
       "CREATED_DATE                  0\n",
       "dtype: int64"
      ]
     },
     "execution_count": 45,
     "metadata": {},
     "output_type": "execute_result"
    }
   ],
   "source": [
    "null_values(x_test)"
   ]
  },
  {
   "cell_type": "code",
   "execution_count": 46,
   "metadata": {
    "colab": {
     "base_uri": "https://localhost:8080/",
     "height": 300
    },
    "id": "zu76UWp0yxMW",
    "outputId": "cbccfa98-bfc3-4400-929d-0a50697b042b"
   },
   "outputs": [
    {
     "data": {
      "text/html": [
       "<div>\n",
       "<style scoped>\n",
       "    .dataframe tbody tr th:only-of-type {\n",
       "        vertical-align: middle;\n",
       "    }\n",
       "\n",
       "    .dataframe tbody tr th {\n",
       "        vertical-align: top;\n",
       "    }\n",
       "\n",
       "    .dataframe thead th {\n",
       "        text-align: right;\n",
       "    }\n",
       "</style>\n",
       "<table border=\"1\" class=\"dataframe\">\n",
       "  <thead>\n",
       "    <tr style=\"text-align: right;\">\n",
       "      <th></th>\n",
       "      <th>CUSTOMER_MILES</th>\n",
       "      <th>WEIGHT</th>\n",
       "    </tr>\n",
       "  </thead>\n",
       "  <tbody>\n",
       "    <tr>\n",
       "      <th>count</th>\n",
       "      <td>12164.000000</td>\n",
       "      <td>12164.000000</td>\n",
       "    </tr>\n",
       "    <tr>\n",
       "      <th>mean</th>\n",
       "      <td>567.172394</td>\n",
       "      <td>26231.300312</td>\n",
       "    </tr>\n",
       "    <tr>\n",
       "      <th>std</th>\n",
       "      <td>493.806351</td>\n",
       "      <td>16565.043052</td>\n",
       "    </tr>\n",
       "    <tr>\n",
       "      <th>min</th>\n",
       "      <td>0.000000</td>\n",
       "      <td>0.000000</td>\n",
       "    </tr>\n",
       "    <tr>\n",
       "      <th>25%</th>\n",
       "      <td>246.000000</td>\n",
       "      <td>8000.000000</td>\n",
       "    </tr>\n",
       "    <tr>\n",
       "      <th>50%</th>\n",
       "      <td>429.000000</td>\n",
       "      <td>30000.000000</td>\n",
       "    </tr>\n",
       "    <tr>\n",
       "      <th>75%</th>\n",
       "      <td>671.000000</td>\n",
       "      <td>42000.000000</td>\n",
       "    </tr>\n",
       "    <tr>\n",
       "      <th>max</th>\n",
       "      <td>3733.000000</td>\n",
       "      <td>300000.000000</td>\n",
       "    </tr>\n",
       "  </tbody>\n",
       "</table>\n",
       "</div>"
      ],
      "text/plain": [
       "       CUSTOMER_MILES         WEIGHT\n",
       "count    12164.000000   12164.000000\n",
       "mean       567.172394   26231.300312\n",
       "std        493.806351   16565.043052\n",
       "min          0.000000       0.000000\n",
       "25%        246.000000    8000.000000\n",
       "50%        429.000000   30000.000000\n",
       "75%        671.000000   42000.000000\n",
       "max       3733.000000  300000.000000"
      ]
     },
     "execution_count": 46,
     "metadata": {},
     "output_type": "execute_result"
    }
   ],
   "source": [
    "x_train.describe()"
   ]
  },
  {
   "cell_type": "code",
   "execution_count": 47,
   "metadata": {
    "id": "agexXXDvyxAm"
   },
   "outputs": [],
   "source": [
    "#separating the features according to the datatypes\n",
    "num_cols = ['CUSTOMER_MILES','WEIGHT']\n",
    "cat_cols = ['EQUIPMENT_TYPE','IS_HAZARDOUS']\n",
    "date_cols = ['FIRST_PICK_EARLY_APPT','FIRST_PICK_LATE_APPT','LAST_DELIVERY_EARLY_APPT','LAST_DELIVERY_LATE_APPT','CREATED_DATE']\n",
    "target = ['ORDER_COST']\n",
    "to_drop = ['ORDER_NBR','FIRST_PICK_ZIP','LAST_DELIVERY_ZIP']"
   ]
  },
  {
   "cell_type": "markdown",
   "metadata": {
    "id": "gbK780WKrfFS"
   },
   "source": [
    "# Feature Engineering"
   ]
  },
  {
   "cell_type": "markdown",
   "metadata": {
    "id": "0LG97P6Jrm9I"
   },
   "source": [
    "### Imputation the categorical columns with mode and numerical columns with median"
   ]
  },
  {
   "cell_type": "code",
   "execution_count": 48,
   "metadata": {
    "id": "tOCIFgNn1JtH"
   },
   "outputs": [],
   "source": [
    "#imputing for categorical columns\n",
    "from sklearn.impute import SimpleImputer\n",
    "cat_impute  =SimpleImputer(strategy='most_frequent')\n",
    "x_train[cat_cols]=cat_impute.fit_transform(x_train[cat_cols])\n",
    "x_test[cat_cols]=cat_impute.transform(x_test[cat_cols])"
   ]
  },
  {
   "cell_type": "code",
   "execution_count": 49,
   "metadata": {
    "id": "of9fnZjz1h3q"
   },
   "outputs": [],
   "source": [
    "#imputing for numerical columns\n",
    "num_impute = SimpleImputer(strategy='median')\n",
    "x_train[num_cols]=num_impute.fit_transform(x_train[num_cols])\n",
    "x_test[num_cols]=num_impute.transform(x_test[num_cols])"
   ]
  },
  {
   "cell_type": "code",
   "execution_count": 50,
   "metadata": {
    "colab": {
     "base_uri": "https://localhost:8080/"
    },
    "id": "w3-20fmb2NUc",
    "outputId": "e69d44e9-acc9-4722-bce9-5a28914c2109"
   },
   "outputs": [
    {
     "name": "stdout",
     "output_type": "stream",
     "text": [
      "=======null values========\n"
     ]
    },
    {
     "data": {
      "text/plain": [
       "EQUIPMENT_TYPE                0\n",
       "CUSTOMER_MILES                0\n",
       "WEIGHT                        0\n",
       "FIRST_PICK_EARLY_APPT        57\n",
       "FIRST_PICK_LATE_APPT         87\n",
       "LAST_DELIVERY_EARLY_APPT     86\n",
       "LAST_DELIVERY_LATE_APPT     116\n",
       "IS_HAZARDOUS                  0\n",
       "CREATED_DATE                  0\n",
       "dtype: int64"
      ]
     },
     "execution_count": 50,
     "metadata": {},
     "output_type": "execute_result"
    }
   ],
   "source": [
    "null_values(x_train)"
   ]
  },
  {
   "cell_type": "code",
   "execution_count": 51,
   "metadata": {
    "colab": {
     "base_uri": "https://localhost:8080/"
    },
    "id": "ave0V5YE2SNr",
    "outputId": "91c8f395-dc8e-4b79-d33e-1562d980db28",
    "scrolled": true
   },
   "outputs": [
    {
     "name": "stdout",
     "output_type": "stream",
     "text": [
      "=======null values========\n"
     ]
    },
    {
     "data": {
      "text/plain": [
       "EQUIPMENT_TYPE               0\n",
       "CUSTOMER_MILES               0\n",
       "WEIGHT                       0\n",
       "FIRST_PICK_EARLY_APPT       11\n",
       "FIRST_PICK_LATE_APPT        22\n",
       "LAST_DELIVERY_EARLY_APPT    15\n",
       "LAST_DELIVERY_LATE_APPT     27\n",
       "IS_HAZARDOUS                 0\n",
       "CREATED_DATE                 0\n",
       "dtype: int64"
      ]
     },
     "execution_count": 51,
     "metadata": {},
     "output_type": "execute_result"
    }
   ],
   "source": [
    "null_values(x_test)"
   ]
  },
  {
   "cell_type": "code",
   "execution_count": 52,
   "metadata": {},
   "outputs": [],
   "source": [
    "data['MAX_TIME_TO_SERVICE'] = (data['LAST_DELIVERY_LATE_APPT']-data['CREATED_DATE']).dt.days\n",
    "\n",
    "#getting new feature from delivery times\n",
    "x_train['MAX_TIME_TO_SERVICE'] = (x_train['LAST_DELIVERY_LATE_APPT']-x_train['CREATED_DATE']).dt.total_seconds()/3600\n",
    "x_test['MAX_TIME_TO_SERVICE'] = (x_test['LAST_DELIVERY_LATE_APPT']-x_test['CREATED_DATE']).dt.total_seconds()/3600\n",
    "# getting new feature from pick up times\n",
    "#getting new feature from delivery times"
   ]
  },
  {
   "cell_type": "markdown",
   "metadata": {
    "id": "JompY4HKsP1K"
   },
   "source": [
    "# Feature Extraction"
   ]
  },
  {
   "cell_type": "code",
   "execution_count": 53,
   "metadata": {
    "id": "1eiViLrtlmME"
   },
   "outputs": [],
   "source": [
    "\n",
    "x_train['TIME_ALLOWANCE_TO_COLLECT'] = (x_train['FIRST_PICK_LATE_APPT']-x_train['FIRST_PICK_EARLY_APPT']).dt.total_seconds()/3600\n",
    "x_test['TIME_ALLOWANCE_TO_COLLECT'] = (x_test['FIRST_PICK_LATE_APPT']-x_test['FIRST_PICK_EARLY_APPT']).dt.total_seconds()/3600"
   ]
  },
  {
   "cell_type": "code",
   "execution_count": 54,
   "metadata": {
    "id": "U5tKeKGq2oYd"
   },
   "outputs": [],
   "source": [
    "\n",
    "x_train['TIME_ALLOWANCE_TO_DELIVERY'] = (x_train['LAST_DELIVERY_LATE_APPT']-x_train['LAST_DELIVERY_EARLY_APPT']).dt.total_seconds()/3600\n",
    "x_test['TIME_ALLOWANCE_TO_DELIVERY'] = (x_test['LAST_DELIVERY_LATE_APPT']-x_test['LAST_DELIVERY_EARLY_APPT']).dt.total_seconds()/3600"
   ]
  },
  {
   "cell_type": "code",
   "execution_count": null,
   "metadata": {
    "id": "Y0CGa3a_yOdv"
   },
   "outputs": [],
   "source": []
  },
  {
   "cell_type": "code",
   "execution_count": 55,
   "metadata": {
    "colab": {
     "base_uri": "https://localhost:8080/"
    },
    "id": "f6bhOLOvEmxm",
    "outputId": "4d12e9e8-ec91-4b22-dca0-ad9bae9bd906",
    "scrolled": true
   },
   "outputs": [
    {
     "data": {
      "text/plain": [
       "['FIRST_PICK_EARLY_APPT',\n",
       " 'FIRST_PICK_LATE_APPT',\n",
       " 'LAST_DELIVERY_EARLY_APPT',\n",
       " 'LAST_DELIVERY_LATE_APPT',\n",
       " 'CREATED_DATE']"
      ]
     },
     "execution_count": 55,
     "metadata": {},
     "output_type": "execute_result"
    }
   ],
   "source": [
    "date_cols"
   ]
  },
  {
   "cell_type": "code",
   "execution_count": 56,
   "metadata": {
    "id": "BTdUw8aE4Nve"
   },
   "outputs": [],
   "source": [
    "#function for dropping date columns\n",
    "def drop_dates(data):\n",
    "  data.drop(date_cols,axis=1,inplace=True)\n",
    "drop_dates(x_train)\n",
    "drop_dates(x_test)"
   ]
  },
  {
   "cell_type": "code",
   "execution_count": 57,
   "metadata": {
    "colab": {
     "base_uri": "https://localhost:8080/",
     "height": 270
    },
    "id": "n5X-a7Zo4Nsn",
    "outputId": "c20f0953-0528-4301-aa17-fa1d1474f458"
   },
   "outputs": [
    {
     "data": {
      "text/html": [
       "<div>\n",
       "<style scoped>\n",
       "    .dataframe tbody tr th:only-of-type {\n",
       "        vertical-align: middle;\n",
       "    }\n",
       "\n",
       "    .dataframe tbody tr th {\n",
       "        vertical-align: top;\n",
       "    }\n",
       "\n",
       "    .dataframe thead th {\n",
       "        text-align: right;\n",
       "    }\n",
       "</style>\n",
       "<table border=\"1\" class=\"dataframe\">\n",
       "  <thead>\n",
       "    <tr style=\"text-align: right;\">\n",
       "      <th></th>\n",
       "      <th>EQUIPMENT_TYPE</th>\n",
       "      <th>CUSTOMER_MILES</th>\n",
       "      <th>WEIGHT</th>\n",
       "      <th>IS_HAZARDOUS</th>\n",
       "      <th>MAX_TIME_TO_SERVICE</th>\n",
       "      <th>TIME_ALLOWANCE_TO_COLLECT</th>\n",
       "      <th>TIME_ALLOWANCE_TO_DELIVERY</th>\n",
       "    </tr>\n",
       "  </thead>\n",
       "  <tbody>\n",
       "    <tr>\n",
       "      <th>6248</th>\n",
       "      <td>V</td>\n",
       "      <td>758.0</td>\n",
       "      <td>30000.0</td>\n",
       "      <td>N</td>\n",
       "      <td>262.166667</td>\n",
       "      <td>7.0</td>\n",
       "      <td>7.0</td>\n",
       "    </tr>\n",
       "    <tr>\n",
       "      <th>702</th>\n",
       "      <td>VR</td>\n",
       "      <td>669.0</td>\n",
       "      <td>43902.0</td>\n",
       "      <td>N</td>\n",
       "      <td>109.000000</td>\n",
       "      <td>0.0</td>\n",
       "      <td>0.0</td>\n",
       "    </tr>\n",
       "    <tr>\n",
       "      <th>5367</th>\n",
       "      <td>V</td>\n",
       "      <td>195.0</td>\n",
       "      <td>8000.0</td>\n",
       "      <td>N</td>\n",
       "      <td>128.416667</td>\n",
       "      <td>0.0</td>\n",
       "      <td>0.0</td>\n",
       "    </tr>\n",
       "    <tr>\n",
       "      <th>17</th>\n",
       "      <td>V</td>\n",
       "      <td>928.0</td>\n",
       "      <td>0.0</td>\n",
       "      <td>N</td>\n",
       "      <td>145.750000</td>\n",
       "      <td>105.0</td>\n",
       "      <td>9.0</td>\n",
       "    </tr>\n",
       "    <tr>\n",
       "      <th>242</th>\n",
       "      <td>R</td>\n",
       "      <td>496.0</td>\n",
       "      <td>39920.0</td>\n",
       "      <td>N</td>\n",
       "      <td>119.650000</td>\n",
       "      <td>8.0</td>\n",
       "      <td>0.0</td>\n",
       "    </tr>\n",
       "  </tbody>\n",
       "</table>\n",
       "</div>"
      ],
      "text/plain": [
       "     EQUIPMENT_TYPE  CUSTOMER_MILES   WEIGHT IS_HAZARDOUS  \\\n",
       "6248              V           758.0  30000.0            N   \n",
       "702              VR           669.0  43902.0            N   \n",
       "5367              V           195.0   8000.0            N   \n",
       "17                V           928.0      0.0            N   \n",
       "242               R           496.0  39920.0            N   \n",
       "\n",
       "      MAX_TIME_TO_SERVICE  TIME_ALLOWANCE_TO_COLLECT  \\\n",
       "6248           262.166667                        7.0   \n",
       "702            109.000000                        0.0   \n",
       "5367           128.416667                        0.0   \n",
       "17             145.750000                      105.0   \n",
       "242            119.650000                        8.0   \n",
       "\n",
       "      TIME_ALLOWANCE_TO_DELIVERY  \n",
       "6248                         7.0  \n",
       "702                          0.0  \n",
       "5367                         0.0  \n",
       "17                           9.0  \n",
       "242                          0.0  "
      ]
     },
     "execution_count": 57,
     "metadata": {},
     "output_type": "execute_result"
    }
   ],
   "source": [
    "x_train.head()"
   ]
  },
  {
   "cell_type": "code",
   "execution_count": 58,
   "metadata": {
    "colab": {
     "base_uri": "https://localhost:8080/",
     "height": 270
    },
    "id": "tw2iqEyB4NpT",
    "outputId": "0108259e-b5fb-46ab-8e8a-3656aff0688d"
   },
   "outputs": [
    {
     "data": {
      "text/html": [
       "<div>\n",
       "<style scoped>\n",
       "    .dataframe tbody tr th:only-of-type {\n",
       "        vertical-align: middle;\n",
       "    }\n",
       "\n",
       "    .dataframe tbody tr th {\n",
       "        vertical-align: top;\n",
       "    }\n",
       "\n",
       "    .dataframe thead th {\n",
       "        text-align: right;\n",
       "    }\n",
       "</style>\n",
       "<table border=\"1\" class=\"dataframe\">\n",
       "  <thead>\n",
       "    <tr style=\"text-align: right;\">\n",
       "      <th></th>\n",
       "      <th>EQUIPMENT_TYPE</th>\n",
       "      <th>CUSTOMER_MILES</th>\n",
       "      <th>WEIGHT</th>\n",
       "      <th>IS_HAZARDOUS</th>\n",
       "      <th>MAX_TIME_TO_SERVICE</th>\n",
       "      <th>TIME_ALLOWANCE_TO_COLLECT</th>\n",
       "      <th>TIME_ALLOWANCE_TO_DELIVERY</th>\n",
       "    </tr>\n",
       "  </thead>\n",
       "  <tbody>\n",
       "    <tr>\n",
       "      <th>9602</th>\n",
       "      <td>V</td>\n",
       "      <td>388.0</td>\n",
       "      <td>42000.0</td>\n",
       "      <td>N</td>\n",
       "      <td>91.216667</td>\n",
       "      <td>71.966667</td>\n",
       "      <td>0.0</td>\n",
       "    </tr>\n",
       "    <tr>\n",
       "      <th>14826</th>\n",
       "      <td>V</td>\n",
       "      <td>303.0</td>\n",
       "      <td>984.0</td>\n",
       "      <td>N</td>\n",
       "      <td>39.950000</td>\n",
       "      <td>8.000000</td>\n",
       "      <td>0.0</td>\n",
       "    </tr>\n",
       "    <tr>\n",
       "      <th>3904</th>\n",
       "      <td>VR</td>\n",
       "      <td>420.0</td>\n",
       "      <td>10000.0</td>\n",
       "      <td>N</td>\n",
       "      <td>51.033333</td>\n",
       "      <td>12.000000</td>\n",
       "      <td>8.0</td>\n",
       "    </tr>\n",
       "    <tr>\n",
       "      <th>11573</th>\n",
       "      <td>V</td>\n",
       "      <td>388.0</td>\n",
       "      <td>34214.0</td>\n",
       "      <td>N</td>\n",
       "      <td>158.916667</td>\n",
       "      <td>18.983333</td>\n",
       "      <td>0.0</td>\n",
       "    </tr>\n",
       "    <tr>\n",
       "      <th>9415</th>\n",
       "      <td>V</td>\n",
       "      <td>504.0</td>\n",
       "      <td>43000.0</td>\n",
       "      <td>N</td>\n",
       "      <td>144.966667</td>\n",
       "      <td>7.500000</td>\n",
       "      <td>0.0</td>\n",
       "    </tr>\n",
       "  </tbody>\n",
       "</table>\n",
       "</div>"
      ],
      "text/plain": [
       "      EQUIPMENT_TYPE  CUSTOMER_MILES   WEIGHT IS_HAZARDOUS  \\\n",
       "9602               V           388.0  42000.0            N   \n",
       "14826              V           303.0    984.0            N   \n",
       "3904              VR           420.0  10000.0            N   \n",
       "11573              V           388.0  34214.0            N   \n",
       "9415               V           504.0  43000.0            N   \n",
       "\n",
       "       MAX_TIME_TO_SERVICE  TIME_ALLOWANCE_TO_COLLECT  \\\n",
       "9602             91.216667                  71.966667   \n",
       "14826            39.950000                   8.000000   \n",
       "3904             51.033333                  12.000000   \n",
       "11573           158.916667                  18.983333   \n",
       "9415            144.966667                   7.500000   \n",
       "\n",
       "       TIME_ALLOWANCE_TO_DELIVERY  \n",
       "9602                          0.0  \n",
       "14826                         0.0  \n",
       "3904                          8.0  \n",
       "11573                         0.0  \n",
       "9415                          0.0  "
      ]
     },
     "execution_count": 58,
     "metadata": {},
     "output_type": "execute_result"
    }
   ],
   "source": [
    "x_test.head()"
   ]
  },
  {
   "cell_type": "code",
   "execution_count": 59,
   "metadata": {},
   "outputs": [
    {
     "data": {
      "text/plain": [
       "EQUIPMENT_TYPE                  0\n",
       "CUSTOMER_MILES                  0\n",
       "WEIGHT                          0\n",
       "IS_HAZARDOUS                    0\n",
       "MAX_TIME_TO_SERVICE           116\n",
       "TIME_ALLOWANCE_TO_COLLECT      87\n",
       "TIME_ALLOWANCE_TO_DELIVERY    116\n",
       "dtype: int64"
      ]
     },
     "execution_count": 59,
     "metadata": {},
     "output_type": "execute_result"
    }
   ],
   "source": [
    "x_train.isnull().sum()"
   ]
  },
  {
   "cell_type": "code",
   "execution_count": 60,
   "metadata": {},
   "outputs": [],
   "source": [
    "x_train[['TIME_ALLOWANCE_TO_COLLECT','TIME_ALLOWANCE_TO_DELIVERY','MAX_TIME_TO_SERVICE']] = x_train[['TIME_ALLOWANCE_TO_COLLECT','TIME_ALLOWANCE_TO_DELIVERY','MAX_TIME_TO_SERVICE']].mask(x_train[['TIME_ALLOWANCE_TO_COLLECT','TIME_ALLOWANCE_TO_DELIVERY','MAX_TIME_TO_SERVICE']]<0,np.nan)\n"
   ]
  },
  {
   "cell_type": "code",
   "execution_count": 61,
   "metadata": {},
   "outputs": [
    {
     "data": {
      "text/plain": [
       "EQUIPMENT_TYPE                  0\n",
       "CUSTOMER_MILES                  0\n",
       "WEIGHT                          0\n",
       "IS_HAZARDOUS                    0\n",
       "MAX_TIME_TO_SERVICE           161\n",
       "TIME_ALLOWANCE_TO_COLLECT      87\n",
       "TIME_ALLOWANCE_TO_DELIVERY    116\n",
       "dtype: int64"
      ]
     },
     "execution_count": 61,
     "metadata": {},
     "output_type": "execute_result"
    }
   ],
   "source": [
    "x_train.isnull().sum()"
   ]
  },
  {
   "cell_type": "code",
   "execution_count": 62,
   "metadata": {},
   "outputs": [],
   "source": [
    "cols_knn = ['TIME_ALLOWANCE_TO_COLLECT','TIME_ALLOWANCE_TO_DELIVERY','MAX_TIME_TO_SERVICE']"
   ]
  },
  {
   "cell_type": "code",
   "execution_count": 63,
   "metadata": {},
   "outputs": [],
   "source": [
    "from sklearn.impute import KNNImputer"
   ]
  },
  {
   "cell_type": "code",
   "execution_count": 64,
   "metadata": {},
   "outputs": [],
   "source": [
    "knn_impute = KNNImputer(n_neighbors=10)\n",
    "x_train_knn=pd.DataFrame(knn_impute.fit_transform(x_train[cols_knn]),columns=cols_knn)\n",
    "x_test_knn=pd.DataFrame(knn_impute.transform(x_test[cols_knn]),columns=cols_knn)"
   ]
  },
  {
   "cell_type": "code",
   "execution_count": 65,
   "metadata": {
    "scrolled": true
   },
   "outputs": [
    {
     "data": {
      "text/plain": [
       "TIME_ALLOWANCE_TO_COLLECT     0\n",
       "TIME_ALLOWANCE_TO_DELIVERY    0\n",
       "MAX_TIME_TO_SERVICE           0\n",
       "dtype: int64"
      ]
     },
     "execution_count": 65,
     "metadata": {},
     "output_type": "execute_result"
    }
   ],
   "source": [
    "x_train_knn.isnull().sum()\n"
   ]
  },
  {
   "cell_type": "code",
   "execution_count": 66,
   "metadata": {},
   "outputs": [
    {
     "data": {
      "text/plain": [
       "TIME_ALLOWANCE_TO_COLLECT     0\n",
       "TIME_ALLOWANCE_TO_DELIVERY    0\n",
       "MAX_TIME_TO_SERVICE           0\n",
       "dtype: int64"
      ]
     },
     "execution_count": 66,
     "metadata": {},
     "output_type": "execute_result"
    }
   ],
   "source": [
    "x_test_knn.isnull().sum()"
   ]
  },
  {
   "cell_type": "markdown",
   "metadata": {
    "id": "pJGaS8ZFsxGo"
   },
   "source": [
    "## Feature Scaling"
   ]
  },
  {
   "cell_type": "code",
   "execution_count": 67,
   "metadata": {
    "id": "0tzc5_1KGZaH"
   },
   "outputs": [],
   "source": [
    "#standardization applied on the numerical columns\n",
    "from sklearn.preprocessing import StandardScaler,OneHotEncoder\n",
    "scale=StandardScaler()\n",
    "x_train_num=pd.DataFrame(scale.fit_transform(x_train[num_cols]),columns=num_cols)\n",
    "x_test_num=pd.DataFrame(scale.transform(x_test[num_cols]),columns=num_cols)"
   ]
  },
  {
   "cell_type": "markdown",
   "metadata": {
    "id": "V4z5IPi2s9nI"
   },
   "source": [
    "## OneHotEncoding on categorical columns"
   ]
  },
  {
   "cell_type": "code",
   "execution_count": 68,
   "metadata": {
    "id": "1se03c4yIilo"
   },
   "outputs": [],
   "source": [
    "cat_col=['EQUIPMENT_TYPE','IS_HAZARDOUS']"
   ]
  },
  {
   "cell_type": "code",
   "execution_count": 69,
   "metadata": {
    "colab": {
     "base_uri": "https://localhost:8080/",
     "height": 75
    },
    "id": "PbkmDwqfHN0g",
    "outputId": "651b3f91-4856-441d-dc3e-d63ac61b989c"
   },
   "outputs": [
    {
     "data": {
      "text/html": [
       "<style>#sk-container-id-1 {color: black;background-color: white;}#sk-container-id-1 pre{padding: 0;}#sk-container-id-1 div.sk-toggleable {background-color: white;}#sk-container-id-1 label.sk-toggleable__label {cursor: pointer;display: block;width: 100%;margin-bottom: 0;padding: 0.3em;box-sizing: border-box;text-align: center;}#sk-container-id-1 label.sk-toggleable__label-arrow:before {content: \"▸\";float: left;margin-right: 0.25em;color: #696969;}#sk-container-id-1 label.sk-toggleable__label-arrow:hover:before {color: black;}#sk-container-id-1 div.sk-estimator:hover label.sk-toggleable__label-arrow:before {color: black;}#sk-container-id-1 div.sk-toggleable__content {max-height: 0;max-width: 0;overflow: hidden;text-align: left;background-color: #f0f8ff;}#sk-container-id-1 div.sk-toggleable__content pre {margin: 0.2em;color: black;border-radius: 0.25em;background-color: #f0f8ff;}#sk-container-id-1 input.sk-toggleable__control:checked~div.sk-toggleable__content {max-height: 200px;max-width: 100%;overflow: auto;}#sk-container-id-1 input.sk-toggleable__control:checked~label.sk-toggleable__label-arrow:before {content: \"▾\";}#sk-container-id-1 div.sk-estimator input.sk-toggleable__control:checked~label.sk-toggleable__label {background-color: #d4ebff;}#sk-container-id-1 div.sk-label input.sk-toggleable__control:checked~label.sk-toggleable__label {background-color: #d4ebff;}#sk-container-id-1 input.sk-hidden--visually {border: 0;clip: rect(1px 1px 1px 1px);clip: rect(1px, 1px, 1px, 1px);height: 1px;margin: -1px;overflow: hidden;padding: 0;position: absolute;width: 1px;}#sk-container-id-1 div.sk-estimator {font-family: monospace;background-color: #f0f8ff;border: 1px dotted black;border-radius: 0.25em;box-sizing: border-box;margin-bottom: 0.5em;}#sk-container-id-1 div.sk-estimator:hover {background-color: #d4ebff;}#sk-container-id-1 div.sk-parallel-item::after {content: \"\";width: 100%;border-bottom: 1px solid gray;flex-grow: 1;}#sk-container-id-1 div.sk-label:hover label.sk-toggleable__label {background-color: #d4ebff;}#sk-container-id-1 div.sk-serial::before {content: \"\";position: absolute;border-left: 1px solid gray;box-sizing: border-box;top: 0;bottom: 0;left: 50%;z-index: 0;}#sk-container-id-1 div.sk-serial {display: flex;flex-direction: column;align-items: center;background-color: white;padding-right: 0.2em;padding-left: 0.2em;position: relative;}#sk-container-id-1 div.sk-item {position: relative;z-index: 1;}#sk-container-id-1 div.sk-parallel {display: flex;align-items: stretch;justify-content: center;background-color: white;position: relative;}#sk-container-id-1 div.sk-item::before, #sk-container-id-1 div.sk-parallel-item::before {content: \"\";position: absolute;border-left: 1px solid gray;box-sizing: border-box;top: 0;bottom: 0;left: 50%;z-index: -1;}#sk-container-id-1 div.sk-parallel-item {display: flex;flex-direction: column;z-index: 1;position: relative;background-color: white;}#sk-container-id-1 div.sk-parallel-item:first-child::after {align-self: flex-end;width: 50%;}#sk-container-id-1 div.sk-parallel-item:last-child::after {align-self: flex-start;width: 50%;}#sk-container-id-1 div.sk-parallel-item:only-child::after {width: 0;}#sk-container-id-1 div.sk-dashed-wrapped {border: 1px dashed gray;margin: 0 0.4em 0.5em 0.4em;box-sizing: border-box;padding-bottom: 0.4em;background-color: white;}#sk-container-id-1 div.sk-label label {font-family: monospace;font-weight: bold;display: inline-block;line-height: 1.2em;}#sk-container-id-1 div.sk-label-container {text-align: center;}#sk-container-id-1 div.sk-container {/* jupyter's `normalize.less` sets `[hidden] { display: none; }` but bootstrap.min.css set `[hidden] { display: none !important; }` so we also need the `!important` here to be able to override the default hidden behavior on the sphinx rendered scikit-learn.org. See: https://github.com/scikit-learn/scikit-learn/issues/21755 */display: inline-block !important;position: relative;}#sk-container-id-1 div.sk-text-repr-fallback {display: none;}</style><div id=\"sk-container-id-1\" class=\"sk-top-container\"><div class=\"sk-text-repr-fallback\"><pre>OneHotEncoder(handle_unknown=&#x27;ignore&#x27;)</pre><b>In a Jupyter environment, please rerun this cell to show the HTML representation or trust the notebook. <br />On GitHub, the HTML representation is unable to render, please try loading this page with nbviewer.org.</b></div><div class=\"sk-container\" hidden><div class=\"sk-item\"><div class=\"sk-estimator sk-toggleable\"><input class=\"sk-toggleable__control sk-hidden--visually\" id=\"sk-estimator-id-1\" type=\"checkbox\" checked><label for=\"sk-estimator-id-1\" class=\"sk-toggleable__label sk-toggleable__label-arrow\">OneHotEncoder</label><div class=\"sk-toggleable__content\"><pre>OneHotEncoder(handle_unknown=&#x27;ignore&#x27;)</pre></div></div></div></div></div>"
      ],
      "text/plain": [
       "OneHotEncoder(handle_unknown='ignore')"
      ]
     },
     "execution_count": 69,
     "metadata": {},
     "output_type": "execute_result"
    }
   ],
   "source": [
    "#onehotencoding on categorical features\n",
    "ohe=OneHotEncoder(handle_unknown='ignore')\n",
    "ohe.fit(x_train[cat_col])"
   ]
  },
  {
   "cell_type": "code",
   "execution_count": 70,
   "metadata": {
    "id": "6uM2JwI5JMdJ"
   },
   "outputs": [],
   "source": [
    "#list out the columns names\n",
    "cols=list(ohe.get_feature_names_out(x_train[cat_col].columns))"
   ]
  },
  {
   "cell_type": "code",
   "execution_count": 71,
   "metadata": {
    "id": "vBIe5JZGG203"
   },
   "outputs": [],
   "source": [
    "x_train_cat=pd.DataFrame(ohe.transform(x_train[cat_col]).todense(),columns=cols)\n",
    "x_test_cat=pd.DataFrame(ohe.transform(x_test[cat_col]).todense(),columns=cols)"
   ]
  },
  {
   "cell_type": "code",
   "execution_count": 72,
   "metadata": {
    "id": "hEUwC_J0PgoG"
   },
   "outputs": [],
   "source": [
    "train_final = pd.concat([x_train_num,x_train_cat,x_train_knn],axis=1)\n",
    "test_final = pd.concat([x_test_num,x_test_cat,x_test_knn],axis=1)"
   ]
  },
  {
   "cell_type": "markdown",
   "metadata": {
    "id": "tFZY9MxVtGlR"
   },
   "source": [
    "## Preprocessed Data"
   ]
  },
  {
   "cell_type": "code",
   "execution_count": 73,
   "metadata": {
    "colab": {
     "base_uri": "https://localhost:8080/",
     "height": 505
    },
    "id": "g1JPI9NOP7w2",
    "outputId": "a9a02cac-4b22-45d9-e0c1-a76d0178ad0a"
   },
   "outputs": [
    {
     "data": {
      "text/html": [
       "<div>\n",
       "<style scoped>\n",
       "    .dataframe tbody tr th:only-of-type {\n",
       "        vertical-align: middle;\n",
       "    }\n",
       "\n",
       "    .dataframe tbody tr th {\n",
       "        vertical-align: top;\n",
       "    }\n",
       "\n",
       "    .dataframe thead th {\n",
       "        text-align: right;\n",
       "    }\n",
       "</style>\n",
       "<table border=\"1\" class=\"dataframe\">\n",
       "  <thead>\n",
       "    <tr style=\"text-align: right;\">\n",
       "      <th></th>\n",
       "      <th>CUSTOMER_MILES</th>\n",
       "      <th>WEIGHT</th>\n",
       "      <th>EQUIPMENT_TYPE_D-LTL</th>\n",
       "      <th>EQUIPMENT_TYPE_DRAY</th>\n",
       "      <th>EQUIPMENT_TYPE_DROP</th>\n",
       "      <th>EQUIPMENT_TYPE_F</th>\n",
       "      <th>EQUIPMENT_TYPE_IMDL</th>\n",
       "      <th>EQUIPMENT_TYPE_LTL</th>\n",
       "      <th>EQUIPMENT_TYPE_PARTIAL</th>\n",
       "      <th>EQUIPMENT_TYPE_PO</th>\n",
       "      <th>...</th>\n",
       "      <th>EQUIPMENT_TYPE_VP</th>\n",
       "      <th>EQUIPMENT_TYPE_VR</th>\n",
       "      <th>EQUIPMENT_TYPE_VS</th>\n",
       "      <th>EQUIPMENT_TYPE_VV</th>\n",
       "      <th>EQUIPMENT_TYPE_VZ</th>\n",
       "      <th>IS_HAZARDOUS_N</th>\n",
       "      <th>IS_HAZARDOUS_Y</th>\n",
       "      <th>TIME_ALLOWANCE_TO_COLLECT</th>\n",
       "      <th>TIME_ALLOWANCE_TO_DELIVERY</th>\n",
       "      <th>MAX_TIME_TO_SERVICE</th>\n",
       "    </tr>\n",
       "  </thead>\n",
       "  <tbody>\n",
       "    <tr>\n",
       "      <th>0</th>\n",
       "      <td>0.386458</td>\n",
       "      <td>0.227519</td>\n",
       "      <td>0.0</td>\n",
       "      <td>0.0</td>\n",
       "      <td>0.0</td>\n",
       "      <td>0.0</td>\n",
       "      <td>0.0</td>\n",
       "      <td>0.0</td>\n",
       "      <td>0.0</td>\n",
       "      <td>0.0</td>\n",
       "      <td>...</td>\n",
       "      <td>0.0</td>\n",
       "      <td>0.0</td>\n",
       "      <td>0.0</td>\n",
       "      <td>0.0</td>\n",
       "      <td>0.0</td>\n",
       "      <td>1.0</td>\n",
       "      <td>0.0</td>\n",
       "      <td>7.000000</td>\n",
       "      <td>7.0</td>\n",
       "      <td>262.166667</td>\n",
       "    </tr>\n",
       "    <tr>\n",
       "      <th>1</th>\n",
       "      <td>0.206218</td>\n",
       "      <td>1.066790</td>\n",
       "      <td>0.0</td>\n",
       "      <td>0.0</td>\n",
       "      <td>0.0</td>\n",
       "      <td>0.0</td>\n",
       "      <td>0.0</td>\n",
       "      <td>0.0</td>\n",
       "      <td>0.0</td>\n",
       "      <td>0.0</td>\n",
       "      <td>...</td>\n",
       "      <td>0.0</td>\n",
       "      <td>1.0</td>\n",
       "      <td>0.0</td>\n",
       "      <td>0.0</td>\n",
       "      <td>0.0</td>\n",
       "      <td>1.0</td>\n",
       "      <td>0.0</td>\n",
       "      <td>0.000000</td>\n",
       "      <td>0.0</td>\n",
       "      <td>109.000000</td>\n",
       "    </tr>\n",
       "    <tr>\n",
       "      <th>2</th>\n",
       "      <td>-0.753712</td>\n",
       "      <td>-1.100634</td>\n",
       "      <td>0.0</td>\n",
       "      <td>0.0</td>\n",
       "      <td>0.0</td>\n",
       "      <td>0.0</td>\n",
       "      <td>0.0</td>\n",
       "      <td>0.0</td>\n",
       "      <td>0.0</td>\n",
       "      <td>0.0</td>\n",
       "      <td>...</td>\n",
       "      <td>0.0</td>\n",
       "      <td>0.0</td>\n",
       "      <td>0.0</td>\n",
       "      <td>0.0</td>\n",
       "      <td>0.0</td>\n",
       "      <td>1.0</td>\n",
       "      <td>0.0</td>\n",
       "      <td>0.000000</td>\n",
       "      <td>0.0</td>\n",
       "      <td>128.416667</td>\n",
       "    </tr>\n",
       "    <tr>\n",
       "      <th>3</th>\n",
       "      <td>0.730737</td>\n",
       "      <td>-1.583599</td>\n",
       "      <td>0.0</td>\n",
       "      <td>0.0</td>\n",
       "      <td>0.0</td>\n",
       "      <td>0.0</td>\n",
       "      <td>0.0</td>\n",
       "      <td>0.0</td>\n",
       "      <td>0.0</td>\n",
       "      <td>0.0</td>\n",
       "      <td>...</td>\n",
       "      <td>0.0</td>\n",
       "      <td>0.0</td>\n",
       "      <td>0.0</td>\n",
       "      <td>0.0</td>\n",
       "      <td>0.0</td>\n",
       "      <td>1.0</td>\n",
       "      <td>0.0</td>\n",
       "      <td>105.000000</td>\n",
       "      <td>9.0</td>\n",
       "      <td>145.750000</td>\n",
       "    </tr>\n",
       "    <tr>\n",
       "      <th>4</th>\n",
       "      <td>-0.144136</td>\n",
       "      <td>0.826395</td>\n",
       "      <td>0.0</td>\n",
       "      <td>0.0</td>\n",
       "      <td>0.0</td>\n",
       "      <td>0.0</td>\n",
       "      <td>0.0</td>\n",
       "      <td>0.0</td>\n",
       "      <td>0.0</td>\n",
       "      <td>0.0</td>\n",
       "      <td>...</td>\n",
       "      <td>0.0</td>\n",
       "      <td>0.0</td>\n",
       "      <td>0.0</td>\n",
       "      <td>0.0</td>\n",
       "      <td>0.0</td>\n",
       "      <td>1.0</td>\n",
       "      <td>0.0</td>\n",
       "      <td>8.000000</td>\n",
       "      <td>0.0</td>\n",
       "      <td>119.650000</td>\n",
       "    </tr>\n",
       "    <tr>\n",
       "      <th>...</th>\n",
       "      <td>...</td>\n",
       "      <td>...</td>\n",
       "      <td>...</td>\n",
       "      <td>...</td>\n",
       "      <td>...</td>\n",
       "      <td>...</td>\n",
       "      <td>...</td>\n",
       "      <td>...</td>\n",
       "      <td>...</td>\n",
       "      <td>...</td>\n",
       "      <td>...</td>\n",
       "      <td>...</td>\n",
       "      <td>...</td>\n",
       "      <td>...</td>\n",
       "      <td>...</td>\n",
       "      <td>...</td>\n",
       "      <td>...</td>\n",
       "      <td>...</td>\n",
       "      <td>...</td>\n",
       "      <td>...</td>\n",
       "      <td>...</td>\n",
       "    </tr>\n",
       "    <tr>\n",
       "      <th>12159</th>\n",
       "      <td>1.960014</td>\n",
       "      <td>1.068420</td>\n",
       "      <td>0.0</td>\n",
       "      <td>0.0</td>\n",
       "      <td>0.0</td>\n",
       "      <td>0.0</td>\n",
       "      <td>0.0</td>\n",
       "      <td>0.0</td>\n",
       "      <td>0.0</td>\n",
       "      <td>0.0</td>\n",
       "      <td>...</td>\n",
       "      <td>0.0</td>\n",
       "      <td>1.0</td>\n",
       "      <td>0.0</td>\n",
       "      <td>0.0</td>\n",
       "      <td>0.0</td>\n",
       "      <td>1.0</td>\n",
       "      <td>0.0</td>\n",
       "      <td>8.000000</td>\n",
       "      <td>8.0</td>\n",
       "      <td>55.850000</td>\n",
       "    </tr>\n",
       "    <tr>\n",
       "      <th>12160</th>\n",
       "      <td>1.565106</td>\n",
       "      <td>1.037450</td>\n",
       "      <td>0.0</td>\n",
       "      <td>0.0</td>\n",
       "      <td>0.0</td>\n",
       "      <td>0.0</td>\n",
       "      <td>0.0</td>\n",
       "      <td>0.0</td>\n",
       "      <td>0.0</td>\n",
       "      <td>0.0</td>\n",
       "      <td>...</td>\n",
       "      <td>0.0</td>\n",
       "      <td>0.0</td>\n",
       "      <td>0.0</td>\n",
       "      <td>0.0</td>\n",
       "      <td>0.0</td>\n",
       "      <td>1.0</td>\n",
       "      <td>0.0</td>\n",
       "      <td>0.000000</td>\n",
       "      <td>0.0</td>\n",
       "      <td>183.250000</td>\n",
       "    </tr>\n",
       "    <tr>\n",
       "      <th>12161</th>\n",
       "      <td>0.143438</td>\n",
       "      <td>1.066669</td>\n",
       "      <td>0.0</td>\n",
       "      <td>0.0</td>\n",
       "      <td>0.0</td>\n",
       "      <td>0.0</td>\n",
       "      <td>0.0</td>\n",
       "      <td>0.0</td>\n",
       "      <td>0.0</td>\n",
       "      <td>0.0</td>\n",
       "      <td>...</td>\n",
       "      <td>0.0</td>\n",
       "      <td>1.0</td>\n",
       "      <td>0.0</td>\n",
       "      <td>0.0</td>\n",
       "      <td>0.0</td>\n",
       "      <td>1.0</td>\n",
       "      <td>0.0</td>\n",
       "      <td>0.000000</td>\n",
       "      <td>0.0</td>\n",
       "      <td>301.533333</td>\n",
       "    </tr>\n",
       "    <tr>\n",
       "      <th>12162</th>\n",
       "      <td>-0.158312</td>\n",
       "      <td>-1.100634</td>\n",
       "      <td>0.0</td>\n",
       "      <td>0.0</td>\n",
       "      <td>0.0</td>\n",
       "      <td>0.0</td>\n",
       "      <td>0.0</td>\n",
       "      <td>0.0</td>\n",
       "      <td>0.0</td>\n",
       "      <td>0.0</td>\n",
       "      <td>...</td>\n",
       "      <td>0.0</td>\n",
       "      <td>0.0</td>\n",
       "      <td>0.0</td>\n",
       "      <td>0.0</td>\n",
       "      <td>0.0</td>\n",
       "      <td>1.0</td>\n",
       "      <td>0.0</td>\n",
       "      <td>23.966667</td>\n",
       "      <td>0.0</td>\n",
       "      <td>184.533333</td>\n",
       "    </tr>\n",
       "    <tr>\n",
       "      <th>12163</th>\n",
       "      <td>-1.049386</td>\n",
       "      <td>1.066669</td>\n",
       "      <td>0.0</td>\n",
       "      <td>0.0</td>\n",
       "      <td>0.0</td>\n",
       "      <td>0.0</td>\n",
       "      <td>0.0</td>\n",
       "      <td>0.0</td>\n",
       "      <td>0.0</td>\n",
       "      <td>0.0</td>\n",
       "      <td>...</td>\n",
       "      <td>0.0</td>\n",
       "      <td>1.0</td>\n",
       "      <td>0.0</td>\n",
       "      <td>0.0</td>\n",
       "      <td>0.0</td>\n",
       "      <td>1.0</td>\n",
       "      <td>0.0</td>\n",
       "      <td>0.000000</td>\n",
       "      <td>0.0</td>\n",
       "      <td>350.933333</td>\n",
       "    </tr>\n",
       "  </tbody>\n",
       "</table>\n",
       "<p>12164 rows × 30 columns</p>\n",
       "</div>"
      ],
      "text/plain": [
       "       CUSTOMER_MILES    WEIGHT  EQUIPMENT_TYPE_D-LTL  EQUIPMENT_TYPE_DRAY  \\\n",
       "0            0.386458  0.227519                   0.0                  0.0   \n",
       "1            0.206218  1.066790                   0.0                  0.0   \n",
       "2           -0.753712 -1.100634                   0.0                  0.0   \n",
       "3            0.730737 -1.583599                   0.0                  0.0   \n",
       "4           -0.144136  0.826395                   0.0                  0.0   \n",
       "...               ...       ...                   ...                  ...   \n",
       "12159        1.960014  1.068420                   0.0                  0.0   \n",
       "12160        1.565106  1.037450                   0.0                  0.0   \n",
       "12161        0.143438  1.066669                   0.0                  0.0   \n",
       "12162       -0.158312 -1.100634                   0.0                  0.0   \n",
       "12163       -1.049386  1.066669                   0.0                  0.0   \n",
       "\n",
       "       EQUIPMENT_TYPE_DROP  EQUIPMENT_TYPE_F  EQUIPMENT_TYPE_IMDL  \\\n",
       "0                      0.0               0.0                  0.0   \n",
       "1                      0.0               0.0                  0.0   \n",
       "2                      0.0               0.0                  0.0   \n",
       "3                      0.0               0.0                  0.0   \n",
       "4                      0.0               0.0                  0.0   \n",
       "...                    ...               ...                  ...   \n",
       "12159                  0.0               0.0                  0.0   \n",
       "12160                  0.0               0.0                  0.0   \n",
       "12161                  0.0               0.0                  0.0   \n",
       "12162                  0.0               0.0                  0.0   \n",
       "12163                  0.0               0.0                  0.0   \n",
       "\n",
       "       EQUIPMENT_TYPE_LTL  EQUIPMENT_TYPE_PARTIAL  EQUIPMENT_TYPE_PO  ...  \\\n",
       "0                     0.0                     0.0                0.0  ...   \n",
       "1                     0.0                     0.0                0.0  ...   \n",
       "2                     0.0                     0.0                0.0  ...   \n",
       "3                     0.0                     0.0                0.0  ...   \n",
       "4                     0.0                     0.0                0.0  ...   \n",
       "...                   ...                     ...                ...  ...   \n",
       "12159                 0.0                     0.0                0.0  ...   \n",
       "12160                 0.0                     0.0                0.0  ...   \n",
       "12161                 0.0                     0.0                0.0  ...   \n",
       "12162                 0.0                     0.0                0.0  ...   \n",
       "12163                 0.0                     0.0                0.0  ...   \n",
       "\n",
       "       EQUIPMENT_TYPE_VP  EQUIPMENT_TYPE_VR  EQUIPMENT_TYPE_VS  \\\n",
       "0                    0.0                0.0                0.0   \n",
       "1                    0.0                1.0                0.0   \n",
       "2                    0.0                0.0                0.0   \n",
       "3                    0.0                0.0                0.0   \n",
       "4                    0.0                0.0                0.0   \n",
       "...                  ...                ...                ...   \n",
       "12159                0.0                1.0                0.0   \n",
       "12160                0.0                0.0                0.0   \n",
       "12161                0.0                1.0                0.0   \n",
       "12162                0.0                0.0                0.0   \n",
       "12163                0.0                1.0                0.0   \n",
       "\n",
       "       EQUIPMENT_TYPE_VV  EQUIPMENT_TYPE_VZ  IS_HAZARDOUS_N  IS_HAZARDOUS_Y  \\\n",
       "0                    0.0                0.0             1.0             0.0   \n",
       "1                    0.0                0.0             1.0             0.0   \n",
       "2                    0.0                0.0             1.0             0.0   \n",
       "3                    0.0                0.0             1.0             0.0   \n",
       "4                    0.0                0.0             1.0             0.0   \n",
       "...                  ...                ...             ...             ...   \n",
       "12159                0.0                0.0             1.0             0.0   \n",
       "12160                0.0                0.0             1.0             0.0   \n",
       "12161                0.0                0.0             1.0             0.0   \n",
       "12162                0.0                0.0             1.0             0.0   \n",
       "12163                0.0                0.0             1.0             0.0   \n",
       "\n",
       "       TIME_ALLOWANCE_TO_COLLECT  TIME_ALLOWANCE_TO_DELIVERY  \\\n",
       "0                       7.000000                         7.0   \n",
       "1                       0.000000                         0.0   \n",
       "2                       0.000000                         0.0   \n",
       "3                     105.000000                         9.0   \n",
       "4                       8.000000                         0.0   \n",
       "...                          ...                         ...   \n",
       "12159                   8.000000                         8.0   \n",
       "12160                   0.000000                         0.0   \n",
       "12161                   0.000000                         0.0   \n",
       "12162                  23.966667                         0.0   \n",
       "12163                   0.000000                         0.0   \n",
       "\n",
       "       MAX_TIME_TO_SERVICE  \n",
       "0               262.166667  \n",
       "1               109.000000  \n",
       "2               128.416667  \n",
       "3               145.750000  \n",
       "4               119.650000  \n",
       "...                    ...  \n",
       "12159            55.850000  \n",
       "12160           183.250000  \n",
       "12161           301.533333  \n",
       "12162           184.533333  \n",
       "12163           350.933333  \n",
       "\n",
       "[12164 rows x 30 columns]"
      ]
     },
     "execution_count": 73,
     "metadata": {},
     "output_type": "execute_result"
    }
   ],
   "source": [
    "#preprocessed data\n",
    "train_final"
   ]
  },
  {
   "cell_type": "code",
   "execution_count": 74,
   "metadata": {},
   "outputs": [
    {
     "data": {
      "text/plain": [
       "(12164, 30)"
      ]
     },
     "execution_count": 74,
     "metadata": {},
     "output_type": "execute_result"
    }
   ],
   "source": [
    "train_final.shape"
   ]
  },
  {
   "cell_type": "code",
   "execution_count": 75,
   "metadata": {
    "scrolled": true
   },
   "outputs": [
    {
     "data": {
      "text/plain": [
       "(3042, 30)"
      ]
     },
     "execution_count": 75,
     "metadata": {},
     "output_type": "execute_result"
    }
   ],
   "source": [
    "test_final.shape"
   ]
  },
  {
   "cell_type": "code",
   "execution_count": 76,
   "metadata": {},
   "outputs": [
    {
     "data": {
      "text/plain": [
       "Index(['CUSTOMER_MILES', 'WEIGHT', 'EQUIPMENT_TYPE_D-LTL',\n",
       "       'EQUIPMENT_TYPE_DRAY', 'EQUIPMENT_TYPE_DROP', 'EQUIPMENT_TYPE_F',\n",
       "       'EQUIPMENT_TYPE_IMDL', 'EQUIPMENT_TYPE_LTL', 'EQUIPMENT_TYPE_PARTIAL',\n",
       "       'EQUIPMENT_TYPE_PO', 'EQUIPMENT_TYPE_R', 'EQUIPMENT_TYPE_RAIL',\n",
       "       'EQUIPMENT_TYPE_RM', 'EQUIPMENT_TYPE_SB', 'EQUIPMENT_TYPE_SD',\n",
       "       'EQUIPMENT_TYPE_V', 'EQUIPMENT_TYPE_VA', 'EQUIPMENT_TYPE_VCAR',\n",
       "       'EQUIPMENT_TYPE_VM', 'EQUIPMENT_TYPE_VOLUME LTL', 'EQUIPMENT_TYPE_VP',\n",
       "       'EQUIPMENT_TYPE_VR', 'EQUIPMENT_TYPE_VS', 'EQUIPMENT_TYPE_VV',\n",
       "       'EQUIPMENT_TYPE_VZ', 'IS_HAZARDOUS_N', 'IS_HAZARDOUS_Y',\n",
       "       'TIME_ALLOWANCE_TO_COLLECT', 'TIME_ALLOWANCE_TO_DELIVERY',\n",
       "       'MAX_TIME_TO_SERVICE'],\n",
       "      dtype='object')"
      ]
     },
     "execution_count": 76,
     "metadata": {},
     "output_type": "execute_result"
    }
   ],
   "source": [
    "train_final.columns"
   ]
  },
  {
   "cell_type": "code",
   "execution_count": null,
   "metadata": {},
   "outputs": [],
   "source": []
  },
  {
   "cell_type": "markdown",
   "metadata": {
    "id": "qLXw0HrvRNtO"
   },
   "source": [
    "# Models"
   ]
  },
  {
   "cell_type": "markdown",
   "metadata": {
    "id": "nn8XZeHfRUmF"
   },
   "source": [
    "## Linear Regression"
   ]
  },
  {
   "cell_type": "code",
   "execution_count": 77,
   "metadata": {
    "id": "D_RcgKwDRRhW"
   },
   "outputs": [],
   "source": [
    "from sklearn.linear_model import LinearRegression\n",
    "lr = LinearRegression()\n",
    "lr.fit(train_final,y_train)\n",
    "train_preds_lr = lr.predict(train_final)\n",
    "test_preds_lr = lr.predict(test_final)"
   ]
  },
  {
   "cell_type": "markdown",
   "metadata": {},
   "source": [
    "#### I preferred rmse as metric for this problem because it squares the error,which results in large errors being highlighted than the smaller ones.\n"
   ]
  },
  {
   "cell_type": "code",
   "execution_count": 78,
   "metadata": {
    "id": "Y2a33bQUSlpb",
    "scrolled": true
   },
   "outputs": [
    {
     "name": "stdout",
     "output_type": "stream",
     "text": [
      "[767.8705118] 0.7942612116571045\n"
     ]
    }
   ],
   "source": [
    "print(lr.intercept_,lr.score(train_final,y_train))"
   ]
  },
  {
   "cell_type": "code",
   "execution_count": 79,
   "metadata": {
    "scrolled": true
   },
   "outputs": [
    {
     "data": {
      "text/plain": [
       "array([[ 7.70955321e+02,  1.01111483e+02, -1.56240933e+03,\n",
       "         1.23228724e+02,  2.65696485e+01,  4.08626368e+02,\n",
       "        -5.76692341e+02, -3.91569261e+02,  1.35709477e+02,\n",
       "         7.66270933e+02,  4.30077271e+02, -9.48311550e+02,\n",
       "         4.82291886e+02,  3.09009652e+02,  6.67544657e+02,\n",
       "         1.92721327e+02,  5.82208870e+02,  7.22496032e+01,\n",
       "         6.23819541e+02, -3.48877083e+02, -1.97980045e+03,\n",
       "         1.78084796e+02,  1.81486162e+02, -2.82004074e+01,\n",
       "         6.55961504e+02,  1.88381193e+02, -1.88381193e+02,\n",
       "        -1.30447849e-02, -1.59659091e-05,  8.21896143e-04]])"
      ]
     },
     "execution_count": 79,
     "metadata": {},
     "output_type": "execute_result"
    }
   ],
   "source": [
    "lr.coef_"
   ]
  },
  {
   "cell_type": "code",
   "execution_count": 80,
   "metadata": {},
   "outputs": [],
   "source": [
    "y_train.reset_index(drop=True,inplace=True)"
   ]
  },
  {
   "cell_type": "markdown",
   "metadata": {},
   "source": [
    "## Ridge Regression "
   ]
  },
  {
   "cell_type": "code",
   "execution_count": 81,
   "metadata": {},
   "outputs": [],
   "source": [
    "from sklearn.linear_model import Ridge\n",
    "ridge_model = Ridge(alpha=1)\n",
    "ridge_model.fit(train_final,y_train)\n",
    "train_preds_ridge = ridge_model.predict(train_final)\n",
    "test_preds_ridge = ridge_model.predict(test_final)"
   ]
  },
  {
   "cell_type": "code",
   "execution_count": null,
   "metadata": {},
   "outputs": [],
   "source": []
  },
  {
   "cell_type": "code",
   "execution_count": null,
   "metadata": {},
   "outputs": [],
   "source": []
  },
  {
   "cell_type": "markdown",
   "metadata": {},
   "source": [
    "### Get Regression Model Summary from Statsmodels package"
   ]
  },
  {
   "cell_type": "markdown",
   "metadata": {},
   "source": [
    "### Ordinary Least Square Regression (OLS)"
   ]
  },
  {
   "cell_type": "code",
   "execution_count": 82,
   "metadata": {
    "scrolled": false
   },
   "outputs": [
    {
     "name": "stdout",
     "output_type": "stream",
     "text": [
      "                            OLS Regression Results                            \n",
      "==============================================================================\n",
      "Dep. Variable:             ORDER_COST   R-squared:                       0.794\n",
      "Model:                            OLS   Adj. R-squared:                  0.794\n",
      "Method:                 Least Squares   F-statistic:                     1673.\n",
      "Date:                Fri, 19 May 2023   Prob (F-statistic):               0.00\n",
      "Time:                        06:35:58   Log-Likelihood:                -90628.\n",
      "No. Observations:               12164   AIC:                         1.813e+05\n",
      "Df Residuals:                   12135   BIC:                         1.815e+05\n",
      "Df Model:                          28                                         \n",
      "Covariance Type:            nonrobust                                         \n",
      "==============================================================================================\n",
      "                                 coef    std err          t      P>|t|      [0.025      0.975]\n",
      "----------------------------------------------------------------------------------------------\n",
      "CUSTOMER_MILES               770.9553      3.957    194.816      0.000     763.198     778.712\n",
      "WEIGHT                       101.1115      4.127     24.502      0.000      93.023     109.200\n",
      "EQUIPMENT_TYPE_D-LTL       -1500.9797    403.610     -3.719      0.000   -2292.120    -709.839\n",
      "EQUIPMENT_TYPE_DRAY          184.6584    288.022      0.641      0.521    -379.911     749.228\n",
      "EQUIPMENT_TYPE_DROP           87.9993     98.309      0.895      0.371    -104.702     280.701\n",
      "EQUIPMENT_TYPE_F             470.0560     84.465      5.565      0.000     304.491     635.621\n",
      "EQUIPMENT_TYPE_IMDL         -515.2627    207.364     -2.485      0.013    -921.728    -108.797\n",
      "EQUIPMENT_TYPE_LTL          -330.1396     81.631     -4.044      0.000    -490.149    -170.130\n",
      "EQUIPMENT_TYPE_PARTIAL       197.1391    403.595      0.488      0.625    -593.972     988.250\n",
      "EQUIPMENT_TYPE_PO            827.7006    403.627      2.051      0.040      36.528    1618.874\n",
      "EQUIPMENT_TYPE_R             491.5069     55.647      8.833      0.000     382.429     600.585\n",
      "EQUIPMENT_TYPE_RAIL         -886.8819    403.910     -2.196      0.028   -1678.610     -95.154\n",
      "EQUIPMENT_TYPE_RM            543.7215    172.638      3.149      0.002     205.324     882.119\n",
      "EQUIPMENT_TYPE_SB            370.4393    160.826      2.303      0.021      55.195     685.683\n",
      "EQUIPMENT_TYPE_SD            728.9743    237.305      3.072      0.002     263.819    1194.129\n",
      "EQUIPMENT_TYPE_V             254.1510     54.991      4.622      0.000     146.361     361.941\n",
      "EQUIPMENT_TYPE_VA            643.6385    403.608      1.595      0.111    -147.497    1434.774\n",
      "EQUIPMENT_TYPE_VCAR          133.6792    237.359      0.563      0.573    -331.582     598.941\n",
      "EQUIPMENT_TYPE_VM            685.2492    144.087      4.756      0.000     402.815     967.683\n",
      "EQUIPMENT_TYPE_VOLUME LTL   -287.4474    237.262     -1.212      0.226    -752.518     177.624\n",
      "EQUIPMENT_TYPE_VP          -1918.3708    403.720     -4.752      0.000   -2709.726   -1127.016\n",
      "EQUIPMENT_TYPE_VR            239.5144     55.551      4.312      0.000     130.626     348.402\n",
      "EQUIPMENT_TYPE_VS            242.9158    403.602      0.602      0.547    -548.208    1034.039\n",
      "EQUIPMENT_TYPE_VV             33.2292    403.628      0.082      0.934    -757.946     824.404\n",
      "EQUIPMENT_TYPE_VZ            717.3911    147.868      4.852      0.000     427.547    1007.236\n",
      "IS_HAZARDOUS_N               894.8221     54.813     16.325      0.000     787.380    1002.264\n",
      "IS_HAZARDOUS_Y               518.0597    146.103      3.546      0.000     231.674     804.446\n",
      "TIME_ALLOWANCE_TO_COLLECT     -0.0130      0.009     -1.375      0.169      -0.032       0.006\n",
      "TIME_ALLOWANCE_TO_DELIVERY -1.597e-05      0.001     -0.013      0.990      -0.002       0.002\n",
      "MAX_TIME_TO_SERVICE            0.0008      0.001      0.735      0.462      -0.001       0.003\n",
      "==============================================================================\n",
      "Omnibus:                     2752.633   Durbin-Watson:                   2.002\n",
      "Prob(Omnibus):                  0.000   Jarque-Bera (JB):           128785.117\n",
      "Skew:                           0.177   Prob(JB):                         0.00\n",
      "Kurtosis:                      18.937   Cond. No.                     6.48e+19\n",
      "==============================================================================\n",
      "\n",
      "Notes:\n",
      "[1] Standard Errors assume that the covariance matrix of the errors is correctly specified.\n",
      "[2] The smallest eigenvalue is 6.73e-29. This might indicate that there are\n",
      "strong multicollinearity problems or that the design matrix is singular.\n"
     ]
    }
   ],
   "source": [
    "import statsmodels.api as sm\n",
    "model = sm.OLS(y_train,train_final).fit()\n",
    "print(model.summary())"
   ]
  },
  {
   "cell_type": "markdown",
   "metadata": {},
   "source": [
    "# KNN Regressor"
   ]
  },
  {
   "cell_type": "code",
   "execution_count": 83,
   "metadata": {},
   "outputs": [],
   "source": [
    "from sklearn.neighbors import KNeighborsRegressor\n",
    "knn = KNeighborsRegressor(n_neighbors=5)"
   ]
  },
  {
   "cell_type": "code",
   "execution_count": 84,
   "metadata": {},
   "outputs": [
    {
     "data": {
      "text/html": [
       "<style>#sk-container-id-2 {color: black;background-color: white;}#sk-container-id-2 pre{padding: 0;}#sk-container-id-2 div.sk-toggleable {background-color: white;}#sk-container-id-2 label.sk-toggleable__label {cursor: pointer;display: block;width: 100%;margin-bottom: 0;padding: 0.3em;box-sizing: border-box;text-align: center;}#sk-container-id-2 label.sk-toggleable__label-arrow:before {content: \"▸\";float: left;margin-right: 0.25em;color: #696969;}#sk-container-id-2 label.sk-toggleable__label-arrow:hover:before {color: black;}#sk-container-id-2 div.sk-estimator:hover label.sk-toggleable__label-arrow:before {color: black;}#sk-container-id-2 div.sk-toggleable__content {max-height: 0;max-width: 0;overflow: hidden;text-align: left;background-color: #f0f8ff;}#sk-container-id-2 div.sk-toggleable__content pre {margin: 0.2em;color: black;border-radius: 0.25em;background-color: #f0f8ff;}#sk-container-id-2 input.sk-toggleable__control:checked~div.sk-toggleable__content {max-height: 200px;max-width: 100%;overflow: auto;}#sk-container-id-2 input.sk-toggleable__control:checked~label.sk-toggleable__label-arrow:before {content: \"▾\";}#sk-container-id-2 div.sk-estimator input.sk-toggleable__control:checked~label.sk-toggleable__label {background-color: #d4ebff;}#sk-container-id-2 div.sk-label input.sk-toggleable__control:checked~label.sk-toggleable__label {background-color: #d4ebff;}#sk-container-id-2 input.sk-hidden--visually {border: 0;clip: rect(1px 1px 1px 1px);clip: rect(1px, 1px, 1px, 1px);height: 1px;margin: -1px;overflow: hidden;padding: 0;position: absolute;width: 1px;}#sk-container-id-2 div.sk-estimator {font-family: monospace;background-color: #f0f8ff;border: 1px dotted black;border-radius: 0.25em;box-sizing: border-box;margin-bottom: 0.5em;}#sk-container-id-2 div.sk-estimator:hover {background-color: #d4ebff;}#sk-container-id-2 div.sk-parallel-item::after {content: \"\";width: 100%;border-bottom: 1px solid gray;flex-grow: 1;}#sk-container-id-2 div.sk-label:hover label.sk-toggleable__label {background-color: #d4ebff;}#sk-container-id-2 div.sk-serial::before {content: \"\";position: absolute;border-left: 1px solid gray;box-sizing: border-box;top: 0;bottom: 0;left: 50%;z-index: 0;}#sk-container-id-2 div.sk-serial {display: flex;flex-direction: column;align-items: center;background-color: white;padding-right: 0.2em;padding-left: 0.2em;position: relative;}#sk-container-id-2 div.sk-item {position: relative;z-index: 1;}#sk-container-id-2 div.sk-parallel {display: flex;align-items: stretch;justify-content: center;background-color: white;position: relative;}#sk-container-id-2 div.sk-item::before, #sk-container-id-2 div.sk-parallel-item::before {content: \"\";position: absolute;border-left: 1px solid gray;box-sizing: border-box;top: 0;bottom: 0;left: 50%;z-index: -1;}#sk-container-id-2 div.sk-parallel-item {display: flex;flex-direction: column;z-index: 1;position: relative;background-color: white;}#sk-container-id-2 div.sk-parallel-item:first-child::after {align-self: flex-end;width: 50%;}#sk-container-id-2 div.sk-parallel-item:last-child::after {align-self: flex-start;width: 50%;}#sk-container-id-2 div.sk-parallel-item:only-child::after {width: 0;}#sk-container-id-2 div.sk-dashed-wrapped {border: 1px dashed gray;margin: 0 0.4em 0.5em 0.4em;box-sizing: border-box;padding-bottom: 0.4em;background-color: white;}#sk-container-id-2 div.sk-label label {font-family: monospace;font-weight: bold;display: inline-block;line-height: 1.2em;}#sk-container-id-2 div.sk-label-container {text-align: center;}#sk-container-id-2 div.sk-container {/* jupyter's `normalize.less` sets `[hidden] { display: none; }` but bootstrap.min.css set `[hidden] { display: none !important; }` so we also need the `!important` here to be able to override the default hidden behavior on the sphinx rendered scikit-learn.org. See: https://github.com/scikit-learn/scikit-learn/issues/21755 */display: inline-block !important;position: relative;}#sk-container-id-2 div.sk-text-repr-fallback {display: none;}</style><div id=\"sk-container-id-2\" class=\"sk-top-container\"><div class=\"sk-text-repr-fallback\"><pre>KNeighborsRegressor()</pre><b>In a Jupyter environment, please rerun this cell to show the HTML representation or trust the notebook. <br />On GitHub, the HTML representation is unable to render, please try loading this page with nbviewer.org.</b></div><div class=\"sk-container\" hidden><div class=\"sk-item\"><div class=\"sk-estimator sk-toggleable\"><input class=\"sk-toggleable__control sk-hidden--visually\" id=\"sk-estimator-id-2\" type=\"checkbox\" checked><label for=\"sk-estimator-id-2\" class=\"sk-toggleable__label sk-toggleable__label-arrow\">KNeighborsRegressor</label><div class=\"sk-toggleable__content\"><pre>KNeighborsRegressor()</pre></div></div></div></div></div>"
      ],
      "text/plain": [
       "KNeighborsRegressor()"
      ]
     },
     "execution_count": 84,
     "metadata": {},
     "output_type": "execute_result"
    }
   ],
   "source": [
    "knn.fit(train_final,y_train)"
   ]
  },
  {
   "cell_type": "code",
   "execution_count": 85,
   "metadata": {},
   "outputs": [],
   "source": [
    "train_preds_knn = knn.predict(train_final)"
   ]
  },
  {
   "cell_type": "code",
   "execution_count": 86,
   "metadata": {},
   "outputs": [],
   "source": [
    "test_preds_knn = knn.predict(test_final)"
   ]
  },
  {
   "cell_type": "markdown",
   "metadata": {
    "id": "L11K8tfHTDXf"
   },
   "source": [
    "## Decision Tree Regressor"
   ]
  },
  {
   "cell_type": "code",
   "execution_count": 87,
   "metadata": {
    "colab": {
     "base_uri": "https://localhost:8080/"
    },
    "id": "kcWIf2pqTGhc",
    "outputId": "d085e779-685d-42f1-fe72-dbf00b120dac"
   },
   "outputs": [],
   "source": [
    "from sklearn.tree import DecisionTreeRegressor\n",
    "dtr = DecisionTreeRegressor(max_depth=5, random_state=42)\n",
    "\n",
    "# Train model on training set\n",
    "dtr.fit(train_final, y_train)\n",
    "\n",
    "# Make predictions on test set\n",
    "train_preds_dtr = dtr.predict(train_final)\n",
    "\n",
    "test_preds_dtr = dtr.predict(test_final)"
   ]
  },
  {
   "cell_type": "markdown",
   "metadata": {},
   "source": [
    "## GridSearchCV on Decision Tree"
   ]
  },
  {
   "cell_type": "code",
   "execution_count": 88,
   "metadata": {},
   "outputs": [],
   "source": [
    "parameters ={'max_depth':[10,20],\n",
    "            'min_samples_split':[2,3,4,5],'criterion': ['mse','mae']}"
   ]
  },
  {
   "cell_type": "code",
   "execution_count": 89,
   "metadata": {},
   "outputs": [],
   "source": [
    "dt = DecisionTreeRegressor()"
   ]
  },
  {
   "cell_type": "code",
   "execution_count": 90,
   "metadata": {},
   "outputs": [],
   "source": [
    "grid_search_DT = GridSearchCV(dt,param_grid = parameters,cv=5,n_jobs=-1)"
   ]
  },
  {
   "cell_type": "code",
   "execution_count": 91,
   "metadata": {},
   "outputs": [
    {
     "data": {
      "text/html": [
       "<style>#sk-container-id-3 {color: black;background-color: white;}#sk-container-id-3 pre{padding: 0;}#sk-container-id-3 div.sk-toggleable {background-color: white;}#sk-container-id-3 label.sk-toggleable__label {cursor: pointer;display: block;width: 100%;margin-bottom: 0;padding: 0.3em;box-sizing: border-box;text-align: center;}#sk-container-id-3 label.sk-toggleable__label-arrow:before {content: \"▸\";float: left;margin-right: 0.25em;color: #696969;}#sk-container-id-3 label.sk-toggleable__label-arrow:hover:before {color: black;}#sk-container-id-3 div.sk-estimator:hover label.sk-toggleable__label-arrow:before {color: black;}#sk-container-id-3 div.sk-toggleable__content {max-height: 0;max-width: 0;overflow: hidden;text-align: left;background-color: #f0f8ff;}#sk-container-id-3 div.sk-toggleable__content pre {margin: 0.2em;color: black;border-radius: 0.25em;background-color: #f0f8ff;}#sk-container-id-3 input.sk-toggleable__control:checked~div.sk-toggleable__content {max-height: 200px;max-width: 100%;overflow: auto;}#sk-container-id-3 input.sk-toggleable__control:checked~label.sk-toggleable__label-arrow:before {content: \"▾\";}#sk-container-id-3 div.sk-estimator input.sk-toggleable__control:checked~label.sk-toggleable__label {background-color: #d4ebff;}#sk-container-id-3 div.sk-label input.sk-toggleable__control:checked~label.sk-toggleable__label {background-color: #d4ebff;}#sk-container-id-3 input.sk-hidden--visually {border: 0;clip: rect(1px 1px 1px 1px);clip: rect(1px, 1px, 1px, 1px);height: 1px;margin: -1px;overflow: hidden;padding: 0;position: absolute;width: 1px;}#sk-container-id-3 div.sk-estimator {font-family: monospace;background-color: #f0f8ff;border: 1px dotted black;border-radius: 0.25em;box-sizing: border-box;margin-bottom: 0.5em;}#sk-container-id-3 div.sk-estimator:hover {background-color: #d4ebff;}#sk-container-id-3 div.sk-parallel-item::after {content: \"\";width: 100%;border-bottom: 1px solid gray;flex-grow: 1;}#sk-container-id-3 div.sk-label:hover label.sk-toggleable__label {background-color: #d4ebff;}#sk-container-id-3 div.sk-serial::before {content: \"\";position: absolute;border-left: 1px solid gray;box-sizing: border-box;top: 0;bottom: 0;left: 50%;z-index: 0;}#sk-container-id-3 div.sk-serial {display: flex;flex-direction: column;align-items: center;background-color: white;padding-right: 0.2em;padding-left: 0.2em;position: relative;}#sk-container-id-3 div.sk-item {position: relative;z-index: 1;}#sk-container-id-3 div.sk-parallel {display: flex;align-items: stretch;justify-content: center;background-color: white;position: relative;}#sk-container-id-3 div.sk-item::before, #sk-container-id-3 div.sk-parallel-item::before {content: \"\";position: absolute;border-left: 1px solid gray;box-sizing: border-box;top: 0;bottom: 0;left: 50%;z-index: -1;}#sk-container-id-3 div.sk-parallel-item {display: flex;flex-direction: column;z-index: 1;position: relative;background-color: white;}#sk-container-id-3 div.sk-parallel-item:first-child::after {align-self: flex-end;width: 50%;}#sk-container-id-3 div.sk-parallel-item:last-child::after {align-self: flex-start;width: 50%;}#sk-container-id-3 div.sk-parallel-item:only-child::after {width: 0;}#sk-container-id-3 div.sk-dashed-wrapped {border: 1px dashed gray;margin: 0 0.4em 0.5em 0.4em;box-sizing: border-box;padding-bottom: 0.4em;background-color: white;}#sk-container-id-3 div.sk-label label {font-family: monospace;font-weight: bold;display: inline-block;line-height: 1.2em;}#sk-container-id-3 div.sk-label-container {text-align: center;}#sk-container-id-3 div.sk-container {/* jupyter's `normalize.less` sets `[hidden] { display: none; }` but bootstrap.min.css set `[hidden] { display: none !important; }` so we also need the `!important` here to be able to override the default hidden behavior on the sphinx rendered scikit-learn.org. See: https://github.com/scikit-learn/scikit-learn/issues/21755 */display: inline-block !important;position: relative;}#sk-container-id-3 div.sk-text-repr-fallback {display: none;}</style><div id=\"sk-container-id-3\" class=\"sk-top-container\"><div class=\"sk-text-repr-fallback\"><pre>GridSearchCV(cv=5, estimator=DecisionTreeRegressor(), n_jobs=-1,\n",
       "             param_grid={&#x27;criterion&#x27;: [&#x27;mse&#x27;, &#x27;mae&#x27;], &#x27;max_depth&#x27;: [10, 20],\n",
       "                         &#x27;min_samples_split&#x27;: [2, 3, 4, 5]})</pre><b>In a Jupyter environment, please rerun this cell to show the HTML representation or trust the notebook. <br />On GitHub, the HTML representation is unable to render, please try loading this page with nbviewer.org.</b></div><div class=\"sk-container\" hidden><div class=\"sk-item sk-dashed-wrapped\"><div class=\"sk-label-container\"><div class=\"sk-label sk-toggleable\"><input class=\"sk-toggleable__control sk-hidden--visually\" id=\"sk-estimator-id-3\" type=\"checkbox\" ><label for=\"sk-estimator-id-3\" class=\"sk-toggleable__label sk-toggleable__label-arrow\">GridSearchCV</label><div class=\"sk-toggleable__content\"><pre>GridSearchCV(cv=5, estimator=DecisionTreeRegressor(), n_jobs=-1,\n",
       "             param_grid={&#x27;criterion&#x27;: [&#x27;mse&#x27;, &#x27;mae&#x27;], &#x27;max_depth&#x27;: [10, 20],\n",
       "                         &#x27;min_samples_split&#x27;: [2, 3, 4, 5]})</pre></div></div></div><div class=\"sk-parallel\"><div class=\"sk-parallel-item\"><div class=\"sk-item\"><div class=\"sk-label-container\"><div class=\"sk-label sk-toggleable\"><input class=\"sk-toggleable__control sk-hidden--visually\" id=\"sk-estimator-id-4\" type=\"checkbox\" ><label for=\"sk-estimator-id-4\" class=\"sk-toggleable__label sk-toggleable__label-arrow\">estimator: DecisionTreeRegressor</label><div class=\"sk-toggleable__content\"><pre>DecisionTreeRegressor()</pre></div></div></div><div class=\"sk-serial\"><div class=\"sk-item\"><div class=\"sk-estimator sk-toggleable\"><input class=\"sk-toggleable__control sk-hidden--visually\" id=\"sk-estimator-id-5\" type=\"checkbox\" ><label for=\"sk-estimator-id-5\" class=\"sk-toggleable__label sk-toggleable__label-arrow\">DecisionTreeRegressor</label><div class=\"sk-toggleable__content\"><pre>DecisionTreeRegressor()</pre></div></div></div></div></div></div></div></div></div></div>"
      ],
      "text/plain": [
       "GridSearchCV(cv=5, estimator=DecisionTreeRegressor(), n_jobs=-1,\n",
       "             param_grid={'criterion': ['mse', 'mae'], 'max_depth': [10, 20],\n",
       "                         'min_samples_split': [2, 3, 4, 5]})"
      ]
     },
     "execution_count": 91,
     "metadata": {},
     "output_type": "execute_result"
    }
   ],
   "source": [
    "grid_search_DT.fit(train_final,y_train)"
   ]
  },
  {
   "cell_type": "code",
   "execution_count": 92,
   "metadata": {},
   "outputs": [
    {
     "data": {
      "text/plain": [
       "{'criterion': 'mse', 'max_depth': 20, 'min_samples_split': 5}"
      ]
     },
     "execution_count": 92,
     "metadata": {},
     "output_type": "execute_result"
    }
   ],
   "source": [
    "grid_search_DT.best_params_  "
   ]
  },
  {
   "cell_type": "code",
   "execution_count": 93,
   "metadata": {},
   "outputs": [
    {
     "data": {
      "text/plain": [
       "0.9017364873776742"
      ]
     },
     "execution_count": 93,
     "metadata": {},
     "output_type": "execute_result"
    }
   ],
   "source": [
    "grid_search_DT.best_score_"
   ]
  },
  {
   "cell_type": "markdown",
   "metadata": {},
   "source": [
    "# DecisionTreeRegressor using parameters from GridSearchCV"
   ]
  },
  {
   "cell_type": "code",
   "execution_count": 94,
   "metadata": {},
   "outputs": [],
   "source": [
    "from sklearn.tree import DecisionTreeRegressor\n",
    "dtr_gscv = DecisionTreeRegressor(max_depth=20,criterion='mse',min_samples_split=5)\n",
    "\n",
    "# Train model on training set\n",
    "dtr_gscv.fit(train_final, y_train)\n",
    "\n",
    "# Make predictions on test set\n",
    "train_preds_dtr_gscv = dtr_gscv.predict(train_final)\n",
    "\n",
    "test_preds_dtr_gscv = dtr_gscv.predict(test_final)"
   ]
  },
  {
   "cell_type": "markdown",
   "metadata": {},
   "source": [
    "# RandomForestRegressor"
   ]
  },
  {
   "cell_type": "code",
   "execution_count": 95,
   "metadata": {},
   "outputs": [],
   "source": [
    "from sklearn.ensemble import RandomForestRegressor"
   ]
  },
  {
   "cell_type": "code",
   "execution_count": 96,
   "metadata": {},
   "outputs": [],
   "source": [
    "rfr = RandomForestRegressor()\n",
    "rfr.fit(train_final,y_train)\n",
    "train_preds_rfr = rfr.predict(train_final)\n",
    "test_preds_rfr = rfr.predict(test_final)"
   ]
  },
  {
   "cell_type": "code",
   "execution_count": null,
   "metadata": {},
   "outputs": [],
   "source": []
  },
  {
   "cell_type": "markdown",
   "metadata": {},
   "source": [
    "# Stacking"
   ]
  },
  {
   "cell_type": "code",
   "execution_count": 97,
   "metadata": {},
   "outputs": [],
   "source": [
    "from sklearn.ensemble import RandomForestRegressor\n",
    "from sklearn.ensemble import GradientBoostingRegressor\n",
    "from sklearn.ensemble import StackingRegressor\n",
    "# Define the base regressors\n",
    "base_regressors = [\n",
    "    ('linear', LinearRegression()),\n",
    "    ('random_forest', RandomForestRegressor(random_state=42)),\n",
    "    ('gradient_boosting', GradientBoostingRegressor(random_state=42))\n",
    "]\n",
    "\n",
    "# Define the meta-regressor\n",
    "meta_regressor = LinearRegression()\n",
    "\n",
    "# Create the stacking regressor\n",
    "stacking_regressor = StackingRegressor(estimators=base_regressors, final_estimator=meta_regressor)\n",
    "\n",
    "# Train the stacking regressor\n",
    "stacking_regressor.fit(train_final, y_train)\n",
    "\n",
    "# Make predictions on the train set\n",
    "train_preds_stack = stacking_regressor.predict(train_final)\n",
    "\n",
    "# Make predictions on the test set\n",
    "test_preds_stack = stacking_regressor.predict(test_final)"
   ]
  },
  {
   "cell_type": "code",
   "execution_count": null,
   "metadata": {},
   "outputs": [],
   "source": []
  },
  {
   "cell_type": "markdown",
   "metadata": {},
   "source": [
    "### Error Metrics for different models"
   ]
  },
  {
   "cell_type": "code",
   "execution_count": 98,
   "metadata": {},
   "outputs": [],
   "source": [
    "from sklearn.metrics import mean_absolute_error,mean_squared_error,r2_score"
   ]
  },
  {
   "cell_type": "code",
   "execution_count": 99,
   "metadata": {},
   "outputs": [],
   "source": [
    "def metrics(y_actual, y_pred, model_name):\n",
    "\n",
    "    metrics = {}\n",
    "    \n",
    "    # Mean Absolute Error (MAE)\n",
    "    MAE = mean_absolute_error(y_actual, y_pred)\n",
    "    metrics['MAE'] = MAE\n",
    "    \n",
    "    # Mean Squared Error (MSE)\n",
    "    MSE = mean_squared_error(y_actual, y_pred)\n",
    "    metrics['MSE'] = MSE\n",
    "    \n",
    "    # Root Mean Squared Error (RMSE)\n",
    "    RMSE = mean_squared_error(y_actual, y_pred, squared=False)\n",
    "    metrics['RMSE'] = RMSE\n",
    "    \n",
    "    # R-squared (R²)\n",
    "    R2 = r2_score(y_actual, y_pred)\n",
    "    metrics['R-squared'] = R2\n",
    "    \n",
    "    #creating a dataframe of different metrics from different models\n",
    "    df = pd.DataFrame(metrics, index=[model_name])\n",
    "    \n",
    "    return df\n"
   ]
  },
  {
   "cell_type": "markdown",
   "metadata": {},
   "source": [
    "### Metrics function for different models on train data"
   ]
  },
  {
   "cell_type": "code",
   "execution_count": 100,
   "metadata": {
    "scrolled": true
   },
   "outputs": [],
   "source": [
    "model_metrics = []  # List to store the metrics for each model\n",
    "\n",
    "# Calculate metrics for Linear Regression\n",
    "metrics_model1 = metrics(y_train,train_preds_lr, \"Linear Regression\")\n",
    "model_metrics.append(metrics_model1)\n",
    "\n",
    "# Calculate metrics for Ridge Regression\n",
    "metrics_model11 = metrics(y_train,train_preds_ridge, \"Ridge Regression\")\n",
    "model_metrics.append(metrics_model11)\n",
    "\n",
    "# Calculate metrics for DecisionTree \n",
    "metrics_model2 = metrics(y_train,train_preds_dtr, \"DecisionTree\")\n",
    "model_metrics.append(metrics_model2)\n",
    "\n",
    "# Calculate metrics for DecisionTree with gridsearchcv\n",
    "metrics_model3 = metrics(y_train,train_preds_dtr_gscv, \"DecisionTree_GSCV\")\n",
    "model_metrics.append(metrics_model3)\n",
    "\n",
    "# Calculate metrics for RandomForestRegressor\n",
    "metrics_model4 = metrics(y_train,train_preds_rfr, \"RandomForestRegressor\")\n",
    "model_metrics.append(metrics_model4)\n",
    "\n",
    "# Calculate metrics for Stacking\n",
    "metrics_model5 = metrics(y_train,train_preds_stack, \"stacking\")\n",
    "model_metrics.append(metrics_model5)\n",
    "\n",
    "# Concatenate the DataFrames\n",
    "train_all_metrics = pd.concat(model_metrics)\n"
   ]
  },
  {
   "cell_type": "markdown",
   "metadata": {},
   "source": [
    "### Metrics function for different models on test data"
   ]
  },
  {
   "cell_type": "code",
   "execution_count": 101,
   "metadata": {},
   "outputs": [],
   "source": [
    "model_metrics = []  # List to store the metrics for each model\n",
    "\n",
    "# Calculate metrics for Linear Regression\n",
    "metrics_model1 = metrics(y_test,test_preds_lr, \"Linear Regression\")\n",
    "model_metrics.append(metrics_model1)\n",
    "\n",
    "# Calculate metrics for Ridge Regression\n",
    "metrics_model11 = metrics(y_test,test_preds_ridge, \"Ridge Regression\")\n",
    "model_metrics.append(metrics_model11)\n",
    "\n",
    "# Calculate metrics for KNN\n",
    "metrics_model2 = metrics(y_test,test_preds_knn, \"KNN\")\n",
    "model_metrics.append(metrics_model2)\n",
    "\n",
    "\n",
    "# Calculate metrics for DecisionTree \n",
    "metrics_model3 = metrics(y_test,test_preds_dtr, \"DecisionTree\")\n",
    "model_metrics.append(metrics_model3)\n",
    "\n",
    "# Calculate metrics for DecisionTree with gridsearchcv\n",
    "metrics_model4 = metrics(y_test,test_preds_dtr_gscv, \"DecisionTree_GSCV\")\n",
    "model_metrics.append(metrics_model4)\n",
    "\n",
    "# Calculate metrics for RandomForestRegressor\n",
    "metrics_model5 = metrics(y_test,test_preds_rfr, \"RandomForestRegressor\")\n",
    "model_metrics.append(metrics_model5)\n",
    "\n",
    "# Calculate metrics for Stacking\n",
    "metrics_model6 = metrics(y_test,test_preds_stack, \"stacking\")\n",
    "model_metrics.append(metrics_model6)\n",
    "\n",
    "# Concatenate the DataFrames\n",
    "test_all_metrics = pd.concat(model_metrics)"
   ]
  },
  {
   "cell_type": "code",
   "execution_count": 102,
   "metadata": {},
   "outputs": [
    {
     "data": {
      "text/html": [
       "<div>\n",
       "<style scoped>\n",
       "    .dataframe tbody tr th:only-of-type {\n",
       "        vertical-align: middle;\n",
       "    }\n",
       "\n",
       "    .dataframe tbody tr th {\n",
       "        vertical-align: top;\n",
       "    }\n",
       "\n",
       "    .dataframe thead th {\n",
       "        text-align: right;\n",
       "    }\n",
       "</style>\n",
       "<table border=\"1\" class=\"dataframe\">\n",
       "  <thead>\n",
       "    <tr style=\"text-align: right;\">\n",
       "      <th></th>\n",
       "      <th>MAE</th>\n",
       "      <th>MSE</th>\n",
       "      <th>RMSE</th>\n",
       "      <th>R-squared</th>\n",
       "    </tr>\n",
       "  </thead>\n",
       "  <tbody>\n",
       "    <tr>\n",
       "      <th>Linear Regression</th>\n",
       "      <td>265.927349</td>\n",
       "      <td>173355.995100</td>\n",
       "      <td>416.360415</td>\n",
       "      <td>0.794261</td>\n",
       "    </tr>\n",
       "    <tr>\n",
       "      <th>Ridge Regression</th>\n",
       "      <td>266.264184</td>\n",
       "      <td>173557.142481</td>\n",
       "      <td>416.601899</td>\n",
       "      <td>0.794022</td>\n",
       "    </tr>\n",
       "    <tr>\n",
       "      <th>DecisionTree</th>\n",
       "      <td>218.250167</td>\n",
       "      <td>104857.653468</td>\n",
       "      <td>323.817315</td>\n",
       "      <td>0.875555</td>\n",
       "    </tr>\n",
       "    <tr>\n",
       "      <th>DecisionTree_GSCV</th>\n",
       "      <td>41.715866</td>\n",
       "      <td>8104.453214</td>\n",
       "      <td>90.024737</td>\n",
       "      <td>0.990382</td>\n",
       "    </tr>\n",
       "    <tr>\n",
       "      <th>RandomForestRegressor</th>\n",
       "      <td>41.935583</td>\n",
       "      <td>6529.755228</td>\n",
       "      <td>80.806901</td>\n",
       "      <td>0.992250</td>\n",
       "    </tr>\n",
       "    <tr>\n",
       "      <th>stacking</th>\n",
       "      <td>46.561981</td>\n",
       "      <td>7382.543432</td>\n",
       "      <td>85.921729</td>\n",
       "      <td>0.991238</td>\n",
       "    </tr>\n",
       "  </tbody>\n",
       "</table>\n",
       "</div>"
      ],
      "text/plain": [
       "                              MAE            MSE        RMSE  R-squared\n",
       "Linear Regression      265.927349  173355.995100  416.360415   0.794261\n",
       "Ridge Regression       266.264184  173557.142481  416.601899   0.794022\n",
       "DecisionTree           218.250167  104857.653468  323.817315   0.875555\n",
       "DecisionTree_GSCV       41.715866    8104.453214   90.024737   0.990382\n",
       "RandomForestRegressor   41.935583    6529.755228   80.806901   0.992250\n",
       "stacking                46.561981    7382.543432   85.921729   0.991238"
      ]
     },
     "execution_count": 102,
     "metadata": {},
     "output_type": "execute_result"
    }
   ],
   "source": [
    "train_all_metrics"
   ]
  },
  {
   "cell_type": "code",
   "execution_count": 103,
   "metadata": {},
   "outputs": [
    {
     "data": {
      "text/html": [
       "<div>\n",
       "<style scoped>\n",
       "    .dataframe tbody tr th:only-of-type {\n",
       "        vertical-align: middle;\n",
       "    }\n",
       "\n",
       "    .dataframe tbody tr th {\n",
       "        vertical-align: top;\n",
       "    }\n",
       "\n",
       "    .dataframe thead th {\n",
       "        text-align: right;\n",
       "    }\n",
       "</style>\n",
       "<table border=\"1\" class=\"dataframe\">\n",
       "  <thead>\n",
       "    <tr style=\"text-align: right;\">\n",
       "      <th></th>\n",
       "      <th>MAE</th>\n",
       "      <th>MSE</th>\n",
       "      <th>RMSE</th>\n",
       "      <th>R-squared</th>\n",
       "    </tr>\n",
       "  </thead>\n",
       "  <tbody>\n",
       "    <tr>\n",
       "      <th>Linear Regression</th>\n",
       "      <td>258.948076</td>\n",
       "      <td>154791.505979</td>\n",
       "      <td>393.435517</td>\n",
       "      <td>0.795506</td>\n",
       "    </tr>\n",
       "    <tr>\n",
       "      <th>Ridge Regression</th>\n",
       "      <td>259.061199</td>\n",
       "      <td>154751.571183</td>\n",
       "      <td>393.384762</td>\n",
       "      <td>0.795559</td>\n",
       "    </tr>\n",
       "    <tr>\n",
       "      <th>KNN</th>\n",
       "      <td>351.223234</td>\n",
       "      <td>279281.831806</td>\n",
       "      <td>528.471221</td>\n",
       "      <td>0.631043</td>\n",
       "    </tr>\n",
       "    <tr>\n",
       "      <th>DecisionTree</th>\n",
       "      <td>223.370780</td>\n",
       "      <td>104633.734377</td>\n",
       "      <td>323.471381</td>\n",
       "      <td>0.861769</td>\n",
       "    </tr>\n",
       "    <tr>\n",
       "      <th>DecisionTree_GSCV</th>\n",
       "      <td>126.827523</td>\n",
       "      <td>65462.952416</td>\n",
       "      <td>255.857289</td>\n",
       "      <td>0.913517</td>\n",
       "    </tr>\n",
       "    <tr>\n",
       "      <th>RandomForestRegressor</th>\n",
       "      <td>105.155007</td>\n",
       "      <td>34480.844028</td>\n",
       "      <td>185.690183</td>\n",
       "      <td>0.954448</td>\n",
       "    </tr>\n",
       "    <tr>\n",
       "      <th>stacking</th>\n",
       "      <td>107.182468</td>\n",
       "      <td>34401.811936</td>\n",
       "      <td>185.477254</td>\n",
       "      <td>0.954552</td>\n",
       "    </tr>\n",
       "  </tbody>\n",
       "</table>\n",
       "</div>"
      ],
      "text/plain": [
       "                              MAE            MSE        RMSE  R-squared\n",
       "Linear Regression      258.948076  154791.505979  393.435517   0.795506\n",
       "Ridge Regression       259.061199  154751.571183  393.384762   0.795559\n",
       "KNN                    351.223234  279281.831806  528.471221   0.631043\n",
       "DecisionTree           223.370780  104633.734377  323.471381   0.861769\n",
       "DecisionTree_GSCV      126.827523   65462.952416  255.857289   0.913517\n",
       "RandomForestRegressor  105.155007   34480.844028  185.690183   0.954448\n",
       "stacking               107.182468   34401.811936  185.477254   0.954552"
      ]
     },
     "execution_count": 103,
     "metadata": {},
     "output_type": "execute_result"
    }
   ],
   "source": [
    "test_all_metrics"
   ]
  },
  {
   "cell_type": "code",
   "execution_count": null,
   "metadata": {},
   "outputs": [],
   "source": []
  }
 ],
 "metadata": {
  "colab": {
   "provenance": [],
   "toc_visible": true
  },
  "kernelspec": {
   "display_name": "Python 3 (ipykernel)",
   "language": "python",
   "name": "python3"
  },
  "language_info": {
   "codemirror_mode": {
    "name": "ipython",
    "version": 3
   },
   "file_extension": ".py",
   "mimetype": "text/x-python",
   "name": "python",
   "nbconvert_exporter": "python",
   "pygments_lexer": "ipython3",
   "version": "3.9.12"
  }
 },
 "nbformat": 4,
 "nbformat_minor": 1
}
