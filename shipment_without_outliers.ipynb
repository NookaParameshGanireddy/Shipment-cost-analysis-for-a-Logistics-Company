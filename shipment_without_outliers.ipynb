{
 "cells": [
  {
   "cell_type": "markdown",
   "metadata": {
    "id": "Ky56gYmeQUUe"
   },
   "source": [
    "# Problem Statement"
   ]
  },
  {
   "cell_type": "markdown",
   "metadata": {
    "id": "3qWIcua6Ziyr"
   },
   "source": [
    "SwiftFreight is committed being the industry leader in logistic services through the continuous\n",
    "investment in technology solutions and talented individuals. SwiftFreight is the middleman between the\n",
    "customer and freight services. They will charge the customer and pay to the freight services and during\n",
    "the transaction they will make their profit/revenue. The challenge is, given a request from a customer\n",
    "for shipment they would like to decide the estimated cost for the carriers. This information will enable\n",
    "them to quote the best price for the customer and reduce the revenue leakages and increase their bottom\n",
    "line.\n"
   ]
  },
  {
   "cell_type": "code",
   "execution_count": 1,
   "metadata": {
    "colab": {
     "base_uri": "https://localhost:8080/"
    },
    "id": "IOqgRaDsCzwS",
    "outputId": "07e14411-9bc6-4928-d759-6940eb3a64f1"
   },
   "outputs": [],
   "source": [
    "# from google.colab import drive\n",
    "# drive.mount('/content/drive')\n",
    "# import os\n",
    "# path = '/content/drive/MyDrive/capstone'\n",
    "# os.chdir(path)\n"
   ]
  },
  {
   "cell_type": "markdown",
   "metadata": {
    "id": "tcHF3g1hZJM5"
   },
   "source": [
    "# Importing required libraries\n"
   ]
  },
  {
   "cell_type": "code",
   "execution_count": 2,
   "metadata": {
    "id": "eNP5ncpNXSFZ"
   },
   "outputs": [],
   "source": [
    "#importing necessary libraries\n",
    "import numpy as np\n",
    "import pandas as pd\n",
    "from sklearn.model_selection import train_test_split\n",
    "from sklearn.preprocessing import StandardScaler,OneHotEncoder\n",
    "from sklearn.impute import SimpleImputer\n",
    "import seaborn as sns\n",
    "from matplotlib import pyplot as plt\n",
    "import warnings\n",
    "warnings.filterwarnings('ignore')\n",
    "from sklearn.model_selection import GridSearchCV"
   ]
  },
  {
   "cell_type": "markdown",
   "metadata": {
    "id": "nAQo46jMZR-Q"
   },
   "source": [
    "# Data reading"
   ]
  },
  {
   "cell_type": "code",
   "execution_count": 3,
   "metadata": {
    "colab": {
     "base_uri": "https://localhost:8080/",
     "height": 357
    },
    "id": "2iqhKQzvW_ZP",
    "outputId": "43fcbcc4-7d8a-4606-8d6b-2e47c086c4e6"
   },
   "outputs": [
    {
     "data": {
      "text/html": [
       "<div>\n",
       "<style scoped>\n",
       "    .dataframe tbody tr th:only-of-type {\n",
       "        vertical-align: middle;\n",
       "    }\n",
       "\n",
       "    .dataframe tbody tr th {\n",
       "        vertical-align: top;\n",
       "    }\n",
       "\n",
       "    .dataframe thead th {\n",
       "        text-align: right;\n",
       "    }\n",
       "</style>\n",
       "<table border=\"1\" class=\"dataframe\">\n",
       "  <thead>\n",
       "    <tr style=\"text-align: right;\">\n",
       "      <th></th>\n",
       "      <th>ORDER_NBR</th>\n",
       "      <th>EQUIPMENT_TYPE</th>\n",
       "      <th>CUSTOMER_MILES</th>\n",
       "      <th>WEIGHT</th>\n",
       "      <th>ORDER_COST</th>\n",
       "      <th>FIRST_PICK_ZIP</th>\n",
       "      <th>FIRST_PICK_EARLY_APPT</th>\n",
       "      <th>FIRST_PICK_LATE_APPT</th>\n",
       "      <th>LAST_DELIVERY_ZIP</th>\n",
       "      <th>LAST_DELIVERY_EARLY_APPT</th>\n",
       "      <th>LAST_DELIVERY_LATE_APPT</th>\n",
       "      <th>IS_HAZARDOUS</th>\n",
       "      <th>CREATED_DATE</th>\n",
       "    </tr>\n",
       "  </thead>\n",
       "  <tbody>\n",
       "    <tr>\n",
       "      <th>0</th>\n",
       "      <td>535361133</td>\n",
       "      <td>53 FLATBED</td>\n",
       "      <td>802</td>\n",
       "      <td>42000</td>\n",
       "      <td>0.00</td>\n",
       "      <td>21224</td>\n",
       "      <td>2015-07-13 07:30:00</td>\n",
       "      <td>2015-07-13 15:00:00</td>\n",
       "      <td>62707</td>\n",
       "      <td>2015-07-14 08:00:00</td>\n",
       "      <td>2015-07-14 16:00:00</td>\n",
       "      <td>N</td>\n",
       "      <td>2015-07-01 10:22:00</td>\n",
       "    </tr>\n",
       "    <tr>\n",
       "      <th>1</th>\n",
       "      <td>1499443993</td>\n",
       "      <td>V</td>\n",
       "      <td>0</td>\n",
       "      <td>40500</td>\n",
       "      <td>875.00</td>\n",
       "      <td>L1W 3H9</td>\n",
       "      <td>2015-07-06 14:00:00</td>\n",
       "      <td>2015-07-06 14:00:00</td>\n",
       "      <td>13619</td>\n",
       "      <td>2015-07-07 07:00:00</td>\n",
       "      <td>2015-07-07 16:00:00</td>\n",
       "      <td>N</td>\n",
       "      <td>2015-07-02 10:37:00</td>\n",
       "    </tr>\n",
       "    <tr>\n",
       "      <th>2</th>\n",
       "      <td>1058279607</td>\n",
       "      <td>NaN</td>\n",
       "      <td>774</td>\n",
       "      <td>0</td>\n",
       "      <td>88.14</td>\n",
       "      <td>46037</td>\n",
       "      <td>2015-07-01 08:00:00</td>\n",
       "      <td>2015-07-02 17:00:00</td>\n",
       "      <td>73107</td>\n",
       "      <td>2015-07-07 08:00:00</td>\n",
       "      <td>2015-07-07 17:00:00</td>\n",
       "      <td>N</td>\n",
       "      <td>2015-07-01 15:05:00</td>\n",
       "    </tr>\n",
       "    <tr>\n",
       "      <th>3</th>\n",
       "      <td>2093496262</td>\n",
       "      <td>V</td>\n",
       "      <td>0</td>\n",
       "      <td>40500</td>\n",
       "      <td>875.00</td>\n",
       "      <td>L1W 3H9</td>\n",
       "      <td>2015-07-07 14:00:00</td>\n",
       "      <td>2015-07-07 14:00:00</td>\n",
       "      <td>13619</td>\n",
       "      <td>2015-07-08 07:00:00</td>\n",
       "      <td>2015-07-08 16:00:00</td>\n",
       "      <td>N</td>\n",
       "      <td>2015-07-02 10:38:00</td>\n",
       "    </tr>\n",
       "    <tr>\n",
       "      <th>4</th>\n",
       "      <td>2373724838</td>\n",
       "      <td>V</td>\n",
       "      <td>0</td>\n",
       "      <td>40500</td>\n",
       "      <td>875.00</td>\n",
       "      <td>L1W 3H9</td>\n",
       "      <td>2015-07-08 14:00:00</td>\n",
       "      <td>2015-07-08 14:00:00</td>\n",
       "      <td>13619</td>\n",
       "      <td>2015-07-09 07:00:00</td>\n",
       "      <td>2015-07-09 16:00:00</td>\n",
       "      <td>N</td>\n",
       "      <td>2015-07-02 11:16:00</td>\n",
       "    </tr>\n",
       "  </tbody>\n",
       "</table>\n",
       "</div>"
      ],
      "text/plain": [
       "    ORDER_NBR EQUIPMENT_TYPE  CUSTOMER_MILES  WEIGHT  ORDER_COST  \\\n",
       "0   535361133     53 FLATBED             802   42000        0.00   \n",
       "1  1499443993              V               0   40500      875.00   \n",
       "2  1058279607            NaN             774       0       88.14   \n",
       "3  2093496262              V               0   40500      875.00   \n",
       "4  2373724838              V               0   40500      875.00   \n",
       "\n",
       "  FIRST_PICK_ZIP FIRST_PICK_EARLY_APPT FIRST_PICK_LATE_APPT LAST_DELIVERY_ZIP  \\\n",
       "0          21224   2015-07-13 07:30:00  2015-07-13 15:00:00             62707   \n",
       "1        L1W 3H9   2015-07-06 14:00:00  2015-07-06 14:00:00             13619   \n",
       "2          46037   2015-07-01 08:00:00  2015-07-02 17:00:00             73107   \n",
       "3        L1W 3H9   2015-07-07 14:00:00  2015-07-07 14:00:00             13619   \n",
       "4        L1W 3H9   2015-07-08 14:00:00  2015-07-08 14:00:00             13619   \n",
       "\n",
       "  LAST_DELIVERY_EARLY_APPT LAST_DELIVERY_LATE_APPT IS_HAZARDOUS  \\\n",
       "0      2015-07-14 08:00:00     2015-07-14 16:00:00            N   \n",
       "1      2015-07-07 07:00:00     2015-07-07 16:00:00            N   \n",
       "2      2015-07-07 08:00:00     2015-07-07 17:00:00            N   \n",
       "3      2015-07-08 07:00:00     2015-07-08 16:00:00            N   \n",
       "4      2015-07-09 07:00:00     2015-07-09 16:00:00            N   \n",
       "\n",
       "         CREATED_DATE  \n",
       "0 2015-07-01 10:22:00  \n",
       "1 2015-07-02 10:37:00  \n",
       "2 2015-07-01 15:05:00  \n",
       "3 2015-07-02 10:38:00  \n",
       "4 2015-07-02 11:16:00  "
      ]
     },
     "execution_count": 3,
     "metadata": {},
     "output_type": "execute_result"
    }
   ],
   "source": [
    "data = pd.read_excel('Quickfreightdata.xlsx',na_values=[' ','np.nan',',','.','#']) #reading the dataframe\n",
    "data.head() #get top five rows"
   ]
  },
  {
   "cell_type": "code",
   "execution_count": 4,
   "metadata": {
    "colab": {
     "base_uri": "https://localhost:8080/"
    },
    "id": "NTZqEhm4XQ6s",
    "outputId": "ea71ce60-1fd0-4b07-cd45-429b8ce9ff93"
   },
   "outputs": [
    {
     "data": {
      "text/plain": [
       "(18739, 13)"
      ]
     },
     "execution_count": 4,
     "metadata": {},
     "output_type": "execute_result"
    }
   ],
   "source": [
    "#dimension of the dataframe\n",
    "data.shape"
   ]
  },
  {
   "cell_type": "code",
   "execution_count": 5,
   "metadata": {
    "colab": {
     "base_uri": "https://localhost:8080/"
    },
    "id": "xLZu9sQAXnpw",
    "outputId": "023057c7-c1b7-4395-be10-02387b3cc217"
   },
   "outputs": [
    {
     "name": "stdout",
     "output_type": "stream",
     "text": [
      "<class 'pandas.core.frame.DataFrame'>\n",
      "RangeIndex: 18739 entries, 0 to 18738\n",
      "Data columns (total 13 columns):\n",
      " #   Column                    Non-Null Count  Dtype         \n",
      "---  ------                    --------------  -----         \n",
      " 0   ORDER_NBR                 18739 non-null  int64         \n",
      " 1   EQUIPMENT_TYPE            17728 non-null  object        \n",
      " 2   CUSTOMER_MILES            18739 non-null  int64         \n",
      " 3   WEIGHT                    18739 non-null  int64         \n",
      " 4   ORDER_COST                18733 non-null  float64       \n",
      " 5   FIRST_PICK_ZIP            18739 non-null  object        \n",
      " 6   FIRST_PICK_EARLY_APPT     18479 non-null  datetime64[ns]\n",
      " 7   FIRST_PICK_LATE_APPT      18435 non-null  datetime64[ns]\n",
      " 8   LAST_DELIVERY_ZIP         18739 non-null  object        \n",
      " 9   LAST_DELIVERY_EARLY_APPT  18410 non-null  datetime64[ns]\n",
      " 10  LAST_DELIVERY_LATE_APPT   18353 non-null  datetime64[ns]\n",
      " 11  IS_HAZARDOUS              18739 non-null  object        \n",
      " 12  CREATED_DATE              18739 non-null  datetime64[ns]\n",
      "dtypes: datetime64[ns](5), float64(1), int64(3), object(4)\n",
      "memory usage: 1.9+ MB\n"
     ]
    }
   ],
   "source": [
    "data.info()"
   ]
  },
  {
   "cell_type": "markdown",
   "metadata": {},
   "source": [
    "## Descriptive Statistics"
   ]
  },
  {
   "cell_type": "code",
   "execution_count": 6,
   "metadata": {
    "colab": {
     "base_uri": "https://localhost:8080/",
     "height": 747
    },
    "id": "F-rDmc5oDUxT",
    "outputId": "d746c974-f92e-431f-e467-db22736cd53c",
    "scrolled": true
   },
   "outputs": [
    {
     "data": {
      "text/html": [
       "<div>\n",
       "<style scoped>\n",
       "    .dataframe tbody tr th:only-of-type {\n",
       "        vertical-align: middle;\n",
       "    }\n",
       "\n",
       "    .dataframe tbody tr th {\n",
       "        vertical-align: top;\n",
       "    }\n",
       "\n",
       "    .dataframe thead th {\n",
       "        text-align: right;\n",
       "    }\n",
       "</style>\n",
       "<table border=\"1\" class=\"dataframe\">\n",
       "  <thead>\n",
       "    <tr style=\"text-align: right;\">\n",
       "      <th></th>\n",
       "      <th>ORDER_NBR</th>\n",
       "      <th>CUSTOMER_MILES</th>\n",
       "      <th>WEIGHT</th>\n",
       "      <th>ORDER_COST</th>\n",
       "    </tr>\n",
       "  </thead>\n",
       "  <tbody>\n",
       "    <tr>\n",
       "      <th>count</th>\n",
       "      <td>1.873900e+04</td>\n",
       "      <td>18739.000000</td>\n",
       "      <td>18739.000000</td>\n",
       "      <td>18733.000000</td>\n",
       "    </tr>\n",
       "    <tr>\n",
       "      <th>mean</th>\n",
       "      <td>1.417056e+09</td>\n",
       "      <td>588.220556</td>\n",
       "      <td>25219.585837</td>\n",
       "      <td>954.230941</td>\n",
       "    </tr>\n",
       "    <tr>\n",
       "      <th>std</th>\n",
       "      <td>6.642482e+08</td>\n",
       "      <td>511.968568</td>\n",
       "      <td>16309.867000</td>\n",
       "      <td>938.818390</td>\n",
       "    </tr>\n",
       "    <tr>\n",
       "      <th>min</th>\n",
       "      <td>5.322560e+05</td>\n",
       "      <td>0.000000</td>\n",
       "      <td>0.000000</td>\n",
       "      <td>0.000000</td>\n",
       "    </tr>\n",
       "    <tr>\n",
       "      <th>25%</th>\n",
       "      <td>8.640125e+08</td>\n",
       "      <td>254.000000</td>\n",
       "      <td>8000.000000</td>\n",
       "      <td>400.000000</td>\n",
       "    </tr>\n",
       "    <tr>\n",
       "      <th>50%</th>\n",
       "      <td>1.417617e+09</td>\n",
       "      <td>436.000000</td>\n",
       "      <td>28192.000000</td>\n",
       "      <td>700.000000</td>\n",
       "    </tr>\n",
       "    <tr>\n",
       "      <th>75%</th>\n",
       "      <td>1.973634e+09</td>\n",
       "      <td>716.000000</td>\n",
       "      <td>42000.000000</td>\n",
       "      <td>1300.000000</td>\n",
       "    </tr>\n",
       "    <tr>\n",
       "      <th>max</th>\n",
       "      <td>2.821138e+09</td>\n",
       "      <td>3733.000000</td>\n",
       "      <td>300000.000000</td>\n",
       "      <td>8000.000000</td>\n",
       "    </tr>\n",
       "  </tbody>\n",
       "</table>\n",
       "</div>"
      ],
      "text/plain": [
       "          ORDER_NBR  CUSTOMER_MILES         WEIGHT    ORDER_COST\n",
       "count  1.873900e+04    18739.000000   18739.000000  18733.000000\n",
       "mean   1.417056e+09      588.220556   25219.585837    954.230941\n",
       "std    6.642482e+08      511.968568   16309.867000    938.818390\n",
       "min    5.322560e+05        0.000000       0.000000      0.000000\n",
       "25%    8.640125e+08      254.000000    8000.000000    400.000000\n",
       "50%    1.417617e+09      436.000000   28192.000000    700.000000\n",
       "75%    1.973634e+09      716.000000   42000.000000   1300.000000\n",
       "max    2.821138e+09     3733.000000  300000.000000   8000.000000"
      ]
     },
     "execution_count": 6,
     "metadata": {},
     "output_type": "execute_result"
    }
   ],
   "source": [
    "#descriptive statistics\n",
    "data.describe()"
   ]
  },
  {
   "cell_type": "code",
   "execution_count": 7,
   "metadata": {
    "colab": {
     "base_uri": "https://localhost:8080/"
    },
    "id": "ztP-XEwNeZiB",
    "outputId": "0bce6de6-e9f6-4291-bff2-020a89bd27ec"
   },
   "outputs": [
    {
     "data": {
      "text/plain": [
       "Index(['ORDER_NBR', 'EQUIPMENT_TYPE', 'CUSTOMER_MILES', 'WEIGHT', 'ORDER_COST',\n",
       "       'FIRST_PICK_ZIP', 'FIRST_PICK_EARLY_APPT', 'FIRST_PICK_LATE_APPT',\n",
       "       'LAST_DELIVERY_ZIP', 'LAST_DELIVERY_EARLY_APPT',\n",
       "       'LAST_DELIVERY_LATE_APPT', 'IS_HAZARDOUS', 'CREATED_DATE'],\n",
       "      dtype='object')"
      ]
     },
     "execution_count": 7,
     "metadata": {},
     "output_type": "execute_result"
    }
   ],
   "source": [
    "#get all columns names\n",
    "data.columns"
   ]
  },
  {
   "cell_type": "code",
   "execution_count": 8,
   "metadata": {
    "colab": {
     "base_uri": "https://localhost:8080/"
    },
    "id": "6p6fxI54kVLf",
    "outputId": "8c0bc6a8-bea5-45b3-9de3-caf1fbc0690a"
   },
   "outputs": [
    {
     "data": {
      "text/plain": [
       "ORDER_NBR                   18739\n",
       "EQUIPMENT_TYPE                 28\n",
       "CUSTOMER_MILES               1411\n",
       "WEIGHT                       2678\n",
       "ORDER_COST                    758\n",
       "FIRST_PICK_ZIP                842\n",
       "FIRST_PICK_EARLY_APPT        3090\n",
       "FIRST_PICK_LATE_APPT         3155\n",
       "LAST_DELIVERY_ZIP            1843\n",
       "LAST_DELIVERY_EARLY_APPT     3699\n",
       "LAST_DELIVERY_LATE_APPT      3874\n",
       "IS_HAZARDOUS                    2\n",
       "CREATED_DATE                12181\n",
       "dtype: int64"
      ]
     },
     "execution_count": 8,
     "metadata": {},
     "output_type": "execute_result"
    }
   ],
   "source": [
    "#getting unique values in all columns\n",
    "data.nunique()"
   ]
  },
  {
   "cell_type": "code",
   "execution_count": 9,
   "metadata": {
    "colab": {
     "base_uri": "https://localhost:8080/"
    },
    "id": "yIL5GzdRnsDB",
    "outputId": "7a67199c-300c-47dc-b6fe-70d91f4f8ef4"
   },
   "outputs": [
    {
     "data": {
      "text/plain": [
       "ORDER_NBR                      0\n",
       "EQUIPMENT_TYPE              1011\n",
       "CUSTOMER_MILES                 0\n",
       "WEIGHT                         0\n",
       "ORDER_COST                     6\n",
       "FIRST_PICK_ZIP                 0\n",
       "FIRST_PICK_EARLY_APPT        260\n",
       "FIRST_PICK_LATE_APPT         304\n",
       "LAST_DELIVERY_ZIP              0\n",
       "LAST_DELIVERY_EARLY_APPT     329\n",
       "LAST_DELIVERY_LATE_APPT      386\n",
       "IS_HAZARDOUS                   0\n",
       "CREATED_DATE                   0\n",
       "dtype: int64"
      ]
     },
     "execution_count": 9,
     "metadata": {},
     "output_type": "execute_result"
    }
   ],
   "source": [
    "#knowing number of null values present in all columns\n",
    "data.isnull().sum()"
   ]
  },
  {
   "cell_type": "markdown",
   "metadata": {
    "id": "r-EZQKYswsju"
   },
   "source": [
    "#### There is null values in target column named ORDER_COST.Removed the corresponding records wherever null values present in ORDER_COST column"
   ]
  },
  {
   "cell_type": "code",
   "execution_count": 10,
   "metadata": {
    "id": "dbaDVfdElv_p"
   },
   "outputs": [],
   "source": [
    "data.drop(data[data[['ORDER_COST']].isnull().any(axis=1)].index,inplace=True) #dropping the null values present in ordercost"
   ]
  },
  {
   "cell_type": "code",
   "execution_count": 11,
   "metadata": {},
   "outputs": [
    {
     "data": {
      "text/plain": [
       "(18733, 13)"
      ]
     },
     "execution_count": 11,
     "metadata": {},
     "output_type": "execute_result"
    }
   ],
   "source": [
    "data.shape"
   ]
  },
  {
   "cell_type": "code",
   "execution_count": 12,
   "metadata": {},
   "outputs": [],
   "source": [
    "data1 = data[data['ORDER_COST']!=0]"
   ]
  },
  {
   "cell_type": "code",
   "execution_count": 13,
   "metadata": {},
   "outputs": [
    {
     "data": {
      "text/plain": [
       "(15206, 13)"
      ]
     },
     "execution_count": 13,
     "metadata": {},
     "output_type": "execute_result"
    }
   ],
   "source": [
    "data1.shape"
   ]
  },
  {
   "cell_type": "code",
   "execution_count": 14,
   "metadata": {
    "id": "Py2KFdUv1GvA"
   },
   "outputs": [],
   "source": [
    "#getting all rwos containing null values present just to know\n",
    "null_rows = data1[data1[['FIRST_PICK_EARLY_APPT','FIRST_PICK_LATE_APPT','LAST_DELIVERY_EARLY_APPT','LAST_DELIVERY_LATE_APPT']].isnull().any(axis=1)]"
   ]
  },
  {
   "cell_type": "code",
   "execution_count": 15,
   "metadata": {
    "colab": {
     "base_uri": "https://localhost:8080/",
     "height": 661
    },
    "id": "dTsN96E-1UhQ",
    "outputId": "c4fdcf3f-a5b8-456f-832f-43ccbdb6ca02"
   },
   "outputs": [
    {
     "data": {
      "text/plain": [
       "(154, 13)"
      ]
     },
     "execution_count": 15,
     "metadata": {},
     "output_type": "execute_result"
    }
   ],
   "source": [
    "null_rows.shape"
   ]
  },
  {
   "cell_type": "code",
   "execution_count": 16,
   "metadata": {
    "id": "KC-K4mETy0g4"
   },
   "outputs": [],
   "source": [
    "#segregating all columns into different categories based on its nature\n",
    "num_cols = ['CUSTOMER_MILES','WEIGHT']\n",
    "cat_cols = ['EQUIPMENT_TYPE','IS_HAZARDOUS']\n",
    "date_cols = ['FIRST_PICK_EARLY_APPT','FIRST_PICK_LATE_APPT','LAST_DELIVERY_EARLY_APPT','LAST_DELIVERY_LATE_APPT','CREATED_DATE']\n",
    "target = ['ORDER_COST']\n",
    "to_drop = ['ORDER_NBR','FIRST_PICK_ZIP','LAST_DELIVERY_ZIP']"
   ]
  },
  {
   "cell_type": "code",
   "execution_count": 17,
   "metadata": {},
   "outputs": [
    {
     "data": {
      "text/plain": [
       "(18733, 13)"
      ]
     },
     "execution_count": 17,
     "metadata": {},
     "output_type": "execute_result"
    }
   ],
   "source": [
    "data.shape"
   ]
  },
  {
   "cell_type": "code",
   "execution_count": 18,
   "metadata": {},
   "outputs": [],
   "source": [
    "train_new=data1.copy()"
   ]
  },
  {
   "cell_type": "code",
   "execution_count": 19,
   "metadata": {},
   "outputs": [
    {
     "data": {
      "text/plain": [
       "(14106, 13)"
      ]
     },
     "execution_count": 19,
     "metadata": {},
     "output_type": "execute_result"
    }
   ],
   "source": [
    "#creating new dataframe removing outliers in both claim amount and close amount\n",
    "for col in num_cols:\n",
    "    train_new[col].sort_values()\n",
    "    q1=train_new[col].quantile(0.25)\n",
    "    q3=train_new[col].quantile(0.75)\n",
    "    IQR=q3-q1\n",
    "    upper_whisker=q3+(1.5*IQR)\n",
    "    lower_whisker=q1-(1.5*IQR)\n",
    "    #train_new[col]=np.where(train_new[col]>upper_whisker,upper_whisker,np.where(train_new[col]<lower_whisker,lower_whisker,train_new[col]))\n",
    "    #train_new.drop([train_new[col]],axis=1)\n",
    "    index = train_new[ (train_new[col] > upper_whisker) | (train_new[col] < lower_whisker)].index\n",
    "    train_new.drop(index,inplace=True)\n",
    "train_new.shape"
   ]
  },
  {
   "cell_type": "code",
   "execution_count": 20,
   "metadata": {},
   "outputs": [
    {
     "data": {
      "image/png": "[encoded data removed]",
      "text/plain": [
       "<Figure size 1080x216 with 2 Axes>"
      ]
     },
     "metadata": {
      "needs_background": "light"
     },
     "output_type": "display_data"
    },
    {
     "data": {
      "image/png": "[encoded data removed]",
      "text/plain": [
       "<Figure size 1080x216 with 2 Axes>"
      ]
     },
     "metadata": {
      "needs_background": "light"
     },
     "output_type": "display_data"
    },
    {
     "data": {
      "text/plain": [
       "<Figure size 432x288 with 0 Axes>"
      ]
     },
     "metadata": {},
     "output_type": "display_data"
    },
    {
     "data": {
      "image/png": "[encoded data removed]",
      "text/plain": [
       "<Figure size 1080x216 with 2 Axes>"
      ]
     },
     "metadata": {
      "needs_background": "light"
     },
     "output_type": "display_data"
    },
    {
     "data": {
      "image/png": "[encoded data removed]",
      "text/plain": [
       "<Figure size 1080x216 with 2 Axes>"
      ]
     },
     "metadata": {
      "needs_background": "light"
     },
     "output_type": "display_data"
    },
    {
     "data": {
      "text/plain": [
       "<Figure size 432x288 with 0 Axes>"
      ]
     },
     "metadata": {},
     "output_type": "display_data"
    }
   ],
   "source": [
    "sns.set_style('dark')\n",
    "for col in data1[num_cols]:\n",
    "    plt.figure(figsize=(15,3))\n",
    "    \n",
    "    plt.subplot(141)\n",
    "    ax=sns.distplot(data1[col])\n",
    "    plt.title(\"Before\")\n",
    "    handles, labels = ax.get_legend_handles_labels()\n",
    "    plt.legend(handles, labels)\n",
    "    \n",
    "    plt.subplot(142)\n",
    "    sns.distplot(train_new[col])\n",
    "    plt.title(\"After\")\n",
    "    handles, labels = ax.get_legend_handles_labels()\n",
    "    plt.legend(handles, labels)\n",
    "    plt.show()\n",
    "    \n",
    "    plt.figure(figsize=(15,3))\n",
    "    plt.subplot(143)\n",
    "    sns.boxplot(data1[col])\n",
    "    plt.title(\"Before\")\n",
    "    handles, labels = ax.get_legend_handles_labels()\n",
    "    plt.legend(handles, labels)\n",
    "    \n",
    "    plt.subplot(144)\n",
    "    sns.boxplot(train_new[col])\n",
    "    plt.title(\"After\")\n",
    "    handles, labels = ax.get_legend_handles_labels()\n",
    "    plt.legend(handles, labels)\n",
    "    plt.show()\n",
    "    plt.tight_layout()\n",
    "    "
   ]
  },
  {
   "cell_type": "markdown",
   "metadata": {
    "id": "nJylFnl4td_x"
   },
   "source": [
    "# Visualization\n"
   ]
  },
  {
   "cell_type": "markdown",
   "metadata": {
    "id": "rOfz6YGsAWT7"
   },
   "source": [
    "# **1. shipment cost distribution**\n",
    "\n"
   ]
  },
  {
   "cell_type": "code",
   "execution_count": 21,
   "metadata": {
    "colab": {
     "base_uri": "https://localhost:8080/",
     "height": 472
    },
    "id": "ld5rBMWrEvCm",
    "outputId": "6c7b2e57-3657-4e46-cb54-81823c63647b"
   },
   "outputs": [
    {
     "data": {
      "image/png": "[encoded data removed]",
      "text/plain": [
       "<Figure size 648x504 with 1 Axes>"
      ]
     },
     "metadata": {
      "needs_background": "light"
     },
     "output_type": "display_data"
    }
   ],
   "source": [
    "#using both matplotlib and seaborn libraries used to plot\n",
    "plt.figure(figsize=(9,7))\n",
    "sns.histplot(data['ORDER_COST'],color='green')\n",
    "plt.xlabel('ORDER_COST')\n",
    "plt.ylabel('Count')\n",
    "plt.title('shipment cost distribution')\n",
    "plt.show()"
   ]
  },
  {
   "cell_type": "markdown",
   "metadata": {
    "id": "O7VoHMlbF27a"
   },
   "source": [
    "#### From the above plot,nearly 3500 shipping orders have no order cost and 1000 orders have minimum value of 600 rupees"
   ]
  },
  {
   "cell_type": "markdown",
   "metadata": {
    "id": "4x1o_S2AAUnj"
   },
   "source": [
    "# **2.Does the shipment cost depend on the distance?**\n",
    "\n",
    "\n",
    "\n",
    "\n",
    "\n"
   ]
  },
  {
   "cell_type": "code",
   "execution_count": 22,
   "metadata": {
    "colab": {
     "base_uri": "https://localhost:8080/",
     "height": 472
    },
    "id": "sbwXxmBgtyM_",
    "outputId": "e5d20ba1-5954-4699-9ad3-9f13d41e34ea"
   },
   "outputs": [
    {
     "data": {
      "image/png": "[encoded data removed]",
      "text/plain": [
       "<Figure size 648x504 with 1 Axes>"
      ]
     },
     "metadata": {
      "needs_background": "light"
     },
     "output_type": "display_data"
    }
   ],
   "source": [
    "plt.figure(figsize=(9,7)) # to figuresize to be width9 and length 7\n",
    "plt.scatter(data['CUSTOMER_MILES'],data['ORDER_COST'],s=2,)\n",
    "plt.xlabel('CUSTOMER_MILES')\n",
    "plt.ylabel('ORDER_COST')\n",
    "plt.title('Relation between distance and order cost')\n",
    "plt.show()"
   ]
  },
  {
   "cell_type": "markdown",
   "metadata": {
    "id": "qkvgmUjFJYdG"
   },
   "source": [
    "#### From the above plot,there is increasing in order_cost as increasing in customer miles."
   ]
  },
  {
   "cell_type": "markdown",
   "metadata": {
    "id": "M4fWhyFpBNKj"
   },
   "source": [
    "\n",
    "\n",
    "---\n",
    "\n",
    "## **3)  Is the weight of the shipment an important predictor to decide the shipment cost?**\n",
    "\n",
    "\n",
    "---\n",
    "\n"
   ]
  },
  {
   "cell_type": "code",
   "execution_count": 23,
   "metadata": {
    "colab": {
     "base_uri": "https://localhost:8080/",
     "height": 472
    },
    "id": "KfQrWAQpwXlp",
    "outputId": "6b1eeeb0-3b03-4ecf-a116-2c86854f5cff"
   },
   "outputs": [
    {
     "data": {
      "image/png": "[encoded data removed]",
      "text/plain": [
       "<Figure size 648x504 with 1 Axes>"
      ]
     },
     "metadata": {
      "needs_background": "light"
     },
     "output_type": "display_data"
    }
   ],
   "source": [
    "plt.figure(figsize=(9,7))\n",
    "plt.scatter(data['WEIGHT'],data['ORDER_COST'],s=2,color='red')\n",
    "plt.xlabel('WEIGHT')\n",
    "plt.ylabel('ORDER_COST')\n",
    "plt.title('Relation between weight and order cost')\n",
    "plt.show()"
   ]
  },
  {
   "cell_type": "markdown",
   "metadata": {
    "id": "GCEVIWyLW6wh"
   },
   "source": [
    "## i. Hypothesis testing for whether the weight have predictable nature or not"
   ]
  },
  {
   "cell_type": "markdown",
   "metadata": {
    "id": "26MWRmw2aBLA"
   },
   "source": [
    "#### Null Hypothesis : The Weight do not having statistically significant predictable nature to predict the shipment cost.\n",
    "\n",
    "\n"
   ]
  },
  {
   "cell_type": "markdown",
   "metadata": {},
   "source": [
    "#### Alternative Hypothesis : The weight having significant predictable nature to predict the shipment cost"
   ]
  },
  {
   "cell_type": "code",
   "execution_count": 24,
   "metadata": {
    "id": "YE4mr3fvUqkv"
   },
   "outputs": [],
   "source": [
    "import scipy.stats as stats"
   ]
  },
  {
   "cell_type": "code",
   "execution_count": 25,
   "metadata": {
    "id": "6KcJrrcyU93S"
   },
   "outputs": [],
   "source": [
    "r,p_value =stats.pearsonr(data['WEIGHT'],data['ORDER_COST'])"
   ]
  },
  {
   "cell_type": "code",
   "execution_count": 26,
   "metadata": {
    "colab": {
     "base_uri": "https://localhost:8080/"
    },
    "id": "ncY3L3cMVOeS",
    "outputId": "44f24d91-32df-43bf-be10-176eb95e108a"
   },
   "outputs": [
    {
     "name": "stdout",
     "output_type": "stream",
     "text": [
      "Pearson correlation coefficient:  0.2651718259708916\n",
      "p-value:  6.111930840435775e-299\n"
     ]
    }
   ],
   "source": [
    "print(\"Pearson correlation coefficient: \", r)\n",
    "print(\"p-value: \", p_value)"
   ]
  },
  {
   "cell_type": "markdown",
   "metadata": {
    "id": "U9hVzAtQXc8F"
   },
   "source": [
    "#### From the above hypothesis testing,the p-value which is very very less than significance value of 5%.It will conclude that the weight having (correlation of 0.27,less predictable) predictable nature to predict the shippment cost\n",
    "\n",
    " "
   ]
  },
  {
   "cell_type": "markdown",
   "metadata": {
    "id": "pdQ1FlH4gpI6"
   },
   "source": [
    "# 4. Is the Shipment cost varying depending on the source and destinations?"
   ]
  },
  {
   "cell_type": "code",
   "execution_count": 27,
   "metadata": {
    "colab": {
     "base_uri": "https://localhost:8080/",
     "height": 363
    },
    "id": "JjY0ybYyzG8K",
    "outputId": "9a3dd1e2-855e-4c47-b960-968af694c0eb"
   },
   "outputs": [
    {
     "data": {
      "text/html": [
       "<div>\n",
       "<style scoped>\n",
       "    .dataframe tbody tr th:only-of-type {\n",
       "        vertical-align: middle;\n",
       "    }\n",
       "\n",
       "    .dataframe tbody tr th {\n",
       "        vertical-align: top;\n",
       "    }\n",
       "\n",
       "    .dataframe thead th {\n",
       "        text-align: right;\n",
       "    }\n",
       "</style>\n",
       "<table border=\"1\" class=\"dataframe\">\n",
       "  <thead>\n",
       "    <tr style=\"text-align: right;\">\n",
       "      <th></th>\n",
       "      <th>FIRST_PICK_ZIP</th>\n",
       "      <th>LAST_DELIVERY_ZIP</th>\n",
       "      <th>ORDER_COST</th>\n",
       "    </tr>\n",
       "  </thead>\n",
       "  <tbody>\n",
       "    <tr>\n",
       "      <th>0</th>\n",
       "      <td>93901</td>\n",
       "      <td>60632</td>\n",
       "      <td>179400.0</td>\n",
       "    </tr>\n",
       "    <tr>\n",
       "      <th>1</th>\n",
       "      <td>29016</td>\n",
       "      <td>29650</td>\n",
       "      <td>169500.0</td>\n",
       "    </tr>\n",
       "    <tr>\n",
       "      <th>2</th>\n",
       "      <td>23185</td>\n",
       "      <td>43229</td>\n",
       "      <td>160938.0</td>\n",
       "    </tr>\n",
       "    <tr>\n",
       "      <th>3</th>\n",
       "      <td>14625</td>\n",
       "      <td>43217</td>\n",
       "      <td>154600.0</td>\n",
       "    </tr>\n",
       "    <tr>\n",
       "      <th>4</th>\n",
       "      <td>24382</td>\n",
       "      <td>7885</td>\n",
       "      <td>151575.0</td>\n",
       "    </tr>\n",
       "    <tr>\n",
       "      <th>5</th>\n",
       "      <td>50010</td>\n",
       "      <td>53094</td>\n",
       "      <td>143950.0</td>\n",
       "    </tr>\n",
       "    <tr>\n",
       "      <th>6</th>\n",
       "      <td>24382</td>\n",
       "      <td>21804</td>\n",
       "      <td>129090.0</td>\n",
       "    </tr>\n",
       "    <tr>\n",
       "      <th>7</th>\n",
       "      <td>64870</td>\n",
       "      <td>46176</td>\n",
       "      <td>126875.0</td>\n",
       "    </tr>\n",
       "    <tr>\n",
       "      <th>8</th>\n",
       "      <td>47960</td>\n",
       "      <td>43607</td>\n",
       "      <td>124200.0</td>\n",
       "    </tr>\n",
       "    <tr>\n",
       "      <th>9</th>\n",
       "      <td>24382</td>\n",
       "      <td>18087</td>\n",
       "      <td>119475.0</td>\n",
       "    </tr>\n",
       "  </tbody>\n",
       "</table>\n",
       "</div>"
      ],
      "text/plain": [
       "  FIRST_PICK_ZIP LAST_DELIVERY_ZIP  ORDER_COST\n",
       "0          93901             60632    179400.0\n",
       "1          29016             29650    169500.0\n",
       "2          23185             43229    160938.0\n",
       "3          14625             43217    154600.0\n",
       "4          24382              7885    151575.0\n",
       "5          50010             53094    143950.0\n",
       "6          24382             21804    129090.0\n",
       "7          64870             46176    126875.0\n",
       "8          47960             43607    124200.0\n",
       "9          24382             18087    119475.0"
      ]
     },
     "execution_count": 27,
     "metadata": {},
     "output_type": "execute_result"
    }
   ],
   "source": [
    "ins1=data.groupby(['FIRST_PICK_ZIP','LAST_DELIVERY_ZIP'])['ORDER_COST'].sum().reset_index().sort_values('ORDER_COST',ascending=False,ignore_index=True)\n",
    "ins1.head(10)"
   ]
  },
  {
   "cell_type": "markdown",
   "metadata": {
    "id": "sqnw-NA_ehqa"
   },
   "source": [
    "# 5. Does cost varies depending on the whether the item is hazardous or not ?\n",
    "\n",
    "\n",
    "\n",
    "\n",
    "\n",
    "\n"
   ]
  },
  {
   "cell_type": "markdown",
   "metadata": {
    "id": "G8aQRTT3dpHL"
   },
   "source": [
    "#### Null hypothesis (H0): The order cost does not vary depending on whether the item is hazardous or not.\n",
    "\n"
   ]
  },
  {
   "cell_type": "markdown",
   "metadata": {},
   "source": [
    "#### Alternative hypothesis (Ha): The cost of the items varies depending on whether the item is hazardous or not."
   ]
  },
  {
   "cell_type": "code",
   "execution_count": 28,
   "metadata": {
    "colab": {
     "base_uri": "https://localhost:8080/"
    },
    "id": "0TmMVK2s4Xeb",
    "outputId": "a83da6a9-b1ba-4950-d23e-4bf4bb9d4960"
   },
   "outputs": [
    {
     "name": "stdout",
     "output_type": "stream",
     "text": [
      "t-statistic: 2.79\n",
      "p-value: 0.00566\n"
     ]
    }
   ],
   "source": [
    "from scipy import stats\n",
    "from scipy.stats import ttest_ind\n",
    "cost_hazardous = data[data['IS_HAZARDOUS'] == 'Y']['ORDER_COST']\n",
    "cost_nonhazardous = data[data['IS_HAZARDOUS'] == 'N']['ORDER_COST']\n",
    "\n",
    "# Perform two-sample t-test \n",
    "t, p = ttest_ind(cost_hazardous, cost_nonhazardous, equal_var=False)\n",
    "\n",
    "print('t-statistic: {:.2f}'.format(t))\n",
    "print('p-value: {:.5f}'.format(p))"
   ]
  },
  {
   "cell_type": "code",
   "execution_count": 29,
   "metadata": {
    "scrolled": true
   },
   "outputs": [
    {
     "name": "stdout",
     "output_type": "stream",
     "text": [
      "Two-Sample T-Test\n",
      "H0: The cost does not vary depending on whether the item is hazardous or not\n",
      "HA: The cost varies depending on whether the item is hazardous or not\n",
      "\n",
      "Equal Varaince is taken\n",
      "\n",
      "significance level is 0.05\n",
      "\n",
      "Group 1 (Hazardous):\n",
      "Mean: 1049.7767889908257\n",
      "Standard Deviation: 500.74608330694514\n",
      "\n",
      "Group 2 (Non-Hazardous):\n",
      "Mean: 953.105961652714\n",
      "Standard Deviation: 942.7143694150958\n",
      "\n",
      "T-Statistic: 1.5115244541866597\n",
      "P-value: 0.13067175272237003\n",
      "Fail to reject H0. The cost does not vary depending on whether the item is hazardous or not.\n"
     ]
    }
   ],
   "source": [
    "import pandas as pd\n",
    "from scipy.stats import ttest_ind\n",
    "\n",
    "# Assuming you have a dataframe called 'data' with a 'Cost' column and a 'Hazardous' column\n",
    "\n",
    "# Split the data into two groups based on whether the item is hazardous or not\n",
    "group1 = data[data['IS_HAZARDOUS'] == 'Y']['ORDER_COST']\n",
    "group2 = data[data['IS_HAZARDOUS'] == 'N']['ORDER_COST']\n",
    "\n",
    "# Perform a two-sample t-test\n",
    "t_statistic, p_value = ttest_ind(group1, group2, equal_var=True)\n",
    "\n",
    "# Set the significance level\n",
    "alpha = 0.05\n",
    "\n",
    "# Print the results\n",
    "print(\"Two-Sample T-Test\")\n",
    "print(\"H0: The cost does not vary depending on whether the item is hazardous or not\")\n",
    "print(\"HA: The cost varies depending on whether the item is hazardous or not\")\n",
    "print(\"\")\n",
    "\n",
    "print('Equal Varaince is taken')\n",
    "print(\"\")\n",
    "\n",
    "\n",
    "print('significance level is',alpha)\n",
    "print(\"\")\n",
    "\n",
    "print(\"Group 1 (Hazardous):\")\n",
    "print(\"Mean:\", group1.mean())\n",
    "print(\"Standard Deviation:\", group1.std())\n",
    "print(\"\")\n",
    "\n",
    "print(\"Group 2 (Non-Hazardous):\")\n",
    "print(\"Mean:\", group2.mean())\n",
    "print(\"Standard Deviation:\", group2.std())\n",
    "print(\"\")\n",
    "\n",
    "print(\"T-Statistic:\", t_statistic)\n",
    "print(\"P-value:\", p_value)\n",
    "\n",
    "# Compare the p-value with the significance level to make a decision\n",
    "if p_value < alpha:\n",
    "    print(\"Reject H0. The cost varies depending on whether the item is hazardous or not.\")\n",
    "else:\n",
    "    print(\"Fail to reject H0. The cost does not vary depending on whether the item is hazardous or not.\")\n"
   ]
  },
  {
   "cell_type": "markdown",
   "metadata": {
    "id": "c1_jSgkFiZAM"
   },
   "source": [
    "#### The cost does not vary depending on whether the item is hazardous or not."
   ]
  },
  {
   "cell_type": "code",
   "execution_count": 30,
   "metadata": {
    "colab": {
     "base_uri": "https://localhost:8080/"
    },
    "id": "EQnFvFmW8l06",
    "outputId": "744023b5-3878-44f2-89fd-9c4c8c923608",
    "scrolled": true
   },
   "outputs": [
    {
     "data": {
      "text/plain": [
       "ORDER_NBR                            int64\n",
       "EQUIPMENT_TYPE                      object\n",
       "CUSTOMER_MILES                       int64\n",
       "WEIGHT                               int64\n",
       "ORDER_COST                         float64\n",
       "FIRST_PICK_ZIP                      object\n",
       "FIRST_PICK_EARLY_APPT       datetime64[ns]\n",
       "FIRST_PICK_LATE_APPT        datetime64[ns]\n",
       "LAST_DELIVERY_ZIP                   object\n",
       "LAST_DELIVERY_EARLY_APPT    datetime64[ns]\n",
       "LAST_DELIVERY_LATE_APPT     datetime64[ns]\n",
       "IS_HAZARDOUS                        object\n",
       "CREATED_DATE                datetime64[ns]\n",
       "dtype: object"
      ]
     },
     "execution_count": 30,
     "metadata": {},
     "output_type": "execute_result"
    }
   ],
   "source": [
    "data.dtypes"
   ]
  },
  {
   "cell_type": "markdown",
   "metadata": {},
   "source": [
    "####  Data type conversion"
   ]
  },
  {
   "cell_type": "code",
   "execution_count": 31,
   "metadata": {},
   "outputs": [],
   "source": [
    "data[['EQUIPMENT_TYPE','FIRST_PICK_ZIP','LAST_DELIVERY_ZIP','IS_HAZARDOUS']]=data[['EQUIPMENT_TYPE','FIRST_PICK_ZIP','LAST_DELIVERY_ZIP','IS_HAZARDOUS']].astype('category')"
   ]
  },
  {
   "cell_type": "code",
   "execution_count": 32,
   "metadata": {},
   "outputs": [
    {
     "data": {
      "text/plain": [
       "ORDER_NBR                            int64\n",
       "EQUIPMENT_TYPE                    category\n",
       "CUSTOMER_MILES                       int64\n",
       "WEIGHT                               int64\n",
       "ORDER_COST                         float64\n",
       "FIRST_PICK_ZIP                    category\n",
       "FIRST_PICK_EARLY_APPT       datetime64[ns]\n",
       "FIRST_PICK_LATE_APPT        datetime64[ns]\n",
       "LAST_DELIVERY_ZIP                 category\n",
       "LAST_DELIVERY_EARLY_APPT    datetime64[ns]\n",
       "LAST_DELIVERY_LATE_APPT     datetime64[ns]\n",
       "IS_HAZARDOUS                      category\n",
       "CREATED_DATE                datetime64[ns]\n",
       "dtype: object"
      ]
     },
     "execution_count": 32,
     "metadata": {},
     "output_type": "execute_result"
    }
   ],
   "source": [
    "data.dtypes # to know column datatypes"
   ]
  },
  {
   "cell_type": "markdown",
   "metadata": {
    "id": "A3VcE8MOpq2H"
   },
   "source": [
    "## which equipment is used to ship more orders?"
   ]
  },
  {
   "cell_type": "code",
   "execution_count": 33,
   "metadata": {
    "colab": {
     "base_uri": "https://localhost:8080/",
     "height": 363
    },
    "id": "2UIWz9PhRcad",
    "outputId": "74651139-6261-40e1-88f2-7897e8c102ef",
    "scrolled": true
   },
   "outputs": [
    {
     "data": {
      "text/html": [
       "<div>\n",
       "<style scoped>\n",
       "    .dataframe tbody tr th:only-of-type {\n",
       "        vertical-align: middle;\n",
       "    }\n",
       "\n",
       "    .dataframe tbody tr th {\n",
       "        vertical-align: top;\n",
       "    }\n",
       "\n",
       "    .dataframe thead th {\n",
       "        text-align: right;\n",
       "    }\n",
       "</style>\n",
       "<table border=\"1\" class=\"dataframe\">\n",
       "  <thead>\n",
       "    <tr style=\"text-align: right;\">\n",
       "      <th></th>\n",
       "      <th>EQUIPMENT_TYPE</th>\n",
       "      <th>ORDER_COST</th>\n",
       "    </tr>\n",
       "  </thead>\n",
       "  <tbody>\n",
       "    <tr>\n",
       "      <th>0</th>\n",
       "      <td>V</td>\n",
       "      <td>9096107.77</td>\n",
       "    </tr>\n",
       "    <tr>\n",
       "      <th>1</th>\n",
       "      <td>R</td>\n",
       "      <td>4063199.10</td>\n",
       "    </tr>\n",
       "    <tr>\n",
       "      <th>2</th>\n",
       "      <td>VR</td>\n",
       "      <td>3674913.79</td>\n",
       "    </tr>\n",
       "    <tr>\n",
       "      <th>3</th>\n",
       "      <td>VZ</td>\n",
       "      <td>228550.00</td>\n",
       "    </tr>\n",
       "    <tr>\n",
       "      <th>4</th>\n",
       "      <td>F</td>\n",
       "      <td>69703.00</td>\n",
       "    </tr>\n",
       "    <tr>\n",
       "      <th>5</th>\n",
       "      <td>RM</td>\n",
       "      <td>44500.00</td>\n",
       "    </tr>\n",
       "    <tr>\n",
       "      <th>6</th>\n",
       "      <td>DROP</td>\n",
       "      <td>22880.00</td>\n",
       "    </tr>\n",
       "    <tr>\n",
       "      <th>7</th>\n",
       "      <td>VM</td>\n",
       "      <td>21900.00</td>\n",
       "    </tr>\n",
       "  </tbody>\n",
       "</table>\n",
       "</div>"
      ],
      "text/plain": [
       "  EQUIPMENT_TYPE  ORDER_COST\n",
       "0              V  9096107.77\n",
       "1              R  4063199.10\n",
       "2             VR  3674913.79\n",
       "3             VZ   228550.00\n",
       "4              F    69703.00\n",
       "5             RM    44500.00\n",
       "6           DROP    22880.00\n",
       "7             VM    21900.00"
      ]
     },
     "execution_count": 33,
     "metadata": {},
     "output_type": "execute_result"
    }
   ],
   "source": [
    "ins2 = data.groupby(['EQUIPMENT_TYPE'])['ORDER_COST'].sum().reset_index().sort_values('ORDER_COST',ascending=False,ignore_index=True)\n",
    "ins2.head(8)"
   ]
  },
  {
   "cell_type": "code",
   "execution_count": 34,
   "metadata": {},
   "outputs": [],
   "source": [
    "#V: Vacuum\n",
    "# R: Refrigerated\n",
    "# VR: Virtual Reality\n",
    "# VZ: Vacuum Zone\n",
    "# F: Flatbed\n",
    "# RM: Rail Mounted\n",
    "# DROP: Drop Deck\n",
    "# VM: Van/Moving"
   ]
  },
  {
   "cell_type": "code",
   "execution_count": 35,
   "metadata": {},
   "outputs": [
    {
     "data": {
      "text/plain": [
       "<AxesSubplot: xlabel='EQUIPMENT_TYPE', ylabel='ORDER_COST'>"
      ]
     },
     "execution_count": 35,
     "metadata": {},
     "output_type": "execute_result"
    },
    {
     "data": {
      "image/png": "[encoded data removed]",
      "text/plain": [
       "<Figure size 1440x504 with 1 Axes>"
      ]
     },
     "metadata": {
      "needs_background": "light"
     },
     "output_type": "display_data"
    }
   ],
   "source": [
    "plt.figure(figsize=(20,7))\n",
    "ins2_sorted = ins2.sort_values('ORDER_COST', ascending=False)\n",
    "\n",
    "# Plot the barplot with descending order\n",
    "sns.barplot(data=ins2_sorted, x='EQUIPMENT_TYPE', y='ORDER_COST', order=ins2_sorted['EQUIPMENT_TYPE'])"
   ]
  },
  {
   "cell_type": "markdown",
   "metadata": {
    "id": "1pNXZRZcuJcI"
   },
   "source": [
    "#### From the above plot,the equipment types V,R and VR are mostly used for orders."
   ]
  },
  {
   "cell_type": "code",
   "execution_count": 36,
   "metadata": {
    "id": "WCw6ujGBwOFJ"
   },
   "outputs": [],
   "source": [
    "data11=train_new.copy() #copying to other"
   ]
  },
  {
   "cell_type": "code",
   "execution_count": 37,
   "metadata": {},
   "outputs": [
    {
     "data": {
      "text/plain": [
       "(14106, 13)"
      ]
     },
     "execution_count": 37,
     "metadata": {},
     "output_type": "execute_result"
    }
   ],
   "source": [
    "data11.shape"
   ]
  },
  {
   "cell_type": "code",
   "execution_count": 38,
   "metadata": {
    "id": "DIcSNXB6wGjo"
   },
   "outputs": [],
   "source": [
    "df=data11.copy()"
   ]
  },
  {
   "cell_type": "code",
   "execution_count": 39,
   "metadata": {
    "id": "uF1GgJN8v40E"
   },
   "outputs": [],
   "source": [
    "#dropping unnecessary columns\n",
    "drop = ['ORDER_NBR','FIRST_PICK_ZIP','LAST_DELIVERY_ZIP']\n",
    "df.drop(drop,axis=1,inplace=True)"
   ]
  },
  {
   "cell_type": "code",
   "execution_count": 40,
   "metadata": {
    "id": "utsuvMSbuuO4"
   },
   "outputs": [],
   "source": [
    "#assigning x and y values for splitting\n",
    "x=df.drop('ORDER_COST',axis=1)\n",
    "y=df[['ORDER_COST']]"
   ]
  },
  {
   "cell_type": "markdown",
   "metadata": {
    "id": "IoFX9H5wo9Qg"
   },
   "source": [
    "## Splitting the data"
   ]
  },
  {
   "cell_type": "code",
   "execution_count": 41,
   "metadata": {
    "id": "kyUcaZempB0X"
   },
   "outputs": [],
   "source": [
    "#using train_test_split for splitting the data\n",
    "from sklearn.model_selection import train_test_split\n",
    "x_train,x_test,y_train,y_test = train_test_split(x,y,test_size=0.2,random_state=123)"
   ]
  },
  {
   "cell_type": "markdown",
   "metadata": {
    "id": "wogGm5bbwxur"
   },
   "source": [
    "### null values checking "
   ]
  },
  {
   "cell_type": "code",
   "execution_count": 42,
   "metadata": {
    "colab": {
     "base_uri": "https://localhost:8080/"
    },
    "id": "Tdwsa5dxpBvf",
    "outputId": "46ae817f-e7f5-4c21-d9f2-288db917f331"
   },
   "outputs": [
    {
     "name": "stdout",
     "output_type": "stream",
     "text": [
      "=======null values========\n"
     ]
    },
    {
     "data": {
      "text/plain": [
       "EQUIPMENT_TYPE              680\n",
       "CUSTOMER_MILES                0\n",
       "WEIGHT                        0\n",
       "FIRST_PICK_EARLY_APPT        58\n",
       "FIRST_PICK_LATE_APPT         92\n",
       "LAST_DELIVERY_EARLY_APPT     84\n",
       "LAST_DELIVERY_LATE_APPT     118\n",
       "IS_HAZARDOUS                  0\n",
       "CREATED_DATE                  0\n",
       "dtype: int64"
      ]
     },
     "execution_count": 42,
     "metadata": {},
     "output_type": "execute_result"
    }
   ],
   "source": [
    "#function for checking null values\n",
    "def null_values(data):\n",
    "  print('=======null values========')\n",
    "  return data.isnull().sum()\n",
    "null_values(x_train)"
   ]
  },
  {
   "cell_type": "code",
   "execution_count": 43,
   "metadata": {
    "colab": {
     "base_uri": "https://localhost:8080/"
    },
    "id": "DWigKY6rpBsG",
    "outputId": "662bc891-fbb0-497f-fba3-361f58df11ea"
   },
   "outputs": [
    {
     "name": "stdout",
     "output_type": "stream",
     "text": [
      "=======null values========\n"
     ]
    },
    {
     "data": {
      "text/plain": [
       "EQUIPMENT_TYPE              181\n",
       "CUSTOMER_MILES                0\n",
       "WEIGHT                        0\n",
       "FIRST_PICK_EARLY_APPT         8\n",
       "FIRST_PICK_LATE_APPT         14\n",
       "LAST_DELIVERY_EARLY_APPT     13\n",
       "LAST_DELIVERY_LATE_APPT      19\n",
       "IS_HAZARDOUS                  0\n",
       "CREATED_DATE                  0\n",
       "dtype: int64"
      ]
     },
     "execution_count": 43,
     "metadata": {},
     "output_type": "execute_result"
    }
   ],
   "source": [
    "null_values(x_test)"
   ]
  },
  {
   "cell_type": "code",
   "execution_count": 44,
   "metadata": {
    "colab": {
     "base_uri": "https://localhost:8080/",
     "height": 300
    },
    "id": "zu76UWp0yxMW",
    "outputId": "cbccfa98-bfc3-4400-929d-0a50697b042b"
   },
   "outputs": [
    {
     "data": {
      "text/html": [
       "<div>\n",
       "<style scoped>\n",
       "    .dataframe tbody tr th:only-of-type {\n",
       "        vertical-align: middle;\n",
       "    }\n",
       "\n",
       "    .dataframe tbody tr th {\n",
       "        vertical-align: top;\n",
       "    }\n",
       "\n",
       "    .dataframe thead th {\n",
       "        text-align: right;\n",
       "    }\n",
       "</style>\n",
       "<table border=\"1\" class=\"dataframe\">\n",
       "  <thead>\n",
       "    <tr style=\"text-align: right;\">\n",
       "      <th></th>\n",
       "      <th>CUSTOMER_MILES</th>\n",
       "      <th>WEIGHT</th>\n",
       "    </tr>\n",
       "  </thead>\n",
       "  <tbody>\n",
       "    <tr>\n",
       "      <th>count</th>\n",
       "      <td>11284.000000</td>\n",
       "      <td>11284.000000</td>\n",
       "    </tr>\n",
       "    <tr>\n",
       "      <th>mean</th>\n",
       "      <td>457.306806</td>\n",
       "      <td>25801.509926</td>\n",
       "    </tr>\n",
       "    <tr>\n",
       "      <th>std</th>\n",
       "      <td>287.533973</td>\n",
       "      <td>16545.214373</td>\n",
       "    </tr>\n",
       "    <tr>\n",
       "      <th>min</th>\n",
       "      <td>0.000000</td>\n",
       "      <td>0.000000</td>\n",
       "    </tr>\n",
       "    <tr>\n",
       "      <th>25%</th>\n",
       "      <td>232.000000</td>\n",
       "      <td>8000.000000</td>\n",
       "    </tr>\n",
       "    <tr>\n",
       "      <th>50%</th>\n",
       "      <td>410.000000</td>\n",
       "      <td>30000.000000</td>\n",
       "    </tr>\n",
       "    <tr>\n",
       "      <th>75%</th>\n",
       "      <td>604.000000</td>\n",
       "      <td>42000.000000</td>\n",
       "    </tr>\n",
       "    <tr>\n",
       "      <th>max</th>\n",
       "      <td>1309.000000</td>\n",
       "      <td>72760.000000</td>\n",
       "    </tr>\n",
       "  </tbody>\n",
       "</table>\n",
       "</div>"
      ],
      "text/plain": [
       "       CUSTOMER_MILES        WEIGHT\n",
       "count    11284.000000  11284.000000\n",
       "mean       457.306806  25801.509926\n",
       "std        287.533973  16545.214373\n",
       "min          0.000000      0.000000\n",
       "25%        232.000000   8000.000000\n",
       "50%        410.000000  30000.000000\n",
       "75%        604.000000  42000.000000\n",
       "max       1309.000000  72760.000000"
      ]
     },
     "execution_count": 44,
     "metadata": {},
     "output_type": "execute_result"
    }
   ],
   "source": [
    "x_train.describe()"
   ]
  },
  {
   "cell_type": "code",
   "execution_count": 45,
   "metadata": {
    "id": "agexXXDvyxAm"
   },
   "outputs": [],
   "source": [
    "#separating the features according to the datatypes\n",
    "num_cols = ['CUSTOMER_MILES','WEIGHT']\n",
    "cat_cols = ['EQUIPMENT_TYPE','IS_HAZARDOUS']\n",
    "date_cols = ['FIRST_PICK_EARLY_APPT','FIRST_PICK_LATE_APPT','LAST_DELIVERY_EARLY_APPT','LAST_DELIVERY_LATE_APPT','CREATED_DATE']\n",
    "target = ['ORDER_COST']\n",
    "to_drop = ['ORDER_NBR','FIRST_PICK_ZIP','LAST_DELIVERY_ZIP']"
   ]
  },
  {
   "cell_type": "markdown",
   "metadata": {
    "id": "gbK780WKrfFS"
   },
   "source": [
    "# Feature Engineering"
   ]
  },
  {
   "cell_type": "markdown",
   "metadata": {
    "id": "0LG97P6Jrm9I"
   },
   "source": [
    "### Imputation the categorical columns with mode and numerical columns with median"
   ]
  },
  {
   "cell_type": "code",
   "execution_count": 46,
   "metadata": {
    "id": "tOCIFgNn1JtH"
   },
   "outputs": [],
   "source": [
    "#imputing for categorical columns\n",
    "from sklearn.impute import SimpleImputer\n",
    "cat_impute  =SimpleImputer(strategy='most_frequent')\n",
    "x_train[cat_cols]=cat_impute.fit_transform(x_train[cat_cols])\n",
    "x_test[cat_cols]=cat_impute.transform(x_test[cat_cols])"
   ]
  },
  {
   "cell_type": "code",
   "execution_count": 47,
   "metadata": {
    "id": "of9fnZjz1h3q"
   },
   "outputs": [],
   "source": [
    "#imputing for numerical columns\n",
    "num_impute = SimpleImputer(strategy='median')\n",
    "x_train[num_cols]=num_impute.fit_transform(x_train[num_cols])\n",
    "x_test[num_cols]=num_impute.transform(x_test[num_cols])"
   ]
  },
  {
   "cell_type": "code",
   "execution_count": 48,
   "metadata": {
    "colab": {
     "base_uri": "https://localhost:8080/"
    },
    "id": "w3-20fmb2NUc",
    "outputId": "e69d44e9-acc9-4722-bce9-5a28914c2109"
   },
   "outputs": [
    {
     "name": "stdout",
     "output_type": "stream",
     "text": [
      "=======null values========\n"
     ]
    },
    {
     "data": {
      "text/plain": [
       "EQUIPMENT_TYPE                0\n",
       "CUSTOMER_MILES                0\n",
       "WEIGHT                        0\n",
       "FIRST_PICK_EARLY_APPT        58\n",
       "FIRST_PICK_LATE_APPT         92\n",
       "LAST_DELIVERY_EARLY_APPT     84\n",
       "LAST_DELIVERY_LATE_APPT     118\n",
       "IS_HAZARDOUS                  0\n",
       "CREATED_DATE                  0\n",
       "dtype: int64"
      ]
     },
     "execution_count": 48,
     "metadata": {},
     "output_type": "execute_result"
    }
   ],
   "source": [
    "null_values(x_train)"
   ]
  },
  {
   "cell_type": "code",
   "execution_count": 49,
   "metadata": {
    "colab": {
     "base_uri": "https://localhost:8080/"
    },
    "id": "ave0V5YE2SNr",
    "outputId": "91c8f395-dc8e-4b79-d33e-1562d980db28",
    "scrolled": true
   },
   "outputs": [
    {
     "name": "stdout",
     "output_type": "stream",
     "text": [
      "=======null values========\n"
     ]
    },
    {
     "data": {
      "text/plain": [
       "EQUIPMENT_TYPE               0\n",
       "CUSTOMER_MILES               0\n",
       "WEIGHT                       0\n",
       "FIRST_PICK_EARLY_APPT        8\n",
       "FIRST_PICK_LATE_APPT        14\n",
       "LAST_DELIVERY_EARLY_APPT    13\n",
       "LAST_DELIVERY_LATE_APPT     19\n",
       "IS_HAZARDOUS                 0\n",
       "CREATED_DATE                 0\n",
       "dtype: int64"
      ]
     },
     "execution_count": 49,
     "metadata": {},
     "output_type": "execute_result"
    }
   ],
   "source": [
    "null_values(x_test)"
   ]
  },
  {
   "cell_type": "code",
   "execution_count": 50,
   "metadata": {},
   "outputs": [],
   "source": [
    "data['MAX_TIME_TO_SERVICE'] = (data['LAST_DELIVERY_LATE_APPT']-data['CREATED_DATE']).dt.days\n",
    "\n",
    "#getting new feature from delivery times\n",
    "x_train['MAX_TIME_TO_SERVICE'] = (x_train['LAST_DELIVERY_LATE_APPT']-x_train['CREATED_DATE']).dt.total_seconds()/3600\n",
    "x_test['MAX_TIME_TO_SERVICE'] = (x_test['LAST_DELIVERY_LATE_APPT']-x_test['CREATED_DATE']).dt.total_seconds()/3600\n",
    "# getting new feature from pick up times\n",
    "#getting new feature from delivery times"
   ]
  },
  {
   "cell_type": "markdown",
   "metadata": {
    "id": "JompY4HKsP1K"
   },
   "source": [
    "# Feature Extraction"
   ]
  },
  {
   "cell_type": "code",
   "execution_count": 51,
   "metadata": {
    "id": "1eiViLrtlmME"
   },
   "outputs": [],
   "source": [
    "\n",
    "x_train['TIME_ALLOWANCE_TO_COLLECT'] = (x_train['FIRST_PICK_LATE_APPT']-x_train['FIRST_PICK_EARLY_APPT']).dt.total_seconds()/3600\n",
    "x_test['TIME_ALLOWANCE_TO_COLLECT'] = (x_test['FIRST_PICK_LATE_APPT']-x_test['FIRST_PICK_EARLY_APPT']).dt.total_seconds()/3600"
   ]
  },
  {
   "cell_type": "code",
   "execution_count": 52,
   "metadata": {
    "id": "U5tKeKGq2oYd"
   },
   "outputs": [],
   "source": [
    "\n",
    "x_train['TIME_ALLOWANCE_TO_DELIVERY'] = (x_train['LAST_DELIVERY_LATE_APPT']-x_train['LAST_DELIVERY_EARLY_APPT']).dt.total_seconds()/3600\n",
    "x_test['TIME_ALLOWANCE_TO_DELIVERY'] = (x_test['LAST_DELIVERY_LATE_APPT']-x_test['LAST_DELIVERY_EARLY_APPT']).dt.total_seconds()/3600"
   ]
  },
  {
   "cell_type": "code",
   "execution_count": null,
   "metadata": {
    "id": "Y0CGa3a_yOdv"
   },
   "outputs": [],
   "source": []
  },
  {
   "cell_type": "code",
   "execution_count": 53,
   "metadata": {
    "colab": {
     "base_uri": "https://localhost:8080/"
    },
    "id": "f6bhOLOvEmxm",
    "outputId": "4d12e9e8-ec91-4b22-dca0-ad9bae9bd906",
    "scrolled": true
   },
   "outputs": [
    {
     "data": {
      "text/plain": [
       "['FIRST_PICK_EARLY_APPT',\n",
       " 'FIRST_PICK_LATE_APPT',\n",
       " 'LAST_DELIVERY_EARLY_APPT',\n",
       " 'LAST_DELIVERY_LATE_APPT',\n",
       " 'CREATED_DATE']"
      ]
     },
     "execution_count": 53,
     "metadata": {},
     "output_type": "execute_result"
    }
   ],
   "source": [
    "date_cols"
   ]
  },
  {
   "cell_type": "code",
   "execution_count": 54,
   "metadata": {
    "id": "BTdUw8aE4Nve"
   },
   "outputs": [],
   "source": [
    "#function for dropping date columns\n",
    "def drop_dates(data):\n",
    "  data.drop(date_cols,axis=1,inplace=True)\n",
    "drop_dates(x_train)\n",
    "drop_dates(x_test)"
   ]
  },
  {
   "cell_type": "code",
   "execution_count": 55,
   "metadata": {
    "colab": {
     "base_uri": "https://localhost:8080/",
     "height": 270
    },
    "id": "n5X-a7Zo4Nsn",
    "outputId": "c20f0953-0528-4301-aa17-fa1d1474f458"
   },
   "outputs": [
    {
     "data": {
      "text/html": [
       "<div>\n",
       "<style scoped>\n",
       "    .dataframe tbody tr th:only-of-type {\n",
       "        vertical-align: middle;\n",
       "    }\n",
       "\n",
       "    .dataframe tbody tr th {\n",
       "        vertical-align: top;\n",
       "    }\n",
       "\n",
       "    .dataframe thead th {\n",
       "        text-align: right;\n",
       "    }\n",
       "</style>\n",
       "<table border=\"1\" class=\"dataframe\">\n",
       "  <thead>\n",
       "    <tr style=\"text-align: right;\">\n",
       "      <th></th>\n",
       "      <th>EQUIPMENT_TYPE</th>\n",
       "      <th>CUSTOMER_MILES</th>\n",
       "      <th>WEIGHT</th>\n",
       "      <th>IS_HAZARDOUS</th>\n",
       "      <th>MAX_TIME_TO_SERVICE</th>\n",
       "      <th>TIME_ALLOWANCE_TO_COLLECT</th>\n",
       "      <th>TIME_ALLOWANCE_TO_DELIVERY</th>\n",
       "    </tr>\n",
       "  </thead>\n",
       "  <tbody>\n",
       "    <tr>\n",
       "      <th>9400</th>\n",
       "      <td>V</td>\n",
       "      <td>270.0</td>\n",
       "      <td>42000.0</td>\n",
       "      <td>N</td>\n",
       "      <td>158.033333</td>\n",
       "      <td>0.0</td>\n",
       "      <td>0.0</td>\n",
       "    </tr>\n",
       "    <tr>\n",
       "      <th>6516</th>\n",
       "      <td>VR</td>\n",
       "      <td>212.0</td>\n",
       "      <td>32379.0</td>\n",
       "      <td>N</td>\n",
       "      <td>139.316667</td>\n",
       "      <td>0.0</td>\n",
       "      <td>0.0</td>\n",
       "    </tr>\n",
       "    <tr>\n",
       "      <th>10866</th>\n",
       "      <td>V</td>\n",
       "      <td>473.0</td>\n",
       "      <td>44172.0</td>\n",
       "      <td>N</td>\n",
       "      <td>281.900000</td>\n",
       "      <td>0.0</td>\n",
       "      <td>0.0</td>\n",
       "    </tr>\n",
       "    <tr>\n",
       "      <th>12057</th>\n",
       "      <td>VR</td>\n",
       "      <td>206.0</td>\n",
       "      <td>41652.0</td>\n",
       "      <td>N</td>\n",
       "      <td>165.533333</td>\n",
       "      <td>0.0</td>\n",
       "      <td>0.0</td>\n",
       "    </tr>\n",
       "    <tr>\n",
       "      <th>5214</th>\n",
       "      <td>V</td>\n",
       "      <td>109.0</td>\n",
       "      <td>0.0</td>\n",
       "      <td>N</td>\n",
       "      <td>48.083333</td>\n",
       "      <td>33.0</td>\n",
       "      <td>9.0</td>\n",
       "    </tr>\n",
       "  </tbody>\n",
       "</table>\n",
       "</div>"
      ],
      "text/plain": [
       "      EQUIPMENT_TYPE  CUSTOMER_MILES   WEIGHT IS_HAZARDOUS  \\\n",
       "9400               V           270.0  42000.0            N   \n",
       "6516              VR           212.0  32379.0            N   \n",
       "10866              V           473.0  44172.0            N   \n",
       "12057             VR           206.0  41652.0            N   \n",
       "5214               V           109.0      0.0            N   \n",
       "\n",
       "       MAX_TIME_TO_SERVICE  TIME_ALLOWANCE_TO_COLLECT  \\\n",
       "9400            158.033333                        0.0   \n",
       "6516            139.316667                        0.0   \n",
       "10866           281.900000                        0.0   \n",
       "12057           165.533333                        0.0   \n",
       "5214             48.083333                       33.0   \n",
       "\n",
       "       TIME_ALLOWANCE_TO_DELIVERY  \n",
       "9400                          0.0  \n",
       "6516                          0.0  \n",
       "10866                         0.0  \n",
       "12057                         0.0  \n",
       "5214                          9.0  "
      ]
     },
     "execution_count": 55,
     "metadata": {},
     "output_type": "execute_result"
    }
   ],
   "source": [
    "x_train.head()"
   ]
  },
  {
   "cell_type": "code",
   "execution_count": 56,
   "metadata": {
    "colab": {
     "base_uri": "https://localhost:8080/",
     "height": 270
    },
    "id": "tw2iqEyB4NpT",
    "outputId": "0108259e-b5fb-46ab-8e8a-3656aff0688d"
   },
   "outputs": [
    {
     "data": {
      "text/html": [
       "<div>\n",
       "<style scoped>\n",
       "    .dataframe tbody tr th:only-of-type {\n",
       "        vertical-align: middle;\n",
       "    }\n",
       "\n",
       "    .dataframe tbody tr th {\n",
       "        vertical-align: top;\n",
       "    }\n",
       "\n",
       "    .dataframe thead th {\n",
       "        text-align: right;\n",
       "    }\n",
       "</style>\n",
       "<table border=\"1\" class=\"dataframe\">\n",
       "  <thead>\n",
       "    <tr style=\"text-align: right;\">\n",
       "      <th></th>\n",
       "      <th>EQUIPMENT_TYPE</th>\n",
       "      <th>CUSTOMER_MILES</th>\n",
       "      <th>WEIGHT</th>\n",
       "      <th>IS_HAZARDOUS</th>\n",
       "      <th>MAX_TIME_TO_SERVICE</th>\n",
       "      <th>TIME_ALLOWANCE_TO_COLLECT</th>\n",
       "      <th>TIME_ALLOWANCE_TO_DELIVERY</th>\n",
       "    </tr>\n",
       "  </thead>\n",
       "  <tbody>\n",
       "    <tr>\n",
       "      <th>16895</th>\n",
       "      <td>V</td>\n",
       "      <td>440.0</td>\n",
       "      <td>8757.0</td>\n",
       "      <td>N</td>\n",
       "      <td>32.283333</td>\n",
       "      <td>6.0</td>\n",
       "      <td>8.5</td>\n",
       "    </tr>\n",
       "    <tr>\n",
       "      <th>15309</th>\n",
       "      <td>R</td>\n",
       "      <td>560.0</td>\n",
       "      <td>43168.0</td>\n",
       "      <td>N</td>\n",
       "      <td>94.600000</td>\n",
       "      <td>0.0</td>\n",
       "      <td>0.0</td>\n",
       "    </tr>\n",
       "    <tr>\n",
       "      <th>18716</th>\n",
       "      <td>R</td>\n",
       "      <td>519.0</td>\n",
       "      <td>37897.0</td>\n",
       "      <td>N</td>\n",
       "      <td>272.400000</td>\n",
       "      <td>0.0</td>\n",
       "      <td>0.0</td>\n",
       "    </tr>\n",
       "    <tr>\n",
       "      <th>18341</th>\n",
       "      <td>V</td>\n",
       "      <td>616.0</td>\n",
       "      <td>8000.0</td>\n",
       "      <td>N</td>\n",
       "      <td>76.950000</td>\n",
       "      <td>24.0</td>\n",
       "      <td>0.0</td>\n",
       "    </tr>\n",
       "    <tr>\n",
       "      <th>1146</th>\n",
       "      <td>V</td>\n",
       "      <td>200.0</td>\n",
       "      <td>10000.0</td>\n",
       "      <td>N</td>\n",
       "      <td>21.366667</td>\n",
       "      <td>0.0</td>\n",
       "      <td>7.0</td>\n",
       "    </tr>\n",
       "  </tbody>\n",
       "</table>\n",
       "</div>"
      ],
      "text/plain": [
       "      EQUIPMENT_TYPE  CUSTOMER_MILES   WEIGHT IS_HAZARDOUS  \\\n",
       "16895              V           440.0   8757.0            N   \n",
       "15309              R           560.0  43168.0            N   \n",
       "18716              R           519.0  37897.0            N   \n",
       "18341              V           616.0   8000.0            N   \n",
       "1146               V           200.0  10000.0            N   \n",
       "\n",
       "       MAX_TIME_TO_SERVICE  TIME_ALLOWANCE_TO_COLLECT  \\\n",
       "16895            32.283333                        6.0   \n",
       "15309            94.600000                        0.0   \n",
       "18716           272.400000                        0.0   \n",
       "18341            76.950000                       24.0   \n",
       "1146             21.366667                        0.0   \n",
       "\n",
       "       TIME_ALLOWANCE_TO_DELIVERY  \n",
       "16895                         8.5  \n",
       "15309                         0.0  \n",
       "18716                         0.0  \n",
       "18341                         0.0  \n",
       "1146                          7.0  "
      ]
     },
     "execution_count": 56,
     "metadata": {},
     "output_type": "execute_result"
    }
   ],
   "source": [
    "x_test.head()"
   ]
  },
  {
   "cell_type": "code",
   "execution_count": 57,
   "metadata": {},
   "outputs": [
    {
     "data": {
      "text/plain": [
       "EQUIPMENT_TYPE                  0\n",
       "CUSTOMER_MILES                  0\n",
       "WEIGHT                          0\n",
       "IS_HAZARDOUS                    0\n",
       "MAX_TIME_TO_SERVICE           118\n",
       "TIME_ALLOWANCE_TO_COLLECT      92\n",
       "TIME_ALLOWANCE_TO_DELIVERY    118\n",
       "dtype: int64"
      ]
     },
     "execution_count": 57,
     "metadata": {},
     "output_type": "execute_result"
    }
   ],
   "source": [
    "x_train.isnull().sum()"
   ]
  },
  {
   "cell_type": "code",
   "execution_count": 58,
   "metadata": {},
   "outputs": [],
   "source": [
    "x_train[['TIME_ALLOWANCE_TO_COLLECT','TIME_ALLOWANCE_TO_DELIVERY','MAX_TIME_TO_SERVICE']] = x_train[['TIME_ALLOWANCE_TO_COLLECT','TIME_ALLOWANCE_TO_DELIVERY','MAX_TIME_TO_SERVICE']].mask(x_train[['TIME_ALLOWANCE_TO_COLLECT','TIME_ALLOWANCE_TO_DELIVERY','MAX_TIME_TO_SERVICE']]<0,np.nan)\n"
   ]
  },
  {
   "cell_type": "code",
   "execution_count": 59,
   "metadata": {},
   "outputs": [
    {
     "data": {
      "text/plain": [
       "EQUIPMENT_TYPE                  0\n",
       "CUSTOMER_MILES                  0\n",
       "WEIGHT                          0\n",
       "IS_HAZARDOUS                    0\n",
       "MAX_TIME_TO_SERVICE           156\n",
       "TIME_ALLOWANCE_TO_COLLECT      92\n",
       "TIME_ALLOWANCE_TO_DELIVERY    118\n",
       "dtype: int64"
      ]
     },
     "execution_count": 59,
     "metadata": {},
     "output_type": "execute_result"
    }
   ],
   "source": [
    "x_train.isnull().sum()"
   ]
  },
  {
   "cell_type": "code",
   "execution_count": 60,
   "metadata": {},
   "outputs": [],
   "source": [
    "cols_knn = ['TIME_ALLOWANCE_TO_COLLECT','TIME_ALLOWANCE_TO_DELIVERY','MAX_TIME_TO_SERVICE']"
   ]
  },
  {
   "cell_type": "code",
   "execution_count": 61,
   "metadata": {},
   "outputs": [],
   "source": [
    "from sklearn.impute import KNNImputer"
   ]
  },
  {
   "cell_type": "code",
   "execution_count": 62,
   "metadata": {},
   "outputs": [],
   "source": [
    "knn_impute = KNNImputer(n_neighbors=10)\n",
    "x_train_knn=pd.DataFrame(knn_impute.fit_transform(x_train[cols_knn]),columns=cols_knn)\n",
    "x_test_knn=pd.DataFrame(knn_impute.transform(x_test[cols_knn]),columns=cols_knn)"
   ]
  },
  {
   "cell_type": "code",
   "execution_count": 63,
   "metadata": {
    "scrolled": true
   },
   "outputs": [
    {
     "data": {
      "text/plain": [
       "TIME_ALLOWANCE_TO_COLLECT     0\n",
       "TIME_ALLOWANCE_TO_DELIVERY    0\n",
       "MAX_TIME_TO_SERVICE           0\n",
       "dtype: int64"
      ]
     },
     "execution_count": 63,
     "metadata": {},
     "output_type": "execute_result"
    }
   ],
   "source": [
    "x_train_knn.isnull().sum()\n"
   ]
  },
  {
   "cell_type": "code",
   "execution_count": 64,
   "metadata": {},
   "outputs": [
    {
     "data": {
      "text/plain": [
       "TIME_ALLOWANCE_TO_COLLECT     0\n",
       "TIME_ALLOWANCE_TO_DELIVERY    0\n",
       "MAX_TIME_TO_SERVICE           0\n",
       "dtype: int64"
      ]
     },
     "execution_count": 64,
     "metadata": {},
     "output_type": "execute_result"
    }
   ],
   "source": [
    "x_test_knn.isnull().sum()"
   ]
  },
  {
   "cell_type": "markdown",
   "metadata": {
    "id": "pJGaS8ZFsxGo"
   },
   "source": [
    "## Feature Scaling"
   ]
  },
  {
   "cell_type": "code",
   "execution_count": 65,
   "metadata": {
    "id": "0tzc5_1KGZaH"
   },
   "outputs": [],
   "source": [
    "#standardization applied on the numerical columns\n",
    "from sklearn.preprocessing import StandardScaler,OneHotEncoder\n",
    "scale=StandardScaler()\n",
    "x_train_num=pd.DataFrame(scale.fit_transform(x_train[num_cols]),columns=num_cols)\n",
    "x_test_num=pd.DataFrame(scale.transform(x_test[num_cols]),columns=num_cols)"
   ]
  },
  {
   "cell_type": "markdown",
   "metadata": {
    "id": "V4z5IPi2s9nI"
   },
   "source": [
    "## OneHotEncoding on categorical columns"
   ]
  },
  {
   "cell_type": "code",
   "execution_count": 66,
   "metadata": {
    "id": "1se03c4yIilo"
   },
   "outputs": [],
   "source": [
    "cat_col=['EQUIPMENT_TYPE','IS_HAZARDOUS']"
   ]
  },
  {
   "cell_type": "code",
   "execution_count": 67,
   "metadata": {
    "colab": {
     "base_uri": "https://localhost:8080/",
     "height": 75
    },
    "id": "PbkmDwqfHN0g",
    "outputId": "651b3f91-4856-441d-dc3e-d63ac61b989c"
   },
   "outputs": [
    {
     "data": {
      "text/html": [
       "<style>#sk-container-id-1 {color: black;background-color: white;}#sk-container-id-1 pre{padding: 0;}#sk-container-id-1 div.sk-toggleable {background-color: white;}#sk-container-id-1 label.sk-toggleable__label {cursor: pointer;display: block;width: 100%;margin-bottom: 0;padding: 0.3em;box-sizing: border-box;text-align: center;}#sk-container-id-1 label.sk-toggleable__label-arrow:before {content: \"▸\";float: left;margin-right: 0.25em;color: #696969;}#sk-container-id-1 label.sk-toggleable__label-arrow:hover:before {color: black;}#sk-container-id-1 div.sk-estimator:hover label.sk-toggleable__label-arrow:before {color: black;}#sk-container-id-1 div.sk-toggleable__content {max-height: 0;max-width: 0;overflow: hidden;text-align: left;background-color: #f0f8ff;}#sk-container-id-1 div.sk-toggleable__content pre {margin: 0.2em;color: black;border-radius: 0.25em;background-color: #f0f8ff;}#sk-container-id-1 input.sk-toggleable__control:checked~div.sk-toggleable__content {max-height: 200px;max-width: 100%;overflow: auto;}#sk-container-id-1 input.sk-toggleable__control:checked~label.sk-toggleable__label-arrow:before {content: \"▾\";}#sk-container-id-1 div.sk-estimator input.sk-toggleable__control:checked~label.sk-toggleable__label {background-color: #d4ebff;}#sk-container-id-1 div.sk-label input.sk-toggleable__control:checked~label.sk-toggleable__label {background-color: #d4ebff;}#sk-container-id-1 input.sk-hidden--visually {border: 0;clip: rect(1px 1px 1px 1px);clip: rect(1px, 1px, 1px, 1px);height: 1px;margin: -1px;overflow: hidden;padding: 0;position: absolute;width: 1px;}#sk-container-id-1 div.sk-estimator {font-family: monospace;background-color: #f0f8ff;border: 1px dotted black;border-radius: 0.25em;box-sizing: border-box;margin-bottom: 0.5em;}#sk-container-id-1 div.sk-estimator:hover {background-color: #d4ebff;}#sk-container-id-1 div.sk-parallel-item::after {content: \"\";width: 100%;border-bottom: 1px solid gray;flex-grow: 1;}#sk-container-id-1 div.sk-label:hover label.sk-toggleable__label {background-color: #d4ebff;}#sk-container-id-1 div.sk-serial::before {content: \"\";position: absolute;border-left: 1px solid gray;box-sizing: border-box;top: 0;bottom: 0;left: 50%;z-index: 0;}#sk-container-id-1 div.sk-serial {display: flex;flex-direction: column;align-items: center;background-color: white;padding-right: 0.2em;padding-left: 0.2em;position: relative;}#sk-container-id-1 div.sk-item {position: relative;z-index: 1;}#sk-container-id-1 div.sk-parallel {display: flex;align-items: stretch;justify-content: center;background-color: white;position: relative;}#sk-container-id-1 div.sk-item::before, #sk-container-id-1 div.sk-parallel-item::before {content: \"\";position: absolute;border-left: 1px solid gray;box-sizing: border-box;top: 0;bottom: 0;left: 50%;z-index: -1;}#sk-container-id-1 div.sk-parallel-item {display: flex;flex-direction: column;z-index: 1;position: relative;background-color: white;}#sk-container-id-1 div.sk-parallel-item:first-child::after {align-self: flex-end;width: 50%;}#sk-container-id-1 div.sk-parallel-item:last-child::after {align-self: flex-start;width: 50%;}#sk-container-id-1 div.sk-parallel-item:only-child::after {width: 0;}#sk-container-id-1 div.sk-dashed-wrapped {border: 1px dashed gray;margin: 0 0.4em 0.5em 0.4em;box-sizing: border-box;padding-bottom: 0.4em;background-color: white;}#sk-container-id-1 div.sk-label label {font-family: monospace;font-weight: bold;display: inline-block;line-height: 1.2em;}#sk-container-id-1 div.sk-label-container {text-align: center;}#sk-container-id-1 div.sk-container {/* jupyter's `normalize.less` sets `[hidden] { display: none; }` but bootstrap.min.css set `[hidden] { display: none !important; }` so we also need the `!important` here to be able to override the default hidden behavior on the sphinx rendered scikit-learn.org. See: https://github.com/scikit-learn/scikit-learn/issues/21755 */display: inline-block !important;position: relative;}#sk-container-id-1 div.sk-text-repr-fallback {display: none;}</style><div id=\"sk-container-id-1\" class=\"sk-top-container\"><div class=\"sk-text-repr-fallback\"><pre>OneHotEncoder(handle_unknown=&#x27;ignore&#x27;)</pre><b>In a Jupyter environment, please rerun this cell to show the HTML representation or trust the notebook. <br />On GitHub, the HTML representation is unable to render, please try loading this page with nbviewer.org.</b></div><div class=\"sk-container\" hidden><div class=\"sk-item\"><div class=\"sk-estimator sk-toggleable\"><input class=\"sk-toggleable__control sk-hidden--visually\" id=\"sk-estimator-id-1\" type=\"checkbox\" checked><label for=\"sk-estimator-id-1\" class=\"sk-toggleable__label sk-toggleable__label-arrow\">OneHotEncoder</label><div class=\"sk-toggleable__content\"><pre>OneHotEncoder(handle_unknown=&#x27;ignore&#x27;)</pre></div></div></div></div></div>"
      ],
      "text/plain": [
       "OneHotEncoder(handle_unknown='ignore')"
      ]
     },
     "execution_count": 67,
     "metadata": {},
     "output_type": "execute_result"
    }
   ],
   "source": [
    "#onehotencoding on categorical features\n",
    "ohe=OneHotEncoder(handle_unknown='ignore')\n",
    "ohe.fit(x_train[cat_col])"
   ]
  },
  {
   "cell_type": "code",
   "execution_count": 68,
   "metadata": {
    "id": "6uM2JwI5JMdJ"
   },
   "outputs": [],
   "source": [
    "#list out the columns names\n",
    "cols=list(ohe.get_feature_names_out(x_train[cat_col].columns))"
   ]
  },
  {
   "cell_type": "code",
   "execution_count": 69,
   "metadata": {
    "id": "vBIe5JZGG203"
   },
   "outputs": [],
   "source": [
    "x_train_cat=pd.DataFrame(ohe.transform(x_train[cat_col]).todense(),columns=cols)\n",
    "x_test_cat=pd.DataFrame(ohe.transform(x_test[cat_col]).todense(),columns=cols)"
   ]
  },
  {
   "cell_type": "code",
   "execution_count": 70,
   "metadata": {
    "id": "hEUwC_J0PgoG"
   },
   "outputs": [],
   "source": [
    "train_final = pd.concat([x_train_num,x_train_cat,x_train_knn],axis=1)\n",
    "test_final = pd.concat([x_test_num,x_test_cat,x_test_knn],axis=1)"
   ]
  },
  {
   "cell_type": "markdown",
   "metadata": {
    "id": "tFZY9MxVtGlR"
   },
   "source": [
    "## Preprocessed Data"
   ]
  },
  {
   "cell_type": "code",
   "execution_count": 71,
   "metadata": {
    "colab": {
     "base_uri": "https://localhost:8080/",
     "height": 505
    },
    "id": "g1JPI9NOP7w2",
    "outputId": "a9a02cac-4b22-45d9-e0c1-a76d0178ad0a"
   },
   "outputs": [
    {
     "data": {
      "text/html": [
       "<div>\n",
       "<style scoped>\n",
       "    .dataframe tbody tr th:only-of-type {\n",
       "        vertical-align: middle;\n",
       "    }\n",
       "\n",
       "    .dataframe tbody tr th {\n",
       "        vertical-align: top;\n",
       "    }\n",
       "\n",
       "    .dataframe thead th {\n",
       "        text-align: right;\n",
       "    }\n",
       "</style>\n",
       "<table border=\"1\" class=\"dataframe\">\n",
       "  <thead>\n",
       "    <tr style=\"text-align: right;\">\n",
       "      <th></th>\n",
       "      <th>CUSTOMER_MILES</th>\n",
       "      <th>WEIGHT</th>\n",
       "      <th>EQUIPMENT_TYPE_D-LTL</th>\n",
       "      <th>EQUIPMENT_TYPE_DROP</th>\n",
       "      <th>EQUIPMENT_TYPE_F</th>\n",
       "      <th>EQUIPMENT_TYPE_FH</th>\n",
       "      <th>EQUIPMENT_TYPE_IMDL</th>\n",
       "      <th>EQUIPMENT_TYPE_LTL</th>\n",
       "      <th>EQUIPMENT_TYPE_PARTIAL</th>\n",
       "      <th>EQUIPMENT_TYPE_PO</th>\n",
       "      <th>...</th>\n",
       "      <th>EQUIPMENT_TYPE_VOLUME LTL</th>\n",
       "      <th>EQUIPMENT_TYPE_VR</th>\n",
       "      <th>EQUIPMENT_TYPE_VS</th>\n",
       "      <th>EQUIPMENT_TYPE_VV</th>\n",
       "      <th>EQUIPMENT_TYPE_VZ</th>\n",
       "      <th>IS_HAZARDOUS_N</th>\n",
       "      <th>IS_HAZARDOUS_Y</th>\n",
       "      <th>TIME_ALLOWANCE_TO_COLLECT</th>\n",
       "      <th>TIME_ALLOWANCE_TO_DELIVERY</th>\n",
       "      <th>MAX_TIME_TO_SERVICE</th>\n",
       "    </tr>\n",
       "  </thead>\n",
       "  <tbody>\n",
       "    <tr>\n",
       "      <th>0</th>\n",
       "      <td>-0.651454</td>\n",
       "      <td>0.979087</td>\n",
       "      <td>0.0</td>\n",
       "      <td>0.0</td>\n",
       "      <td>0.0</td>\n",
       "      <td>0.0</td>\n",
       "      <td>0.0</td>\n",
       "      <td>0.0</td>\n",
       "      <td>0.0</td>\n",
       "      <td>0.0</td>\n",
       "      <td>...</td>\n",
       "      <td>0.0</td>\n",
       "      <td>0.0</td>\n",
       "      <td>0.0</td>\n",
       "      <td>0.0</td>\n",
       "      <td>0.0</td>\n",
       "      <td>1.0</td>\n",
       "      <td>0.0</td>\n",
       "      <td>0.0</td>\n",
       "      <td>0.0</td>\n",
       "      <td>158.033333</td>\n",
       "    </tr>\n",
       "    <tr>\n",
       "      <th>1</th>\n",
       "      <td>-0.853178</td>\n",
       "      <td>0.397564</td>\n",
       "      <td>0.0</td>\n",
       "      <td>0.0</td>\n",
       "      <td>0.0</td>\n",
       "      <td>0.0</td>\n",
       "      <td>0.0</td>\n",
       "      <td>0.0</td>\n",
       "      <td>0.0</td>\n",
       "      <td>0.0</td>\n",
       "      <td>...</td>\n",
       "      <td>0.0</td>\n",
       "      <td>1.0</td>\n",
       "      <td>0.0</td>\n",
       "      <td>0.0</td>\n",
       "      <td>0.0</td>\n",
       "      <td>1.0</td>\n",
       "      <td>0.0</td>\n",
       "      <td>0.0</td>\n",
       "      <td>0.0</td>\n",
       "      <td>139.316667</td>\n",
       "    </tr>\n",
       "    <tr>\n",
       "      <th>2</th>\n",
       "      <td>0.054581</td>\n",
       "      <td>1.110370</td>\n",
       "      <td>0.0</td>\n",
       "      <td>0.0</td>\n",
       "      <td>0.0</td>\n",
       "      <td>0.0</td>\n",
       "      <td>0.0</td>\n",
       "      <td>0.0</td>\n",
       "      <td>0.0</td>\n",
       "      <td>0.0</td>\n",
       "      <td>...</td>\n",
       "      <td>0.0</td>\n",
       "      <td>0.0</td>\n",
       "      <td>0.0</td>\n",
       "      <td>0.0</td>\n",
       "      <td>0.0</td>\n",
       "      <td>1.0</td>\n",
       "      <td>0.0</td>\n",
       "      <td>0.0</td>\n",
       "      <td>0.0</td>\n",
       "      <td>281.900000</td>\n",
       "    </tr>\n",
       "    <tr>\n",
       "      <th>3</th>\n",
       "      <td>-0.874046</td>\n",
       "      <td>0.958053</td>\n",
       "      <td>0.0</td>\n",
       "      <td>0.0</td>\n",
       "      <td>0.0</td>\n",
       "      <td>0.0</td>\n",
       "      <td>0.0</td>\n",
       "      <td>0.0</td>\n",
       "      <td>0.0</td>\n",
       "      <td>0.0</td>\n",
       "      <td>...</td>\n",
       "      <td>0.0</td>\n",
       "      <td>1.0</td>\n",
       "      <td>0.0</td>\n",
       "      <td>0.0</td>\n",
       "      <td>0.0</td>\n",
       "      <td>1.0</td>\n",
       "      <td>0.0</td>\n",
       "      <td>0.0</td>\n",
       "      <td>0.0</td>\n",
       "      <td>165.533333</td>\n",
       "    </tr>\n",
       "    <tr>\n",
       "      <th>4</th>\n",
       "      <td>-1.211412</td>\n",
       "      <td>-1.559524</td>\n",
       "      <td>0.0</td>\n",
       "      <td>0.0</td>\n",
       "      <td>0.0</td>\n",
       "      <td>0.0</td>\n",
       "      <td>0.0</td>\n",
       "      <td>0.0</td>\n",
       "      <td>0.0</td>\n",
       "      <td>0.0</td>\n",
       "      <td>...</td>\n",
       "      <td>0.0</td>\n",
       "      <td>0.0</td>\n",
       "      <td>0.0</td>\n",
       "      <td>0.0</td>\n",
       "      <td>0.0</td>\n",
       "      <td>1.0</td>\n",
       "      <td>0.0</td>\n",
       "      <td>33.0</td>\n",
       "      <td>9.0</td>\n",
       "      <td>48.083333</td>\n",
       "    </tr>\n",
       "    <tr>\n",
       "      <th>...</th>\n",
       "      <td>...</td>\n",
       "      <td>...</td>\n",
       "      <td>...</td>\n",
       "      <td>...</td>\n",
       "      <td>...</td>\n",
       "      <td>...</td>\n",
       "      <td>...</td>\n",
       "      <td>...</td>\n",
       "      <td>...</td>\n",
       "      <td>...</td>\n",
       "      <td>...</td>\n",
       "      <td>...</td>\n",
       "      <td>...</td>\n",
       "      <td>...</td>\n",
       "      <td>...</td>\n",
       "      <td>...</td>\n",
       "      <td>...</td>\n",
       "      <td>...</td>\n",
       "      <td>...</td>\n",
       "      <td>...</td>\n",
       "      <td>...</td>\n",
       "    </tr>\n",
       "    <tr>\n",
       "      <th>11279</th>\n",
       "      <td>0.774528</td>\n",
       "      <td>1.057421</td>\n",
       "      <td>0.0</td>\n",
       "      <td>0.0</td>\n",
       "      <td>0.0</td>\n",
       "      <td>0.0</td>\n",
       "      <td>0.0</td>\n",
       "      <td>0.0</td>\n",
       "      <td>0.0</td>\n",
       "      <td>0.0</td>\n",
       "      <td>...</td>\n",
       "      <td>0.0</td>\n",
       "      <td>1.0</td>\n",
       "      <td>0.0</td>\n",
       "      <td>0.0</td>\n",
       "      <td>0.0</td>\n",
       "      <td>1.0</td>\n",
       "      <td>0.0</td>\n",
       "      <td>9.0</td>\n",
       "      <td>8.0</td>\n",
       "      <td>200.633333</td>\n",
       "    </tr>\n",
       "    <tr>\n",
       "      <th>11280</th>\n",
       "      <td>-1.253149</td>\n",
       "      <td>0.677839</td>\n",
       "      <td>0.0</td>\n",
       "      <td>0.0</td>\n",
       "      <td>0.0</td>\n",
       "      <td>0.0</td>\n",
       "      <td>0.0</td>\n",
       "      <td>0.0</td>\n",
       "      <td>0.0</td>\n",
       "      <td>0.0</td>\n",
       "      <td>...</td>\n",
       "      <td>0.0</td>\n",
       "      <td>1.0</td>\n",
       "      <td>0.0</td>\n",
       "      <td>0.0</td>\n",
       "      <td>0.0</td>\n",
       "      <td>1.0</td>\n",
       "      <td>0.0</td>\n",
       "      <td>0.0</td>\n",
       "      <td>0.0</td>\n",
       "      <td>276.050000</td>\n",
       "    </tr>\n",
       "    <tr>\n",
       "      <th>11281</th>\n",
       "      <td>-1.141852</td>\n",
       "      <td>0.977213</td>\n",
       "      <td>0.0</td>\n",
       "      <td>0.0</td>\n",
       "      <td>0.0</td>\n",
       "      <td>0.0</td>\n",
       "      <td>0.0</td>\n",
       "      <td>0.0</td>\n",
       "      <td>0.0</td>\n",
       "      <td>0.0</td>\n",
       "      <td>...</td>\n",
       "      <td>0.0</td>\n",
       "      <td>0.0</td>\n",
       "      <td>0.0</td>\n",
       "      <td>0.0</td>\n",
       "      <td>0.0</td>\n",
       "      <td>1.0</td>\n",
       "      <td>0.0</td>\n",
       "      <td>1.0</td>\n",
       "      <td>0.0</td>\n",
       "      <td>105.816667</td>\n",
       "    </tr>\n",
       "    <tr>\n",
       "      <th>11282</th>\n",
       "      <td>2.910022</td>\n",
       "      <td>1.122700</td>\n",
       "      <td>0.0</td>\n",
       "      <td>0.0</td>\n",
       "      <td>0.0</td>\n",
       "      <td>0.0</td>\n",
       "      <td>0.0</td>\n",
       "      <td>0.0</td>\n",
       "      <td>0.0</td>\n",
       "      <td>0.0</td>\n",
       "      <td>...</td>\n",
       "      <td>0.0</td>\n",
       "      <td>1.0</td>\n",
       "      <td>0.0</td>\n",
       "      <td>0.0</td>\n",
       "      <td>0.0</td>\n",
       "      <td>1.0</td>\n",
       "      <td>0.0</td>\n",
       "      <td>0.0</td>\n",
       "      <td>7.0</td>\n",
       "      <td>243.866667</td>\n",
       "    </tr>\n",
       "    <tr>\n",
       "      <th>11283</th>\n",
       "      <td>1.066680</td>\n",
       "      <td>-1.559524</td>\n",
       "      <td>0.0</td>\n",
       "      <td>0.0</td>\n",
       "      <td>0.0</td>\n",
       "      <td>0.0</td>\n",
       "      <td>0.0</td>\n",
       "      <td>0.0</td>\n",
       "      <td>0.0</td>\n",
       "      <td>0.0</td>\n",
       "      <td>...</td>\n",
       "      <td>0.0</td>\n",
       "      <td>0.0</td>\n",
       "      <td>0.0</td>\n",
       "      <td>0.0</td>\n",
       "      <td>0.0</td>\n",
       "      <td>1.0</td>\n",
       "      <td>0.0</td>\n",
       "      <td>33.0</td>\n",
       "      <td>9.0</td>\n",
       "      <td>101.166667</td>\n",
       "    </tr>\n",
       "  </tbody>\n",
       "</table>\n",
       "<p>11284 rows × 27 columns</p>\n",
       "</div>"
      ],
      "text/plain": [
       "       CUSTOMER_MILES    WEIGHT  EQUIPMENT_TYPE_D-LTL  EQUIPMENT_TYPE_DROP  \\\n",
       "0           -0.651454  0.979087                   0.0                  0.0   \n",
       "1           -0.853178  0.397564                   0.0                  0.0   \n",
       "2            0.054581  1.110370                   0.0                  0.0   \n",
       "3           -0.874046  0.958053                   0.0                  0.0   \n",
       "4           -1.211412 -1.559524                   0.0                  0.0   \n",
       "...               ...       ...                   ...                  ...   \n",
       "11279        0.774528  1.057421                   0.0                  0.0   \n",
       "11280       -1.253149  0.677839                   0.0                  0.0   \n",
       "11281       -1.141852  0.977213                   0.0                  0.0   \n",
       "11282        2.910022  1.122700                   0.0                  0.0   \n",
       "11283        1.066680 -1.559524                   0.0                  0.0   \n",
       "\n",
       "       EQUIPMENT_TYPE_F  EQUIPMENT_TYPE_FH  EQUIPMENT_TYPE_IMDL  \\\n",
       "0                   0.0                0.0                  0.0   \n",
       "1                   0.0                0.0                  0.0   \n",
       "2                   0.0                0.0                  0.0   \n",
       "3                   0.0                0.0                  0.0   \n",
       "4                   0.0                0.0                  0.0   \n",
       "...                 ...                ...                  ...   \n",
       "11279               0.0                0.0                  0.0   \n",
       "11280               0.0                0.0                  0.0   \n",
       "11281               0.0                0.0                  0.0   \n",
       "11282               0.0                0.0                  0.0   \n",
       "11283               0.0                0.0                  0.0   \n",
       "\n",
       "       EQUIPMENT_TYPE_LTL  EQUIPMENT_TYPE_PARTIAL  EQUIPMENT_TYPE_PO  ...  \\\n",
       "0                     0.0                     0.0                0.0  ...   \n",
       "1                     0.0                     0.0                0.0  ...   \n",
       "2                     0.0                     0.0                0.0  ...   \n",
       "3                     0.0                     0.0                0.0  ...   \n",
       "4                     0.0                     0.0                0.0  ...   \n",
       "...                   ...                     ...                ...  ...   \n",
       "11279                 0.0                     0.0                0.0  ...   \n",
       "11280                 0.0                     0.0                0.0  ...   \n",
       "11281                 0.0                     0.0                0.0  ...   \n",
       "11282                 0.0                     0.0                0.0  ...   \n",
       "11283                 0.0                     0.0                0.0  ...   \n",
       "\n",
       "       EQUIPMENT_TYPE_VOLUME LTL  EQUIPMENT_TYPE_VR  EQUIPMENT_TYPE_VS  \\\n",
       "0                            0.0                0.0                0.0   \n",
       "1                            0.0                1.0                0.0   \n",
       "2                            0.0                0.0                0.0   \n",
       "3                            0.0                1.0                0.0   \n",
       "4                            0.0                0.0                0.0   \n",
       "...                          ...                ...                ...   \n",
       "11279                        0.0                1.0                0.0   \n",
       "11280                        0.0                1.0                0.0   \n",
       "11281                        0.0                0.0                0.0   \n",
       "11282                        0.0                1.0                0.0   \n",
       "11283                        0.0                0.0                0.0   \n",
       "\n",
       "       EQUIPMENT_TYPE_VV  EQUIPMENT_TYPE_VZ  IS_HAZARDOUS_N  IS_HAZARDOUS_Y  \\\n",
       "0                    0.0                0.0             1.0             0.0   \n",
       "1                    0.0                0.0             1.0             0.0   \n",
       "2                    0.0                0.0             1.0             0.0   \n",
       "3                    0.0                0.0             1.0             0.0   \n",
       "4                    0.0                0.0             1.0             0.0   \n",
       "...                  ...                ...             ...             ...   \n",
       "11279                0.0                0.0             1.0             0.0   \n",
       "11280                0.0                0.0             1.0             0.0   \n",
       "11281                0.0                0.0             1.0             0.0   \n",
       "11282                0.0                0.0             1.0             0.0   \n",
       "11283                0.0                0.0             1.0             0.0   \n",
       "\n",
       "       TIME_ALLOWANCE_TO_COLLECT  TIME_ALLOWANCE_TO_DELIVERY  \\\n",
       "0                            0.0                         0.0   \n",
       "1                            0.0                         0.0   \n",
       "2                            0.0                         0.0   \n",
       "3                            0.0                         0.0   \n",
       "4                           33.0                         9.0   \n",
       "...                          ...                         ...   \n",
       "11279                        9.0                         8.0   \n",
       "11280                        0.0                         0.0   \n",
       "11281                        1.0                         0.0   \n",
       "11282                        0.0                         7.0   \n",
       "11283                       33.0                         9.0   \n",
       "\n",
       "       MAX_TIME_TO_SERVICE  \n",
       "0               158.033333  \n",
       "1               139.316667  \n",
       "2               281.900000  \n",
       "3               165.533333  \n",
       "4                48.083333  \n",
       "...                    ...  \n",
       "11279           200.633333  \n",
       "11280           276.050000  \n",
       "11281           105.816667  \n",
       "11282           243.866667  \n",
       "11283           101.166667  \n",
       "\n",
       "[11284 rows x 27 columns]"
      ]
     },
     "execution_count": 71,
     "metadata": {},
     "output_type": "execute_result"
    }
   ],
   "source": [
    "#preprocessed data\n",
    "train_final"
   ]
  },
  {
   "cell_type": "code",
   "execution_count": 72,
   "metadata": {},
   "outputs": [
    {
     "data": {
      "text/plain": [
       "(11284, 27)"
      ]
     },
     "execution_count": 72,
     "metadata": {},
     "output_type": "execute_result"
    }
   ],
   "source": [
    "train_final.shape"
   ]
  },
  {
   "cell_type": "code",
   "execution_count": 73,
   "metadata": {
    "scrolled": true
   },
   "outputs": [
    {
     "data": {
      "text/plain": [
       "(2822, 27)"
      ]
     },
     "execution_count": 73,
     "metadata": {},
     "output_type": "execute_result"
    }
   ],
   "source": [
    "test_final.shape"
   ]
  },
  {
   "cell_type": "code",
   "execution_count": 74,
   "metadata": {},
   "outputs": [
    {
     "data": {
      "text/plain": [
       "Index(['CUSTOMER_MILES', 'WEIGHT', 'EQUIPMENT_TYPE_D-LTL',\n",
       "       'EQUIPMENT_TYPE_DROP', 'EQUIPMENT_TYPE_F', 'EQUIPMENT_TYPE_FH',\n",
       "       'EQUIPMENT_TYPE_IMDL', 'EQUIPMENT_TYPE_LTL', 'EQUIPMENT_TYPE_PARTIAL',\n",
       "       'EQUIPMENT_TYPE_PO', 'EQUIPMENT_TYPE_R', 'EQUIPMENT_TYPE_SB',\n",
       "       'EQUIPMENT_TYPE_SD', 'EQUIPMENT_TYPE_V', 'EQUIPMENT_TYPE_VA',\n",
       "       'EQUIPMENT_TYPE_VCAR', 'EQUIPMENT_TYPE_VM', 'EQUIPMENT_TYPE_VOLUME LTL',\n",
       "       'EQUIPMENT_TYPE_VR', 'EQUIPMENT_TYPE_VS', 'EQUIPMENT_TYPE_VV',\n",
       "       'EQUIPMENT_TYPE_VZ', 'IS_HAZARDOUS_N', 'IS_HAZARDOUS_Y',\n",
       "       'TIME_ALLOWANCE_TO_COLLECT', 'TIME_ALLOWANCE_TO_DELIVERY',\n",
       "       'MAX_TIME_TO_SERVICE'],\n",
       "      dtype='object')"
      ]
     },
     "execution_count": 74,
     "metadata": {},
     "output_type": "execute_result"
    }
   ],
   "source": [
    "train_final.columns"
   ]
  },
  {
   "cell_type": "code",
   "execution_count": null,
   "metadata": {},
   "outputs": [],
   "source": []
  },
  {
   "cell_type": "markdown",
   "metadata": {
    "id": "qLXw0HrvRNtO"
   },
   "source": [
    "# Models"
   ]
  },
  {
   "cell_type": "markdown",
   "metadata": {
    "id": "nn8XZeHfRUmF"
   },
   "source": [
    "## Linear Regression"
   ]
  },
  {
   "cell_type": "code",
   "execution_count": 75,
   "metadata": {
    "id": "D_RcgKwDRRhW"
   },
   "outputs": [],
   "source": [
    "from sklearn.linear_model import LinearRegression\n",
    "lr = LinearRegression()\n",
    "lr.fit(train_final,y_train)\n",
    "train_preds_lr = lr.predict(train_final)\n",
    "test_preds_lr = lr.predict(test_final)"
   ]
  },
  {
   "cell_type": "markdown",
   "metadata": {},
   "source": [
    "#### I preferred rmse as metric for this problem because it squares the error,which results in large errors being highlighted than the smaller ones.\n"
   ]
  },
  {
   "cell_type": "code",
   "execution_count": 76,
   "metadata": {
    "id": "Y2a33bQUSlpb",
    "scrolled": true
   },
   "outputs": [
    {
     "name": "stdout",
     "output_type": "stream",
     "text": [
      "[784.91454385] 0.6640864274909123\n"
     ]
    }
   ],
   "source": [
    "print(lr.intercept_,lr.score(train_final,y_train))"
   ]
  },
  {
   "cell_type": "code",
   "execution_count": 77,
   "metadata": {
    "scrolled": true
   },
   "outputs": [
    {
     "data": {
      "text/plain": [
       "array([[ 4.55876472e+02,  9.33632844e+01, -1.70606848e+03,\n",
       "        -8.55496707e+01,  1.71526754e+02,  2.71214029e+02,\n",
       "        -6.92177034e+02, -2.85252562e+02,  1.19905592e+01,\n",
       "         6.49063546e+02,  2.58458291e+02,  1.94769224e+02,\n",
       "         3.23509355e+02,  9.18387760e+01,  4.60781773e+02,\n",
       "        -4.57497073e+01,  4.54293651e+02, -4.86717287e+02,\n",
       "         7.17251588e+01,  5.53336591e+01, -1.26323400e+02,\n",
       "         4.13333362e+02,  1.12868708e+02, -1.12868708e+02,\n",
       "        -8.77611542e-01,  1.13747276e-03,  7.68659695e-04]])"
      ]
     },
     "execution_count": 77,
     "metadata": {},
     "output_type": "execute_result"
    }
   ],
   "source": [
    "lr.coef_"
   ]
  },
  {
   "cell_type": "code",
   "execution_count": 78,
   "metadata": {},
   "outputs": [],
   "source": [
    "y_train.reset_index(drop=True,inplace=True)"
   ]
  },
  {
   "cell_type": "markdown",
   "metadata": {},
   "source": [
    "## Ridge Regression "
   ]
  },
  {
   "cell_type": "code",
   "execution_count": 79,
   "metadata": {},
   "outputs": [],
   "source": [
    "from sklearn.linear_model import Ridge\n",
    "ridge_model = Ridge(alpha=1)\n",
    "ridge_model.fit(train_final,y_train)\n",
    "train_preds_ridge = ridge_model.predict(train_final)\n",
    "test_preds_ridge = ridge_model.predict(test_final)"
   ]
  },
  {
   "cell_type": "code",
   "execution_count": null,
   "metadata": {},
   "outputs": [],
   "source": []
  },
  {
   "cell_type": "markdown",
   "metadata": {},
   "source": [
    "### Get Regression Model Summary from Statsmodels package"
   ]
  },
  {
   "cell_type": "markdown",
   "metadata": {},
   "source": [
    "### Ordinary Least Square Regression (OLS)"
   ]
  },
  {
   "cell_type": "code",
   "execution_count": 81,
   "metadata": {
    "scrolled": false
   },
   "outputs": [
    {
     "name": "stdout",
     "output_type": "stream",
     "text": [
      "                            OLS Regression Results                            \n",
      "==============================================================================\n",
      "Dep. Variable:             ORDER_COST   R-squared:                       0.664\n",
      "Model:                            OLS   Adj. R-squared:                  0.663\n",
      "Method:                 Least Squares   F-statistic:                     890.3\n",
      "Date:                Fri, 19 May 2023   Prob (F-statistic):               0.00\n",
      "Time:                        06:43:09   Log-Likelihood:                -82132.\n",
      "No. Observations:               11284   AIC:                         1.643e+05\n",
      "Df Residuals:                   11258   BIC:                         1.645e+05\n",
      "Df Model:                          25                                         \n",
      "Covariance Type:            nonrobust                                         \n",
      "==============================================================================================\n",
      "                                 coef    std err          t      P>|t|      [0.025      0.975]\n",
      "----------------------------------------------------------------------------------------------\n",
      "CUSTOMER_MILES               455.8765      3.440    132.510      0.000     449.133     462.620\n",
      "WEIGHT                        93.3633      3.600     25.933      0.000      86.306     100.420\n",
      "EQUIPMENT_TYPE_D-LTL       -1634.7126    338.531     -4.829      0.000   -2298.292    -971.133\n",
      "EQUIPMENT_TYPE_DROP          -14.1938     88.456     -0.160      0.873    -187.583     159.196\n",
      "EQUIPMENT_TYPE_F             242.8826     76.918      3.158      0.002      92.109     393.656\n",
      "EQUIPMENT_TYPE_FH            342.5699    241.878      1.416      0.157    -131.553     816.693\n",
      "EQUIPMENT_TYPE_IMDL         -620.8212    241.928     -2.566      0.010   -1095.042    -146.600\n",
      "EQUIPMENT_TYPE_LTL          -213.8967     73.887     -2.895      0.004    -358.728     -69.065\n",
      "EQUIPMENT_TYPE_PARTIAL        83.3464    338.396      0.246      0.805    -579.968     746.661\n",
      "EQUIPMENT_TYPE_PO            720.4194    338.415      2.129      0.033      57.066    1383.773\n",
      "EQUIPMENT_TYPE_R             329.8142     50.812      6.491      0.000     230.213     429.415\n",
      "EQUIPMENT_TYPE_SB            266.1251    128.458      2.072      0.038      14.325     517.925\n",
      "EQUIPMENT_TYPE_SD            394.8652    338.389      1.167      0.243    -268.437    1058.167\n",
      "EQUIPMENT_TYPE_V             163.1946     50.069      3.259      0.001      65.050     261.339\n",
      "EQUIPMENT_TYPE_VA            532.1376    338.398      1.573      0.116    -131.182    1195.457\n",
      "EQUIPMENT_TYPE_VCAR           25.6062    174.719      0.147      0.883    -316.874     368.087\n",
      "EQUIPMENT_TYPE_VM            525.6495    174.682      3.009      0.003     183.243     868.056\n",
      "EQUIPMENT_TYPE_VOLUME LTL   -415.3614    174.705     -2.378      0.017    -757.813     -72.910\n",
      "EQUIPMENT_TYPE_VR            143.0810     50.587      2.828      0.005      43.922     242.240\n",
      "EQUIPMENT_TYPE_VS            126.6895    338.395      0.374      0.708    -536.624     790.003\n",
      "EQUIPMENT_TYPE_VV            -54.9675    338.439     -0.162      0.871    -718.368     608.433\n",
      "EQUIPMENT_TYPE_VZ            484.6892    151.447      3.200      0.001     187.827     781.551\n",
      "IS_HAZARDOUS_N               826.4274     49.961     16.541      0.000     728.494     924.360\n",
      "IS_HAZARDOUS_Y               600.6900    150.954      3.979      0.000     304.793     896.587\n",
      "TIME_ALLOWANCE_TO_COLLECT     -0.8776      0.124     -7.059      0.000      -1.121      -0.634\n",
      "TIME_ALLOWANCE_TO_DELIVERY     0.0011      0.002      0.666      0.506      -0.002       0.004\n",
      "MAX_TIME_TO_SERVICE            0.0008      0.001      0.698      0.485      -0.001       0.003\n",
      "==============================================================================\n",
      "Omnibus:                     4915.689   Durbin-Watson:                   1.988\n",
      "Prob(Omnibus):                  0.000   Jarque-Bera (JB):           134275.905\n",
      "Skew:                           1.509   Prob(JB):                         0.00\n",
      "Kurtosis:                      19.628   Cond. No.                     2.43e+19\n",
      "==============================================================================\n",
      "\n",
      "Notes:\n",
      "[1] Standard Errors assume that the covariance matrix of the errors is correctly specified.\n",
      "[2] The smallest eigenvalue is 1.73e-28. This might indicate that there are\n",
      "strong multicollinearity problems or that the design matrix is singular.\n"
     ]
    }
   ],
   "source": [
    "import statsmodels.api as sm   #using statsmodel library\n",
    "model = sm.OLS(y_train,train_final).fit()\n",
    "print(model.summary())"
   ]
  },
  {
   "cell_type": "markdown",
   "metadata": {},
   "source": [
    "# KNN Regressor"
   ]
  },
  {
   "cell_type": "code",
   "execution_count": 82,
   "metadata": {},
   "outputs": [],
   "source": [
    "from sklearn.neighbors import KNeighborsRegressor\n",
    "knn = KNeighborsRegressor(n_neighbors=5)"
   ]
  },
  {
   "cell_type": "code",
   "execution_count": 83,
   "metadata": {},
   "outputs": [
    {
     "data": {
      "text/html": [
       "<style>#sk-container-id-2 {color: black;background-color: white;}#sk-container-id-2 pre{padding: 0;}#sk-container-id-2 div.sk-toggleable {background-color: white;}#sk-container-id-2 label.sk-toggleable__label {cursor: pointer;display: block;width: 100%;margin-bottom: 0;padding: 0.3em;box-sizing: border-box;text-align: center;}#sk-container-id-2 label.sk-toggleable__label-arrow:before {content: \"▸\";float: left;margin-right: 0.25em;color: #696969;}#sk-container-id-2 label.sk-toggleable__label-arrow:hover:before {color: black;}#sk-container-id-2 div.sk-estimator:hover label.sk-toggleable__label-arrow:before {color: black;}#sk-container-id-2 div.sk-toggleable__content {max-height: 0;max-width: 0;overflow: hidden;text-align: left;background-color: #f0f8ff;}#sk-container-id-2 div.sk-toggleable__content pre {margin: 0.2em;color: black;border-radius: 0.25em;background-color: #f0f8ff;}#sk-container-id-2 input.sk-toggleable__control:checked~div.sk-toggleable__content {max-height: 200px;max-width: 100%;overflow: auto;}#sk-container-id-2 input.sk-toggleable__control:checked~label.sk-toggleable__label-arrow:before {content: \"▾\";}#sk-container-id-2 div.sk-estimator input.sk-toggleable__control:checked~label.sk-toggleable__label {background-color: #d4ebff;}#sk-container-id-2 div.sk-label input.sk-toggleable__control:checked~label.sk-toggleable__label {background-color: #d4ebff;}#sk-container-id-2 input.sk-hidden--visually {border: 0;clip: rect(1px 1px 1px 1px);clip: rect(1px, 1px, 1px, 1px);height: 1px;margin: -1px;overflow: hidden;padding: 0;position: absolute;width: 1px;}#sk-container-id-2 div.sk-estimator {font-family: monospace;background-color: #f0f8ff;border: 1px dotted black;border-radius: 0.25em;box-sizing: border-box;margin-bottom: 0.5em;}#sk-container-id-2 div.sk-estimator:hover {background-color: #d4ebff;}#sk-container-id-2 div.sk-parallel-item::after {content: \"\";width: 100%;border-bottom: 1px solid gray;flex-grow: 1;}#sk-container-id-2 div.sk-label:hover label.sk-toggleable__label {background-color: #d4ebff;}#sk-container-id-2 div.sk-serial::before {content: \"\";position: absolute;border-left: 1px solid gray;box-sizing: border-box;top: 0;bottom: 0;left: 50%;z-index: 0;}#sk-container-id-2 div.sk-serial {display: flex;flex-direction: column;align-items: center;background-color: white;padding-right: 0.2em;padding-left: 0.2em;position: relative;}#sk-container-id-2 div.sk-item {position: relative;z-index: 1;}#sk-container-id-2 div.sk-parallel {display: flex;align-items: stretch;justify-content: center;background-color: white;position: relative;}#sk-container-id-2 div.sk-item::before, #sk-container-id-2 div.sk-parallel-item::before {content: \"\";position: absolute;border-left: 1px solid gray;box-sizing: border-box;top: 0;bottom: 0;left: 50%;z-index: -1;}#sk-container-id-2 div.sk-parallel-item {display: flex;flex-direction: column;z-index: 1;position: relative;background-color: white;}#sk-container-id-2 div.sk-parallel-item:first-child::after {align-self: flex-end;width: 50%;}#sk-container-id-2 div.sk-parallel-item:last-child::after {align-self: flex-start;width: 50%;}#sk-container-id-2 div.sk-parallel-item:only-child::after {width: 0;}#sk-container-id-2 div.sk-dashed-wrapped {border: 1px dashed gray;margin: 0 0.4em 0.5em 0.4em;box-sizing: border-box;padding-bottom: 0.4em;background-color: white;}#sk-container-id-2 div.sk-label label {font-family: monospace;font-weight: bold;display: inline-block;line-height: 1.2em;}#sk-container-id-2 div.sk-label-container {text-align: center;}#sk-container-id-2 div.sk-container {/* jupyter's `normalize.less` sets `[hidden] { display: none; }` but bootstrap.min.css set `[hidden] { display: none !important; }` so we also need the `!important` here to be able to override the default hidden behavior on the sphinx rendered scikit-learn.org. See: https://github.com/scikit-learn/scikit-learn/issues/21755 */display: inline-block !important;position: relative;}#sk-container-id-2 div.sk-text-repr-fallback {display: none;}</style><div id=\"sk-container-id-2\" class=\"sk-top-container\"><div class=\"sk-text-repr-fallback\"><pre>KNeighborsRegressor()</pre><b>In a Jupyter environment, please rerun this cell to show the HTML representation or trust the notebook. <br />On GitHub, the HTML representation is unable to render, please try loading this page with nbviewer.org.</b></div><div class=\"sk-container\" hidden><div class=\"sk-item\"><div class=\"sk-estimator sk-toggleable\"><input class=\"sk-toggleable__control sk-hidden--visually\" id=\"sk-estimator-id-2\" type=\"checkbox\" checked><label for=\"sk-estimator-id-2\" class=\"sk-toggleable__label sk-toggleable__label-arrow\">KNeighborsRegressor</label><div class=\"sk-toggleable__content\"><pre>KNeighborsRegressor()</pre></div></div></div></div></div>"
      ],
      "text/plain": [
       "KNeighborsRegressor()"
      ]
     },
     "execution_count": 83,
     "metadata": {},
     "output_type": "execute_result"
    }
   ],
   "source": [
    "knn.fit(train_final,y_train)"
   ]
  },
  {
   "cell_type": "code",
   "execution_count": 84,
   "metadata": {},
   "outputs": [],
   "source": [
    "train_preds_knn = knn.predict(train_final)"
   ]
  },
  {
   "cell_type": "code",
   "execution_count": 85,
   "metadata": {},
   "outputs": [],
   "source": [
    "test_preds_knn = knn.predict(test_final)"
   ]
  },
  {
   "cell_type": "markdown",
   "metadata": {
    "id": "L11K8tfHTDXf"
   },
   "source": [
    "## Decision Tree Regressor"
   ]
  },
  {
   "cell_type": "code",
   "execution_count": 86,
   "metadata": {
    "colab": {
     "base_uri": "https://localhost:8080/"
    },
    "id": "kcWIf2pqTGhc",
    "outputId": "d085e779-685d-42f1-fe72-dbf00b120dac"
   },
   "outputs": [],
   "source": [
    "from sklearn.tree import DecisionTreeRegressor\n",
    "dtr = DecisionTreeRegressor(max_depth=5, random_state=42)\n",
    "\n",
    "# Train model on training set\n",
    "dtr.fit(train_final, y_train)\n",
    "\n",
    "# Make predictions on test set\n",
    "train_preds_dtr = dtr.predict(train_final)\n",
    "\n",
    "test_preds_dtr = dtr.predict(test_final)"
   ]
  },
  {
   "cell_type": "markdown",
   "metadata": {},
   "source": [
    "## GridSearchCV on Decision Tree"
   ]
  },
  {
   "cell_type": "code",
   "execution_count": 87,
   "metadata": {},
   "outputs": [],
   "source": [
    "parameters ={'max_depth':[10,20],\n",
    "            'min_samples_split':[2,3,4,5],'criterion': ['mse','mae']}"
   ]
  },
  {
   "cell_type": "code",
   "execution_count": 88,
   "metadata": {},
   "outputs": [],
   "source": [
    "dt = DecisionTreeRegressor()"
   ]
  },
  {
   "cell_type": "code",
   "execution_count": 89,
   "metadata": {},
   "outputs": [],
   "source": [
    "grid_search_DT = GridSearchCV(dt,param_grid = parameters,cv=5,n_jobs=-1)"
   ]
  },
  {
   "cell_type": "code",
   "execution_count": 90,
   "metadata": {},
   "outputs": [
    {
     "data": {
      "text/html": [
       "<style>#sk-container-id-3 {color: black;background-color: white;}#sk-container-id-3 pre{padding: 0;}#sk-container-id-3 div.sk-toggleable {background-color: white;}#sk-container-id-3 label.sk-toggleable__label {cursor: pointer;display: block;width: 100%;margin-bottom: 0;padding: 0.3em;box-sizing: border-box;text-align: center;}#sk-container-id-3 label.sk-toggleable__label-arrow:before {content: \"▸\";float: left;margin-right: 0.25em;color: #696969;}#sk-container-id-3 label.sk-toggleable__label-arrow:hover:before {color: black;}#sk-container-id-3 div.sk-estimator:hover label.sk-toggleable__label-arrow:before {color: black;}#sk-container-id-3 div.sk-toggleable__content {max-height: 0;max-width: 0;overflow: hidden;text-align: left;background-color: #f0f8ff;}#sk-container-id-3 div.sk-toggleable__content pre {margin: 0.2em;color: black;border-radius: 0.25em;background-color: #f0f8ff;}#sk-container-id-3 input.sk-toggleable__control:checked~div.sk-toggleable__content {max-height: 200px;max-width: 100%;overflow: auto;}#sk-container-id-3 input.sk-toggleable__control:checked~label.sk-toggleable__label-arrow:before {content: \"▾\";}#sk-container-id-3 div.sk-estimator input.sk-toggleable__control:checked~label.sk-toggleable__label {background-color: #d4ebff;}#sk-container-id-3 div.sk-label input.sk-toggleable__control:checked~label.sk-toggleable__label {background-color: #d4ebff;}#sk-container-id-3 input.sk-hidden--visually {border: 0;clip: rect(1px 1px 1px 1px);clip: rect(1px, 1px, 1px, 1px);height: 1px;margin: -1px;overflow: hidden;padding: 0;position: absolute;width: 1px;}#sk-container-id-3 div.sk-estimator {font-family: monospace;background-color: #f0f8ff;border: 1px dotted black;border-radius: 0.25em;box-sizing: border-box;margin-bottom: 0.5em;}#sk-container-id-3 div.sk-estimator:hover {background-color: #d4ebff;}#sk-container-id-3 div.sk-parallel-item::after {content: \"\";width: 100%;border-bottom: 1px solid gray;flex-grow: 1;}#sk-container-id-3 div.sk-label:hover label.sk-toggleable__label {background-color: #d4ebff;}#sk-container-id-3 div.sk-serial::before {content: \"\";position: absolute;border-left: 1px solid gray;box-sizing: border-box;top: 0;bottom: 0;left: 50%;z-index: 0;}#sk-container-id-3 div.sk-serial {display: flex;flex-direction: column;align-items: center;background-color: white;padding-right: 0.2em;padding-left: 0.2em;position: relative;}#sk-container-id-3 div.sk-item {position: relative;z-index: 1;}#sk-container-id-3 div.sk-parallel {display: flex;align-items: stretch;justify-content: center;background-color: white;position: relative;}#sk-container-id-3 div.sk-item::before, #sk-container-id-3 div.sk-parallel-item::before {content: \"\";position: absolute;border-left: 1px solid gray;box-sizing: border-box;top: 0;bottom: 0;left: 50%;z-index: -1;}#sk-container-id-3 div.sk-parallel-item {display: flex;flex-direction: column;z-index: 1;position: relative;background-color: white;}#sk-container-id-3 div.sk-parallel-item:first-child::after {align-self: flex-end;width: 50%;}#sk-container-id-3 div.sk-parallel-item:last-child::after {align-self: flex-start;width: 50%;}#sk-container-id-3 div.sk-parallel-item:only-child::after {width: 0;}#sk-container-id-3 div.sk-dashed-wrapped {border: 1px dashed gray;margin: 0 0.4em 0.5em 0.4em;box-sizing: border-box;padding-bottom: 0.4em;background-color: white;}#sk-container-id-3 div.sk-label label {font-family: monospace;font-weight: bold;display: inline-block;line-height: 1.2em;}#sk-container-id-3 div.sk-label-container {text-align: center;}#sk-container-id-3 div.sk-container {/* jupyter's `normalize.less` sets `[hidden] { display: none; }` but bootstrap.min.css set `[hidden] { display: none !important; }` so we also need the `!important` here to be able to override the default hidden behavior on the sphinx rendered scikit-learn.org. See: https://github.com/scikit-learn/scikit-learn/issues/21755 */display: inline-block !important;position: relative;}#sk-container-id-3 div.sk-text-repr-fallback {display: none;}</style><div id=\"sk-container-id-3\" class=\"sk-top-container\"><div class=\"sk-text-repr-fallback\"><pre>GridSearchCV(cv=5, estimator=DecisionTreeRegressor(), n_jobs=-1,\n",
       "             param_grid={&#x27;criterion&#x27;: [&#x27;mse&#x27;, &#x27;mae&#x27;], &#x27;max_depth&#x27;: [10, 20],\n",
       "                         &#x27;min_samples_split&#x27;: [2, 3, 4, 5]})</pre><b>In a Jupyter environment, please rerun this cell to show the HTML representation or trust the notebook. <br />On GitHub, the HTML representation is unable to render, please try loading this page with nbviewer.org.</b></div><div class=\"sk-container\" hidden><div class=\"sk-item sk-dashed-wrapped\"><div class=\"sk-label-container\"><div class=\"sk-label sk-toggleable\"><input class=\"sk-toggleable__control sk-hidden--visually\" id=\"sk-estimator-id-3\" type=\"checkbox\" ><label for=\"sk-estimator-id-3\" class=\"sk-toggleable__label sk-toggleable__label-arrow\">GridSearchCV</label><div class=\"sk-toggleable__content\"><pre>GridSearchCV(cv=5, estimator=DecisionTreeRegressor(), n_jobs=-1,\n",
       "             param_grid={&#x27;criterion&#x27;: [&#x27;mse&#x27;, &#x27;mae&#x27;], &#x27;max_depth&#x27;: [10, 20],\n",
       "                         &#x27;min_samples_split&#x27;: [2, 3, 4, 5]})</pre></div></div></div><div class=\"sk-parallel\"><div class=\"sk-parallel-item\"><div class=\"sk-item\"><div class=\"sk-label-container\"><div class=\"sk-label sk-toggleable\"><input class=\"sk-toggleable__control sk-hidden--visually\" id=\"sk-estimator-id-4\" type=\"checkbox\" ><label for=\"sk-estimator-id-4\" class=\"sk-toggleable__label sk-toggleable__label-arrow\">estimator: DecisionTreeRegressor</label><div class=\"sk-toggleable__content\"><pre>DecisionTreeRegressor()</pre></div></div></div><div class=\"sk-serial\"><div class=\"sk-item\"><div class=\"sk-estimator sk-toggleable\"><input class=\"sk-toggleable__control sk-hidden--visually\" id=\"sk-estimator-id-5\" type=\"checkbox\" ><label for=\"sk-estimator-id-5\" class=\"sk-toggleable__label sk-toggleable__label-arrow\">DecisionTreeRegressor</label><div class=\"sk-toggleable__content\"><pre>DecisionTreeRegressor()</pre></div></div></div></div></div></div></div></div></div></div>"
      ],
      "text/plain": [
       "GridSearchCV(cv=5, estimator=DecisionTreeRegressor(), n_jobs=-1,\n",
       "             param_grid={'criterion': ['mse', 'mae'], 'max_depth': [10, 20],\n",
       "                         'min_samples_split': [2, 3, 4, 5]})"
      ]
     },
     "execution_count": 90,
     "metadata": {},
     "output_type": "execute_result"
    }
   ],
   "source": [
    "grid_search_DT.fit(train_final,y_train)"
   ]
  },
  {
   "cell_type": "code",
   "execution_count": 91,
   "metadata": {},
   "outputs": [
    {
     "data": {
      "text/plain": [
       "{'criterion': 'mse', 'max_depth': 10, 'min_samples_split': 4}"
      ]
     },
     "execution_count": 91,
     "metadata": {},
     "output_type": "execute_result"
    }
   ],
   "source": [
    "grid_search_DT.best_params_"
   ]
  },
  {
   "cell_type": "code",
   "execution_count": 92,
   "metadata": {},
   "outputs": [
    {
     "data": {
      "text/plain": [
       "0.8256420670329329"
      ]
     },
     "execution_count": 92,
     "metadata": {},
     "output_type": "execute_result"
    }
   ],
   "source": [
    "grid_search_DT.best_score_"
   ]
  },
  {
   "cell_type": "markdown",
   "metadata": {},
   "source": [
    "# DecisionTreeRegressor using parameters from GridSearchCV"
   ]
  },
  {
   "cell_type": "code",
   "execution_count": 93,
   "metadata": {},
   "outputs": [],
   "source": [
    "from sklearn.tree import DecisionTreeRegressor\n",
    "dtr_gscv = DecisionTreeRegressor(max_depth=10,criterion='mse',min_samples_split=4)\n",
    "\n",
    "# Train model on training set\n",
    "dtr_gscv.fit(train_final, y_train)\n",
    "\n",
    "# Make predictions on test set\n",
    "train_preds_dtr_gscv = dtr_gscv.predict(train_final)\n",
    "\n",
    "test_preds_dtr_gscv = dtr_gscv.predict(test_final)"
   ]
  },
  {
   "cell_type": "markdown",
   "metadata": {},
   "source": [
    "# RandomForestRegressor"
   ]
  },
  {
   "cell_type": "code",
   "execution_count": 94,
   "metadata": {},
   "outputs": [],
   "source": [
    "from sklearn.ensemble import RandomForestRegressor"
   ]
  },
  {
   "cell_type": "code",
   "execution_count": 95,
   "metadata": {},
   "outputs": [],
   "source": [
    "rfr = RandomForestRegressor()\n",
    "rfr.fit(train_final,y_train)\n",
    "train_preds_rfr = rfr.predict(train_final)\n",
    "test_preds_rfr = rfr.predict(test_final)"
   ]
  },
  {
   "cell_type": "markdown",
   "metadata": {},
   "source": [
    "# Stacking"
   ]
  },
  {
   "cell_type": "code",
   "execution_count": 96,
   "metadata": {},
   "outputs": [],
   "source": [
    "from sklearn.ensemble import RandomForestRegressor\n",
    "from sklearn.ensemble import GradientBoostingRegressor\n",
    "from sklearn.ensemble import StackingRegressor\n",
    "# Define the base regressors\n",
    "base_regressors = [\n",
    "    ('linear', LinearRegression()),\n",
    "    ('random_forest', RandomForestRegressor(random_state=42)),\n",
    "    ('gradient_boosting', GradientBoostingRegressor(random_state=42))\n",
    "]\n",
    "\n",
    "# Define the meta-regressor\n",
    "meta_regressor = LinearRegression()\n",
    "\n",
    "# Create the stacking regressor\n",
    "stacking_regressor = StackingRegressor(estimators=base_regressors, final_estimator=meta_regressor)\n",
    "\n",
    "# Train the stacking regressor\n",
    "stacking_regressor.fit(train_final, y_train)\n",
    "\n",
    "# Make predictions on the train set\n",
    "train_preds_stack = stacking_regressor.predict(train_final)\n",
    "\n",
    "# Make predictions on the test set\n",
    "test_preds_stack = stacking_regressor.predict(test_final)"
   ]
  },
  {
   "cell_type": "code",
   "execution_count": null,
   "metadata": {},
   "outputs": [],
   "source": []
  },
  {
   "cell_type": "markdown",
   "metadata": {},
   "source": [
    "### Error Metrics for different models"
   ]
  },
  {
   "cell_type": "code",
   "execution_count": 97,
   "metadata": {},
   "outputs": [],
   "source": [
    "from sklearn.metrics import mean_absolute_error,mean_squared_error,r2_score"
   ]
  },
  {
   "cell_type": "code",
   "execution_count": 98,
   "metadata": {},
   "outputs": [],
   "source": [
    "def metrics(y_actual, y_pred, model_name):\n",
    "\n",
    "    metrics = {}\n",
    "    \n",
    "    # Mean Absolute Error (MAE)\n",
    "    MAE = mean_absolute_error(y_actual, y_pred)\n",
    "    metrics['MAE'] = MAE\n",
    "    \n",
    "    # Mean Squared Error (MSE)\n",
    "    MSE = mean_squared_error(y_actual, y_pred)\n",
    "    metrics['MSE'] = MSE\n",
    "    \n",
    "    # Root Mean Squared Error (RMSE)\n",
    "    RMSE = mean_squared_error(y_actual, y_pred, squared=False)\n",
    "    metrics['RMSE'] = RMSE\n",
    "    \n",
    "    # R-squared (R²)\n",
    "    R2 = r2_score(y_actual, y_pred)\n",
    "    metrics['R-squared'] = R2\n",
    "    \n",
    "    #creating a dataframe of different metrics from different models\n",
    "    df = pd.DataFrame(metrics, index=[model_name])\n",
    "    \n",
    "    return df\n"
   ]
  },
  {
   "cell_type": "markdown",
   "metadata": {},
   "source": [
    "### Metrics function for different models on train data"
   ]
  },
  {
   "cell_type": "code",
   "execution_count": 99,
   "metadata": {
    "scrolled": true
   },
   "outputs": [],
   "source": [
    "model_metrics = []  # List to store the metrics for each model\n",
    "\n",
    "# Calculate metrics for Linear Regression\n",
    "metrics_model1 = metrics(y_train,train_preds_lr, \"Linear Regression\")\n",
    "model_metrics.append(metrics_model1)\n",
    "\n",
    "# Calculate metrics for Ridge Regression\n",
    "metrics_model11 = metrics(y_train,train_preds_ridge, \"Ridge Regression\")\n",
    "model_metrics.append(metrics_model11)\n",
    "\n",
    "# Calculate metrics for KNN\n",
    "metrics_model12 = metrics(y_train,train_preds_knn, \"KNN\")\n",
    "model_metrics.append(metrics_model12)\n",
    "\n",
    "# Calculate metrics for DecisionTree \n",
    "metrics_model2 = metrics(y_train,train_preds_dtr, \"DecisionTree\")\n",
    "model_metrics.append(metrics_model2)\n",
    "\n",
    "# Calculate metrics for DecisionTree with gridsearchcv\n",
    "metrics_model3 = metrics(y_train,train_preds_dtr_gscv, \"DecisionTree_GSCV\")\n",
    "model_metrics.append(metrics_model3)\n",
    "\n",
    "# Calculate metrics for RandomForestRegressor\n",
    "metrics_model4 = metrics(y_train,train_preds_rfr, \"RandomForestRegressor\")\n",
    "model_metrics.append(metrics_model4)\n",
    "\n",
    "# Calculate metrics for Stacking\n",
    "metrics_model5 = metrics(y_train,train_preds_stack, \"stacking\")\n",
    "model_metrics.append(metrics_model5)\n",
    "\n",
    "# Concatenate the DataFrames\n",
    "train_all_metrics = pd.concat(model_metrics)\n"
   ]
  },
  {
   "cell_type": "markdown",
   "metadata": {},
   "source": [
    "### Metrics function for different models on test data"
   ]
  },
  {
   "cell_type": "code",
   "execution_count": 100,
   "metadata": {},
   "outputs": [],
   "source": [
    "model_metrics = []  # List to store the metrics for each model\n",
    "\n",
    "# Calculate metrics for Linear Regression\n",
    "metrics_model1 = metrics(y_test,test_preds_lr, \"Linear Regression\")\n",
    "model_metrics.append(metrics_model1)\n",
    "\n",
    "# Calculate metrics for Ridge Regression\n",
    "metrics_model11 = metrics(y_test,test_preds_ridge, \"Ridge Regression\")\n",
    "model_metrics.append(metrics_model11)\n",
    "\n",
    "# Calculate metrics for KNN\n",
    "metrics_model2 = metrics(y_test,test_preds_knn, \"KNN\")\n",
    "model_metrics.append(metrics_model2)\n",
    "\n",
    "\n",
    "# Calculate metrics for DecisionTree \n",
    "metrics_model3 = metrics(y_test,test_preds_dtr, \"DecisionTree\")\n",
    "model_metrics.append(metrics_model3)\n",
    "\n",
    "# Calculate metrics for DecisionTree with gridsearchcv\n",
    "metrics_model4 = metrics(y_test,test_preds_dtr_gscv, \"DecisionTree_GSCV\")\n",
    "model_metrics.append(metrics_model4)\n",
    "\n",
    "# Calculate metrics for RandomForestRegressor\n",
    "metrics_model5 = metrics(y_test,test_preds_rfr, \"RandomForestRegressor\")\n",
    "model_metrics.append(metrics_model5)\n",
    "\n",
    "# Calculate metrics for Stacking\n",
    "metrics_model6 = metrics(y_test,test_preds_stack, \"stacking\")\n",
    "model_metrics.append(metrics_model6)\n",
    "\n",
    "# Concatenate the DataFrames\n",
    "test_all_metrics = pd.concat(model_metrics)"
   ]
  },
  {
   "cell_type": "code",
   "execution_count": 101,
   "metadata": {},
   "outputs": [
    {
     "data": {
      "text/html": [
       "<div>\n",
       "<style scoped>\n",
       "    .dataframe tbody tr th:only-of-type {\n",
       "        vertical-align: middle;\n",
       "    }\n",
       "\n",
       "    .dataframe tbody tr th {\n",
       "        vertical-align: top;\n",
       "    }\n",
       "\n",
       "    .dataframe thead th {\n",
       "        text-align: right;\n",
       "    }\n",
       "</style>\n",
       "<table border=\"1\" class=\"dataframe\">\n",
       "  <thead>\n",
       "    <tr style=\"text-align: right;\">\n",
       "      <th></th>\n",
       "      <th>MAE</th>\n",
       "      <th>MSE</th>\n",
       "      <th>RMSE</th>\n",
       "      <th>R-squared</th>\n",
       "    </tr>\n",
       "  </thead>\n",
       "  <tbody>\n",
       "    <tr>\n",
       "      <th>Linear Regression</th>\n",
       "      <td>234.751016</td>\n",
       "      <td>122927.400494</td>\n",
       "      <td>350.610040</td>\n",
       "      <td>0.664086</td>\n",
       "    </tr>\n",
       "    <tr>\n",
       "      <th>Ridge Regression</th>\n",
       "      <td>234.995384</td>\n",
       "      <td>123029.789429</td>\n",
       "      <td>350.756026</td>\n",
       "      <td>0.663807</td>\n",
       "    </tr>\n",
       "    <tr>\n",
       "      <th>KNN</th>\n",
       "      <td>216.464224</td>\n",
       "      <td>103476.708206</td>\n",
       "      <td>321.677957</td>\n",
       "      <td>0.717238</td>\n",
       "    </tr>\n",
       "    <tr>\n",
       "      <th>DecisionTree</th>\n",
       "      <td>200.606969</td>\n",
       "      <td>79341.675899</td>\n",
       "      <td>281.676545</td>\n",
       "      <td>0.783190</td>\n",
       "    </tr>\n",
       "    <tr>\n",
       "      <th>DecisionTree_GSCV</th>\n",
       "      <td>118.351493</td>\n",
       "      <td>34288.282079</td>\n",
       "      <td>185.170954</td>\n",
       "      <td>0.906303</td>\n",
       "    </tr>\n",
       "    <tr>\n",
       "      <th>RandomForestRegressor</th>\n",
       "      <td>38.178570</td>\n",
       "      <td>5105.973544</td>\n",
       "      <td>71.456095</td>\n",
       "      <td>0.986047</td>\n",
       "    </tr>\n",
       "    <tr>\n",
       "      <th>stacking</th>\n",
       "      <td>39.088068</td>\n",
       "      <td>5348.550647</td>\n",
       "      <td>73.133786</td>\n",
       "      <td>0.985384</td>\n",
       "    </tr>\n",
       "  </tbody>\n",
       "</table>\n",
       "</div>"
      ],
      "text/plain": [
       "                              MAE            MSE        RMSE  R-squared\n",
       "Linear Regression      234.751016  122927.400494  350.610040   0.664086\n",
       "Ridge Regression       234.995384  123029.789429  350.756026   0.663807\n",
       "KNN                    216.464224  103476.708206  321.677957   0.717238\n",
       "DecisionTree           200.606969   79341.675899  281.676545   0.783190\n",
       "DecisionTree_GSCV      118.351493   34288.282079  185.170954   0.906303\n",
       "RandomForestRegressor   38.178570    5105.973544   71.456095   0.986047\n",
       "stacking                39.088068    5348.550647   73.133786   0.985384"
      ]
     },
     "execution_count": 101,
     "metadata": {},
     "output_type": "execute_result"
    }
   ],
   "source": [
    "train_all_metrics"
   ]
  },
  {
   "cell_type": "code",
   "execution_count": 102,
   "metadata": {},
   "outputs": [
    {
     "data": {
      "text/html": [
       "<div>\n",
       "<style scoped>\n",
       "    .dataframe tbody tr th:only-of-type {\n",
       "        vertical-align: middle;\n",
       "    }\n",
       "\n",
       "    .dataframe tbody tr th {\n",
       "        vertical-align: top;\n",
       "    }\n",
       "\n",
       "    .dataframe thead th {\n",
       "        text-align: right;\n",
       "    }\n",
       "</style>\n",
       "<table border=\"1\" class=\"dataframe\">\n",
       "  <thead>\n",
       "    <tr style=\"text-align: right;\">\n",
       "      <th></th>\n",
       "      <th>MAE</th>\n",
       "      <th>MSE</th>\n",
       "      <th>RMSE</th>\n",
       "      <th>R-squared</th>\n",
       "    </tr>\n",
       "  </thead>\n",
       "  <tbody>\n",
       "    <tr>\n",
       "      <th>Linear Regression</th>\n",
       "      <td>251.053464</td>\n",
       "      <td>634364.844090</td>\n",
       "      <td>796.470241</td>\n",
       "      <td>-0.680786</td>\n",
       "    </tr>\n",
       "    <tr>\n",
       "      <th>Ridge Regression</th>\n",
       "      <td>251.217550</td>\n",
       "      <td>638293.437441</td>\n",
       "      <td>798.932686</td>\n",
       "      <td>-0.691195</td>\n",
       "    </tr>\n",
       "    <tr>\n",
       "      <th>KNN</th>\n",
       "      <td>268.098904</td>\n",
       "      <td>154411.419869</td>\n",
       "      <td>392.952185</td>\n",
       "      <td>0.590878</td>\n",
       "    </tr>\n",
       "    <tr>\n",
       "      <th>DecisionTree</th>\n",
       "      <td>205.205338</td>\n",
       "      <td>82565.746442</td>\n",
       "      <td>287.342559</td>\n",
       "      <td>0.781237</td>\n",
       "    </tr>\n",
       "    <tr>\n",
       "      <th>DecisionTree_GSCV</th>\n",
       "      <td>146.114636</td>\n",
       "      <td>55589.323513</td>\n",
       "      <td>235.773882</td>\n",
       "      <td>0.852713</td>\n",
       "    </tr>\n",
       "    <tr>\n",
       "      <th>RandomForestRegressor</th>\n",
       "      <td>102.394330</td>\n",
       "      <td>31591.740541</td>\n",
       "      <td>177.740655</td>\n",
       "      <td>0.916296</td>\n",
       "    </tr>\n",
       "    <tr>\n",
       "      <th>stacking</th>\n",
       "      <td>101.830126</td>\n",
       "      <td>31244.257791</td>\n",
       "      <td>176.760453</td>\n",
       "      <td>0.917217</td>\n",
       "    </tr>\n",
       "  </tbody>\n",
       "</table>\n",
       "</div>"
      ],
      "text/plain": [
       "                              MAE            MSE        RMSE  R-squared\n",
       "Linear Regression      251.053464  634364.844090  796.470241  -0.680786\n",
       "Ridge Regression       251.217550  638293.437441  798.932686  -0.691195\n",
       "KNN                    268.098904  154411.419869  392.952185   0.590878\n",
       "DecisionTree           205.205338   82565.746442  287.342559   0.781237\n",
       "DecisionTree_GSCV      146.114636   55589.323513  235.773882   0.852713\n",
       "RandomForestRegressor  102.394330   31591.740541  177.740655   0.916296\n",
       "stacking               101.830126   31244.257791  176.760453   0.917217"
      ]
     },
     "execution_count": 102,
     "metadata": {},
     "output_type": "execute_result"
    }
   ],
   "source": [
    "test_all_metrics"
   ]
  },
  {
   "cell_type": "code",
   "execution_count": null,
   "metadata": {},
   "outputs": [],
   "source": []
  },
  {
   "cell_type": "code",
   "execution_count": null,
   "metadata": {},
   "outputs": [],
   "source": []
  }
 ],
 "metadata": {
  "colab": {
   "provenance": [],
   "toc_visible": true
  },
  "kernelspec": {
   "display_name": "Python 3 (ipykernel)",
   "language": "python",
   "name": "python3"
  },
  "language_info": {
   "codemirror_mode": {
    "name": "ipython",
    "version": 3
   },
   "file_extension": ".py",
   "mimetype": "text/x-python",
   "name": "python",
   "nbconvert_exporter": "python",
   "pygments_lexer": "ipython3",
   "version": "3.9.12"
  }
 },
 "nbformat": 4,
 "nbformat_minor": 1
}
